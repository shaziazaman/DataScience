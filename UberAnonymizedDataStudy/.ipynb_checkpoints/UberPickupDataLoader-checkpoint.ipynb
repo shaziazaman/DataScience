{
 "cells": [
  {
   "cell_type": "code",
   "execution_count": 2,
   "metadata": {
    "collapsed": true
   },
   "outputs": [],
   "source": [
    "#conda install pymsql\n",
    "\n",
    "import pandas as pd\n",
    "import glob\n",
    "import pymysql\n",
    "import numpy as np\n",
    "from sqlalchemy.exc import IntegrityError"
   ]
  },
  {
   "cell_type": "code",
   "execution_count": null,
   "metadata": {
    "collapsed": true
   },
   "outputs": [],
   "source": [
    "# review csv files for uber pickup\n",
    "uberFileList = glob.glob(\"<working path>\\\\data\\\\uber\\\\uber-raw-data-*14.csv\")\n",
    "for i in range(0,len(uberFileList)):\n",
    "    df = pd.read_csv(uberFileList[i], encoding = \"ISO-8859-1\")\n",
    "    print('filename: {0}\\n{1}'.format(uberFileList[i],df.head(2)))\n",
    "    print(df.dtypes)"
   ]
  },
  {
   "cell_type": "code",
   "execution_count": null,
   "metadata": {
    "collapsed": true
   },
   "outputs": [],
   "source": [
    "#test connection\n",
    "conn = pymysql.connect(host='db host ip'\n",
    "                       , port=3306\n",
    "                       , user='user'\n",
    "                       , passwd='password'\n",
    "                       , db='riders')\n",
    "cur = conn.cursor()\n",
    "cur.execute(\"select system_user() from dual\")\n",
    "print(cur.description)\n",
    "print()\n",
    "for row in cur:\n",
    "    print(row)\n",
    "cur.close()\n",
    "conn.close()"
   ]
  },
  {
   "cell_type": "code",
   "execution_count": 9,
   "metadata": {
    "collapsed": true
   },
   "outputs": [],
   "source": [
    "# create table coordinates\n",
    "conn = pymysql.connect(host='db host ip', port=3306, user='user', passwd='password', db='riders')\n",
    "cur = conn.cursor()\n",
    "cur.execute(\"Create table if not exists riders.coordinates(Lat numeric(10,4) not null, Lon numeric(10,4) not null, primary key( Lat, Lon))\")\n",
    "cur.close()\n",
    "conn.close()"
   ]
  },
  {
   "cell_type": "code",
   "execution_count": 4,
   "metadata": {
    "collapsed": true
   },
   "outputs": [],
   "source": [
    "# alter table coordinates\n",
    "conn = pymysql.connect(host='db host ip', port=3306, user='user', passwd='password', db='riders')\n",
    "cur = conn.cursor()\n",
    "cur.execute(\"alter table riders.coordinates add column Processed numeric(1) default 0\")\n",
    "cur.close()\n",
    "conn.close()"
   ]
  },
  {
   "cell_type": "code",
   "execution_count": null,
   "metadata": {
    "collapsed": true
   },
   "outputs": [],
   "source": [
    "#load data into riders.coordinates table\n",
    "uberFileList = glob.glob(\"<working path>\\\\data\\\\uber\\\\uber-raw-data-*14.csv\")\n",
    "conn = pymysql.connect(host='db host ip', port=3306, user='user', passwd='password', db='riders')\n",
    "query = 'insert ignore into riders.coordinates(Lat, Lon) values(%s,%s)'\n",
    "for i in range(0,len(uberFileList)):\n",
    "    df = pd.read_csv(uberFileList[i], encoding = \"ISO-8859-1\")\n",
    "    df[['Lat','Lon']]=df[['Lat','Lon']].astype(np.float64)\n",
    "    df_coordinates = df[['Lat','Lon']]\n",
    "    print('loading data into riders coordinates from file ', uberFileList[i])\n",
    "    df_coordinates_list = df_coordinates.values.tolist()\n",
    "    cur = conn.cursor()\n",
    "    try:\n",
    "        cur.executemany(query,df_coordinates_list)\n",
    "    except:\n",
    "        pass\n",
    "    cur.close()\n",
    "    conn.commit()\n",
    "conn.close()"
   ]
  },
  {
   "cell_type": "code",
   "execution_count": null,
   "metadata": {
    "collapsed": true
   },
   "outputs": [],
   "source": [
    "# create table uber_pickup\n",
    "conn = pymysql.connect(host='db host ip', port=3306, user='user', passwd='password', db='riders')\n",
    "cur = conn.cursor()\n",
    "cur.execute(\"Create table if not exists riders.uber_pickup \\\n",
    "(Pickup_Time datetime not null, Lat numeric(10,4) not null, Lon numeric(10,4), Base varchar(10) not null, \\\n",
    "primary key(Pickup_Time, Lat, Lon, Base), foreign key (Lat, Lon) references riders.coordinates(Lat, Lon) )\")\n",
    "cur.close()\n",
    "conn.close()"
   ]
  },
  {
   "cell_type": "code",
   "execution_count": null,
   "metadata": {
    "collapsed": true
   },
   "outputs": [],
   "source": [
    "#load data to uber_pickup table\n",
    "import datetime as dt\n",
    "time.strftime('%Y-%m-%d %H:%M:%S')\n",
    "uberFileList = glob.glob(\"<working path>\\\\data\\\\uber\\\\uber-raw-data-*14.csv\")\n",
    "conn = pymysql.connect(host='192.168.1.95', port=3306, user='msds6210team', passwd='msds6210uber', db='riders')\n",
    "query = 'insert ignore into riders.uber_pickup(Pickup_Time, Lat, Lon, Base) value(%s, %s, %s, %s)'\n",
    "for i in range(0,len(uberFileList)):\n",
    "    df = pd.read_csv(uberFileList[i], encoding = \"ISO-8859-1\")\n",
    "    df[['Lat','Lon']]=df[['Lat','Lon']].astype(np.float64)\n",
    "    df['Base']=df['Base'].astype(str)\n",
    "    df['Date/Time']=pd.to_datetime(df['Date/Time'],format=\"%m/%d/%Y %H:%M:%S\")\n",
    "    df['Date/Time']=df['Date/Time'].apply(lambda x: dt.datetime.strftime(x, '%Y-%m-%d %H:%M:%S'))\n",
    "#     print(df.dtypes)\n",
    "#     print(df.head(2))\n",
    "    print('loading data into riders.coordinates from file ', uberFileList[i])\n",
    "    df_list = df.values.tolist()\n",
    "    print(df_list[0])\n",
    "    cur = conn.cursor()\n",
    "    try:\n",
    "        cur.executemany(query,df_list)\n",
    "    except:\n",
    "        pass\n",
    "    cur.close()\n",
    "    conn.commit()\n",
    "conn.close()"
   ]
  },
  {
   "cell_type": "code",
   "execution_count": null,
   "metadata": {
    "collapsed": true
   },
   "outputs": [],
   "source": [
    "otherFileList = glob.glob(\"<working path>\\\\data\\\\uber\\\\other*.csv\")\n",
    "for i in range(0,len(otherFileList)):\n",
    "    df = pd.read_csv(otherFileList[i], encoding = \"ISO-8859-1\")\n",
    "    print('filename: ',otherFileList[i])\n",
    "    print(df.head(2))"
   ]
  },
  {
   "cell_type": "code",
   "execution_count": null,
   "metadata": {
    "collapsed": true
   },
   "outputs": [],
   "source": []
  }
 ],
 "metadata": {
  "kernelspec": {
   "display_name": "Python 3",
   "language": "python",
   "name": "python3"
  },
  "language_info": {
   "codemirror_mode": {
    "name": "ipython",
    "version": 3
   },
   "file_extension": ".py",
   "mimetype": "text/x-python",
   "name": "python",
   "nbconvert_exporter": "python",
   "pygments_lexer": "ipython3",
   "version": "3.6.3"
  }
 },
 "nbformat": 4,
 "nbformat_minor": 1
}
