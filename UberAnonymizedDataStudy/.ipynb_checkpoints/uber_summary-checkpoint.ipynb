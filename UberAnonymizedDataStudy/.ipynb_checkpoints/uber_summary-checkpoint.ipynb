{
 "cells": [
  {
   "cell_type": "code",
   "execution_count": 361,
   "metadata": {
    "collapsed": true
   },
   "outputs": [],
   "source": [
    "from datetime import datetime\n",
    "import numpy as np\n",
    "import pandas as pd\n",
    "import pymysql\n",
    "import matplotlib.pyplot as plt\n",
    "%matplotlib inline\n",
    "\n",
    "rhost='db host ip'\n",
    "rport=3306\n",
    "ruser='user'\n",
    "rpasswd='password'\n",
    "rdb='riders'"
   ]
  },
  {
   "cell_type": "code",
   "execution_count": null,
   "metadata": {
    "collapsed": true
   },
   "outputs": [],
   "source": [
    "conn = pymysql.connect(host=rhost\n",
    "                       , port=rport\n",
    "                       , user=ruser\n",
    "                       , passwd=rpasswd\n",
    "                       , db=rdb)\n",
    "df_user = pd.read_sql(\"select system_user() from dual\",conn)\n",
    "conn.close()\n",
    "df_user.head()"
   ]
  },
  {
   "cell_type": "code",
   "execution_count": 363,
   "metadata": {},
   "outputs": [
    {
     "data": {
      "text/html": [
       "<div>\n",
       "<table border=\"1\" class=\"dataframe\">\n",
       "  <thead>\n",
       "    <tr style=\"text-align: right;\">\n",
       "      <th></th>\n",
       "      <th>Pickup_Time</th>\n",
       "      <th>Neighborhood</th>\n",
       "      <th>Sublocality</th>\n",
       "      <th>Locality</th>\n",
       "      <th>County</th>\n",
       "      <th>State</th>\n",
       "      <th>Country</th>\n",
       "      <th>Lat</th>\n",
       "      <th>Lon</th>\n",
       "    </tr>\n",
       "  </thead>\n",
       "  <tbody>\n",
       "    <tr>\n",
       "      <th>0</th>\n",
       "      <td>2014-08-01 19:32:00</td>\n",
       "      <td>Beach Haven West</td>\n",
       "      <td></td>\n",
       "      <td>Stafford Township</td>\n",
       "      <td>Ocean County</td>\n",
       "      <td>NJ</td>\n",
       "      <td>US</td>\n",
       "      <td>39.6569</td>\n",
       "      <td>-74.2258</td>\n",
       "    </tr>\n",
       "    <tr>\n",
       "      <th>1</th>\n",
       "      <td>2014-08-22 20:05:00</td>\n",
       "      <td>Brightwater Cottages</td>\n",
       "      <td></td>\n",
       "      <td>Toms River</td>\n",
       "      <td>Ocean County</td>\n",
       "      <td>NJ</td>\n",
       "      <td>US</td>\n",
       "      <td>39.9819</td>\n",
       "      <td>-74.0661</td>\n",
       "    </tr>\n",
       "    <tr>\n",
       "      <th>2</th>\n",
       "      <td>2014-08-22 20:05:00</td>\n",
       "      <td>Dover Beaches North</td>\n",
       "      <td></td>\n",
       "      <td>Toms River</td>\n",
       "      <td>Ocean County</td>\n",
       "      <td>NJ</td>\n",
       "      <td>US</td>\n",
       "      <td>39.9819</td>\n",
       "      <td>-74.0661</td>\n",
       "    </tr>\n",
       "    <tr>\n",
       "      <th>3</th>\n",
       "      <td>2014-08-31 20:48:00</td>\n",
       "      <td>Dover Beaches North</td>\n",
       "      <td></td>\n",
       "      <td>Toms River</td>\n",
       "      <td>Ocean County</td>\n",
       "      <td>NJ</td>\n",
       "      <td>US</td>\n",
       "      <td>39.9824</td>\n",
       "      <td>-74.0705</td>\n",
       "    </tr>\n",
       "    <tr>\n",
       "      <th>4</th>\n",
       "      <td>2014-08-31 20:28:00</td>\n",
       "      <td>Dover Beaches North</td>\n",
       "      <td></td>\n",
       "      <td>Toms River</td>\n",
       "      <td>Ocean County</td>\n",
       "      <td>NJ</td>\n",
       "      <td>US</td>\n",
       "      <td>39.9827</td>\n",
       "      <td>-74.0681</td>\n",
       "    </tr>\n",
       "  </tbody>\n",
       "</table>\n",
       "</div>"
      ],
      "text/plain": [
       "          Pickup_Time          Neighborhood Sublocality           Locality  \\\n",
       "0 2014-08-01 19:32:00      Beach Haven West              Stafford Township   \n",
       "1 2014-08-22 20:05:00  Brightwater Cottages                     Toms River   \n",
       "2 2014-08-22 20:05:00   Dover Beaches North                     Toms River   \n",
       "3 2014-08-31 20:48:00   Dover Beaches North                     Toms River   \n",
       "4 2014-08-31 20:28:00   Dover Beaches North                     Toms River   \n",
       "\n",
       "         County State Country      Lat      Lon  \n",
       "0  Ocean County    NJ      US  39.6569 -74.2258  \n",
       "1  Ocean County    NJ      US  39.9819 -74.0661  \n",
       "2  Ocean County    NJ      US  39.9819 -74.0661  \n",
       "3  Ocean County    NJ      US  39.9824 -74.0705  \n",
       "4  Ocean County    NJ      US  39.9827 -74.0681  "
      ]
     },
     "execution_count": 363,
     "metadata": {},
     "output_type": "execute_result"
    }
   ],
   "source": [
    "conn = pymysql.connect(host=rhost\n",
    "                       , port=rport\n",
    "                       , user=ruser\n",
    "                       , passwd=rpasswd\n",
    "                       , db=rdb)\n",
    "sql_select = \"SELECT u.Pickup_Time, n.* FROM uber_pickup u, neighborhood n, coordinates c \\\n",
    "              WHERE c.lat = u.lat AND c.lon = u.lon AND c.processed = 1 \\\n",
    "              AND n.lat = c.lat AND n.lon = c.lon;\"\n",
    "\n",
    "uber_df = pd.read_sql(sql_select,conn)\n",
    "conn.close()\n",
    "uber_df.head()\n"
   ]
  },
  {
   "cell_type": "code",
   "execution_count": 364,
   "metadata": {},
   "outputs": [
    {
     "data": {
      "text/plain": [
       "Neighborhood         \n",
       "Adelphia       count                       1\n",
       "               unique                      1\n",
       "               top       2014-08-14 23:13:00\n",
       "               freq                        1\n",
       "               first     2014-08-14 23:13:00\n",
       "               last      2014-08-14 23:13:00\n",
       "Alphabet City  count                    1103\n",
       "               unique                   1098\n",
       "               top       2014-09-25 21:22:00\n",
       "               freq                        2\n",
       "               first     2014-04-01 08:41:00\n",
       "               last      2014-09-30 20:19:00\n",
       "Name: Pickup_Time, dtype: object"
      ]
     },
     "execution_count": 364,
     "metadata": {},
     "output_type": "execute_result"
    }
   ],
   "source": [
    "uber_neighborhood_sg = uber_df['Pickup_Time'].groupby(uber_df['Neighborhood'])\n",
    "uber_neighborhood_sg.describe().head(12)"
   ]
  },
  {
   "cell_type": "code",
   "execution_count": 365,
   "metadata": {},
   "outputs": [
    {
     "data": {
      "text/plain": [
       "pandas.core.groupby.SeriesGroupBy"
      ]
     },
     "execution_count": 365,
     "metadata": {},
     "output_type": "execute_result"
    }
   ],
   "source": [
    "type(uber_neighborhood_sg)"
   ]
  },
  {
   "cell_type": "code",
   "execution_count": 366,
   "metadata": {},
   "outputs": [
    {
     "name": "stdout",
     "output_type": "stream",
     "text": [
      "Neighborhood with lowest ubder pickup\n",
      "       Neighborhood  count\n",
      "0         Adelphia      1\n",
      "51       Concordia      1\n",
      "56          Dayton      1\n",
      "65   East Freehold      1\n",
      "117        Keasbey      1\n",
      "Neighborhood with highest ubder pickup\n",
      "            Neighborhood  count\n",
      "89              Gowanus  13723\n",
      "131     Lower Manhattan  20169\n",
      "16   Bedford-Stuyvesant  23702\n",
      "54        Crown Heights  26534\n",
      "166          Park Slope  39346\n"
     ]
    }
   ],
   "source": [
    "# get count by neighbourhood\n",
    "neighborhood_df = pd.DataFrame({'count' : uber_neighborhood_sg.size()}).reset_index()\n",
    "print('Neighborhood with lowest ubder pickup\\n', neighborhood_df.sort_values(by='count').head(5))\n",
    "print('Neighborhood with highest ubder pickup\\n',neighborhood_df.sort_values(by='count').tail(5))"
   ]
  },
  {
   "cell_type": "code",
   "execution_count": 367,
   "metadata": {},
   "outputs": [
    {
     "data": {
      "text/plain": [
       "<matplotlib.text.Text at 0x161827ac438>"
      ]
     },
     "execution_count": 367,
     "metadata": {},
     "output_type": "execute_result"
    },
    {
     "data": {
      "image/png": "[encoded data removed]",
      "text/plain": [
       "<matplotlib.figure.Figure at 0x16180e90550>"
      ]
     },
     "metadata": {},
     "output_type": "display_data"
    }
   ],
   "source": [
    "neighborhool_plot = neighborhood_df.plot(title='Uber Pickups by Neighborhood', figsize=(9,6))\n",
    "neighborhool_plot.set_xlabel('Neighborhood Index')\n",
    "neighborhool_plot.set_ylabel('Uber pickup count')"
   ]
  },
  {
   "cell_type": "markdown",
   "metadata": {},
   "source": [
    "From the above plot, it seems like most of the uber pickup happen in Neighborhood of Park Slope, Crown Heights and Bedford-Stuyvesant. "
   ]
  },
  {
   "cell_type": "code",
   "execution_count": 368,
   "metadata": {},
   "outputs": [
    {
     "data": {
      "text/html": [
       "<div>\n",
       "<table border=\"1\" class=\"dataframe\">\n",
       "  <thead>\n",
       "    <tr style=\"text-align: right;\">\n",
       "      <th></th>\n",
       "      <th>Pickup_Time</th>\n",
       "      <th>Neighborhood</th>\n",
       "      <th>Sublocality</th>\n",
       "      <th>Locality</th>\n",
       "      <th>County</th>\n",
       "      <th>State</th>\n",
       "      <th>Country</th>\n",
       "      <th>Lat</th>\n",
       "      <th>Lon</th>\n",
       "    </tr>\n",
       "  </thead>\n",
       "  <tbody>\n",
       "    <tr>\n",
       "      <th>58331</th>\n",
       "      <td>2014-09-26 00:28:00</td>\n",
       "      <td>Park Slope</td>\n",
       "      <td>Brooklyn</td>\n",
       "      <td>New York</td>\n",
       "      <td>Kings County</td>\n",
       "      <td>NY</td>\n",
       "      <td>US</td>\n",
       "      <td>40.6577</td>\n",
       "      <td>-73.9829</td>\n",
       "    </tr>\n",
       "    <tr>\n",
       "      <th>58510</th>\n",
       "      <td>2014-05-26 00:23:00</td>\n",
       "      <td>Park Slope</td>\n",
       "      <td>Brooklyn</td>\n",
       "      <td>New York</td>\n",
       "      <td>Kings County</td>\n",
       "      <td>NY</td>\n",
       "      <td>US</td>\n",
       "      <td>40.6578</td>\n",
       "      <td>-73.9829</td>\n",
       "    </tr>\n",
       "    <tr>\n",
       "      <th>58511</th>\n",
       "      <td>2014-06-19 00:24:00</td>\n",
       "      <td>Park Slope</td>\n",
       "      <td>Brooklyn</td>\n",
       "      <td>New York</td>\n",
       "      <td>Kings County</td>\n",
       "      <td>NY</td>\n",
       "      <td>US</td>\n",
       "      <td>40.6578</td>\n",
       "      <td>-73.9829</td>\n",
       "    </tr>\n",
       "    <tr>\n",
       "      <th>58517</th>\n",
       "      <td>2014-09-28 16:39:00</td>\n",
       "      <td>Park Slope</td>\n",
       "      <td>Brooklyn</td>\n",
       "      <td>New York</td>\n",
       "      <td>Kings County</td>\n",
       "      <td>NY</td>\n",
       "      <td>US</td>\n",
       "      <td>40.6578</td>\n",
       "      <td>-73.9828</td>\n",
       "    </tr>\n",
       "    <tr>\n",
       "      <th>58681</th>\n",
       "      <td>2014-08-27 18:07:00</td>\n",
       "      <td>Park Slope</td>\n",
       "      <td>Brooklyn</td>\n",
       "      <td>New York</td>\n",
       "      <td>Kings County</td>\n",
       "      <td>NY</td>\n",
       "      <td>US</td>\n",
       "      <td>40.6579</td>\n",
       "      <td>-73.9831</td>\n",
       "    </tr>\n",
       "  </tbody>\n",
       "</table>\n",
       "</div>"
      ],
      "text/plain": [
       "              Pickup_Time Neighborhood Sublocality  Locality        County  \\\n",
       "58331 2014-09-26 00:28:00   Park Slope    Brooklyn  New York  Kings County   \n",
       "58510 2014-05-26 00:23:00   Park Slope    Brooklyn  New York  Kings County   \n",
       "58511 2014-06-19 00:24:00   Park Slope    Brooklyn  New York  Kings County   \n",
       "58517 2014-09-28 16:39:00   Park Slope    Brooklyn  New York  Kings County   \n",
       "58681 2014-08-27 18:07:00   Park Slope    Brooklyn  New York  Kings County   \n",
       "\n",
       "      State Country      Lat      Lon  \n",
       "58331    NY      US  40.6577 -73.9829  \n",
       "58510    NY      US  40.6578 -73.9829  \n",
       "58511    NY      US  40.6578 -73.9829  \n",
       "58517    NY      US  40.6578 -73.9828  \n",
       "58681    NY      US  40.6579 -73.9831  "
      ]
     },
     "execution_count": 368,
     "metadata": {},
     "output_type": "execute_result"
    }
   ],
   "source": [
    "uber_df[(uber_df['Neighborhood'] == 'Park Slope')].head(5)"
   ]
  },
  {
   "cell_type": "code",
   "execution_count": 369,
   "metadata": {},
   "outputs": [
    {
     "data": {
      "text/html": [
       "<div>\n",
       "<table border=\"1\" class=\"dataframe\">\n",
       "  <thead>\n",
       "    <tr style=\"text-align: right;\">\n",
       "      <th></th>\n",
       "      <th>Pickup_Time</th>\n",
       "      <th>Neighborhood</th>\n",
       "      <th>Sublocality</th>\n",
       "      <th>Locality</th>\n",
       "      <th>County</th>\n",
       "      <th>State</th>\n",
       "      <th>Country</th>\n",
       "      <th>Lat</th>\n",
       "      <th>Lon</th>\n",
       "    </tr>\n",
       "  </thead>\n",
       "  <tbody>\n",
       "    <tr>\n",
       "      <th>80543</th>\n",
       "      <td>2014-05-20 15:43:00</td>\n",
       "      <td>Crown Heights</td>\n",
       "      <td>Brooklyn</td>\n",
       "      <td>New York</td>\n",
       "      <td>Kings County</td>\n",
       "      <td>NY</td>\n",
       "      <td>US</td>\n",
       "      <td>40.6634</td>\n",
       "      <td>-73.9608</td>\n",
       "    </tr>\n",
       "    <tr>\n",
       "      <th>80544</th>\n",
       "      <td>2014-08-08 22:26:00</td>\n",
       "      <td>Crown Heights</td>\n",
       "      <td>Brooklyn</td>\n",
       "      <td>New York</td>\n",
       "      <td>Kings County</td>\n",
       "      <td>NY</td>\n",
       "      <td>US</td>\n",
       "      <td>40.6634</td>\n",
       "      <td>-73.9608</td>\n",
       "    </tr>\n",
       "    <tr>\n",
       "      <th>80545</th>\n",
       "      <td>2014-08-10 01:08:00</td>\n",
       "      <td>Crown Heights</td>\n",
       "      <td>Brooklyn</td>\n",
       "      <td>New York</td>\n",
       "      <td>Kings County</td>\n",
       "      <td>NY</td>\n",
       "      <td>US</td>\n",
       "      <td>40.6634</td>\n",
       "      <td>-73.9608</td>\n",
       "    </tr>\n",
       "    <tr>\n",
       "      <th>80546</th>\n",
       "      <td>2014-05-24 14:59:00</td>\n",
       "      <td>Crown Heights</td>\n",
       "      <td>Brooklyn</td>\n",
       "      <td>New York</td>\n",
       "      <td>Kings County</td>\n",
       "      <td>NY</td>\n",
       "      <td>US</td>\n",
       "      <td>40.6634</td>\n",
       "      <td>-73.9607</td>\n",
       "    </tr>\n",
       "    <tr>\n",
       "      <th>80547</th>\n",
       "      <td>2014-06-14 22:27:00</td>\n",
       "      <td>Crown Heights</td>\n",
       "      <td>Brooklyn</td>\n",
       "      <td>New York</td>\n",
       "      <td>Kings County</td>\n",
       "      <td>NY</td>\n",
       "      <td>US</td>\n",
       "      <td>40.6634</td>\n",
       "      <td>-73.9606</td>\n",
       "    </tr>\n",
       "  </tbody>\n",
       "</table>\n",
       "</div>"
      ],
      "text/plain": [
       "              Pickup_Time   Neighborhood Sublocality  Locality        County  \\\n",
       "80543 2014-05-20 15:43:00  Crown Heights    Brooklyn  New York  Kings County   \n",
       "80544 2014-08-08 22:26:00  Crown Heights    Brooklyn  New York  Kings County   \n",
       "80545 2014-08-10 01:08:00  Crown Heights    Brooklyn  New York  Kings County   \n",
       "80546 2014-05-24 14:59:00  Crown Heights    Brooklyn  New York  Kings County   \n",
       "80547 2014-06-14 22:27:00  Crown Heights    Brooklyn  New York  Kings County   \n",
       "\n",
       "      State Country      Lat      Lon  \n",
       "80543    NY      US  40.6634 -73.9608  \n",
       "80544    NY      US  40.6634 -73.9608  \n",
       "80545    NY      US  40.6634 -73.9608  \n",
       "80546    NY      US  40.6634 -73.9607  \n",
       "80547    NY      US  40.6634 -73.9606  "
      ]
     },
     "execution_count": 369,
     "metadata": {},
     "output_type": "execute_result"
    }
   ],
   "source": [
    "uber_df[(uber_df['Neighborhood'] == 'Crown Heights')].head(5)"
   ]
  },
  {
   "cell_type": "code",
   "execution_count": 370,
   "metadata": {},
   "outputs": [
    {
     "data": {
      "text/html": [
       "<div>\n",
       "<table border=\"1\" class=\"dataframe\">\n",
       "  <thead>\n",
       "    <tr style=\"text-align: right;\">\n",
       "      <th></th>\n",
       "      <th>Pickup_Time</th>\n",
       "      <th>Neighborhood</th>\n",
       "      <th>Sublocality</th>\n",
       "      <th>Locality</th>\n",
       "      <th>County</th>\n",
       "      <th>State</th>\n",
       "      <th>Country</th>\n",
       "      <th>Lat</th>\n",
       "      <th>Lon</th>\n",
       "    </tr>\n",
       "  </thead>\n",
       "  <tbody>\n",
       "    <tr>\n",
       "      <th>155090</th>\n",
       "      <td>2014-08-07 17:34:00</td>\n",
       "      <td>Bedford-Stuyvesant</td>\n",
       "      <td>Brooklyn</td>\n",
       "      <td>New York</td>\n",
       "      <td>Kings County</td>\n",
       "      <td>NY</td>\n",
       "      <td>US</td>\n",
       "      <td>40.6763</td>\n",
       "      <td>-73.9085</td>\n",
       "    </tr>\n",
       "    <tr>\n",
       "      <th>155829</th>\n",
       "      <td>2014-06-28 19:52:00</td>\n",
       "      <td>Bedford-Stuyvesant</td>\n",
       "      <td>Brooklyn</td>\n",
       "      <td>New York</td>\n",
       "      <td>Kings County</td>\n",
       "      <td>NY</td>\n",
       "      <td>US</td>\n",
       "      <td>40.6764</td>\n",
       "      <td>-73.9095</td>\n",
       "    </tr>\n",
       "    <tr>\n",
       "      <th>155830</th>\n",
       "      <td>2014-09-16 09:24:00</td>\n",
       "      <td>Bedford-Stuyvesant</td>\n",
       "      <td>Brooklyn</td>\n",
       "      <td>New York</td>\n",
       "      <td>Kings County</td>\n",
       "      <td>NY</td>\n",
       "      <td>US</td>\n",
       "      <td>40.6764</td>\n",
       "      <td>-73.9093</td>\n",
       "    </tr>\n",
       "    <tr>\n",
       "      <th>156651</th>\n",
       "      <td>2014-08-18 20:59:00</td>\n",
       "      <td>Bedford-Stuyvesant</td>\n",
       "      <td>Brooklyn</td>\n",
       "      <td>New York</td>\n",
       "      <td>Kings County</td>\n",
       "      <td>NY</td>\n",
       "      <td>US</td>\n",
       "      <td>40.6765</td>\n",
       "      <td>-73.9137</td>\n",
       "    </tr>\n",
       "    <tr>\n",
       "      <th>156653</th>\n",
       "      <td>2014-04-12 15:55:00</td>\n",
       "      <td>Bedford-Stuyvesant</td>\n",
       "      <td>Brooklyn</td>\n",
       "      <td>New York</td>\n",
       "      <td>Kings County</td>\n",
       "      <td>NY</td>\n",
       "      <td>US</td>\n",
       "      <td>40.6765</td>\n",
       "      <td>-73.9081</td>\n",
       "    </tr>\n",
       "  </tbody>\n",
       "</table>\n",
       "</div>"
      ],
      "text/plain": [
       "               Pickup_Time        Neighborhood Sublocality  Locality  \\\n",
       "155090 2014-08-07 17:34:00  Bedford-Stuyvesant    Brooklyn  New York   \n",
       "155829 2014-06-28 19:52:00  Bedford-Stuyvesant    Brooklyn  New York   \n",
       "155830 2014-09-16 09:24:00  Bedford-Stuyvesant    Brooklyn  New York   \n",
       "156651 2014-08-18 20:59:00  Bedford-Stuyvesant    Brooklyn  New York   \n",
       "156653 2014-04-12 15:55:00  Bedford-Stuyvesant    Brooklyn  New York   \n",
       "\n",
       "              County State Country      Lat      Lon  \n",
       "155090  Kings County    NY      US  40.6763 -73.9085  \n",
       "155829  Kings County    NY      US  40.6764 -73.9095  \n",
       "155830  Kings County    NY      US  40.6764 -73.9093  \n",
       "156651  Kings County    NY      US  40.6765 -73.9137  \n",
       "156653  Kings County    NY      US  40.6765 -73.9081  "
      ]
     },
     "execution_count": 370,
     "metadata": {},
     "output_type": "execute_result"
    }
   ],
   "source": [
    "uber_df[(uber_df['Neighborhood'] == 'Bedford-Stuyvesant')].head(5)"
   ]
  },
  {
   "cell_type": "markdown",
   "metadata": {},
   "source": [
    "Interestingly from the data collected so far, the highest number of uber pickup were called from Brooklyn sublocality."
   ]
  },
  {
   "cell_type": "code",
   "execution_count": 371,
   "metadata": {},
   "outputs": [
    {
     "data": {
      "text/html": [
       "<div>\n",
       "<table border=\"1\" class=\"dataframe\">\n",
       "  <thead>\n",
       "    <tr style=\"text-align: right;\">\n",
       "      <th></th>\n",
       "      <th>Pickup_Time</th>\n",
       "      <th>Neighborhood</th>\n",
       "      <th>Sublocality</th>\n",
       "      <th>Locality</th>\n",
       "      <th>County</th>\n",
       "      <th>State</th>\n",
       "      <th>Country</th>\n",
       "      <th>Lat</th>\n",
       "      <th>Lon</th>\n",
       "    </tr>\n",
       "  </thead>\n",
       "  <tbody>\n",
       "    <tr>\n",
       "      <th>514</th>\n",
       "      <td>2014-09-17 01:34:00</td>\n",
       "      <td>Coney Island</td>\n",
       "      <td>Brooklyn</td>\n",
       "      <td>New York</td>\n",
       "      <td>Kings County</td>\n",
       "      <td>NY</td>\n",
       "      <td>US</td>\n",
       "      <td>40.5721</td>\n",
       "      <td>-73.9979</td>\n",
       "    </tr>\n",
       "    <tr>\n",
       "      <th>515</th>\n",
       "      <td>2014-09-19 07:27:00</td>\n",
       "      <td>Coney Island</td>\n",
       "      <td>Brooklyn</td>\n",
       "      <td>New York</td>\n",
       "      <td>Kings County</td>\n",
       "      <td>NY</td>\n",
       "      <td>US</td>\n",
       "      <td>40.5721</td>\n",
       "      <td>-73.9905</td>\n",
       "    </tr>\n",
       "    <tr>\n",
       "      <th>521</th>\n",
       "      <td>2014-07-27 12:29:00</td>\n",
       "      <td>Coney Island</td>\n",
       "      <td>Brooklyn</td>\n",
       "      <td>New York</td>\n",
       "      <td>Kings County</td>\n",
       "      <td>NY</td>\n",
       "      <td>US</td>\n",
       "      <td>40.5724</td>\n",
       "      <td>-73.9945</td>\n",
       "    </tr>\n",
       "    <tr>\n",
       "      <th>522</th>\n",
       "      <td>2014-08-09 19:09:00</td>\n",
       "      <td>Coney Island</td>\n",
       "      <td>Brooklyn</td>\n",
       "      <td>New York</td>\n",
       "      <td>Kings County</td>\n",
       "      <td>NY</td>\n",
       "      <td>US</td>\n",
       "      <td>40.5725</td>\n",
       "      <td>-73.9894</td>\n",
       "    </tr>\n",
       "    <tr>\n",
       "      <th>524</th>\n",
       "      <td>2014-08-09 13:55:00</td>\n",
       "      <td>Coney Island</td>\n",
       "      <td>Brooklyn</td>\n",
       "      <td>New York</td>\n",
       "      <td>Kings County</td>\n",
       "      <td>NY</td>\n",
       "      <td>US</td>\n",
       "      <td>40.5727</td>\n",
       "      <td>-73.9975</td>\n",
       "    </tr>\n",
       "  </tbody>\n",
       "</table>\n",
       "</div>"
      ],
      "text/plain": [
       "            Pickup_Time  Neighborhood Sublocality  Locality        County  \\\n",
       "514 2014-09-17 01:34:00  Coney Island    Brooklyn  New York  Kings County   \n",
       "515 2014-09-19 07:27:00  Coney Island    Brooklyn  New York  Kings County   \n",
       "521 2014-07-27 12:29:00  Coney Island    Brooklyn  New York  Kings County   \n",
       "522 2014-08-09 19:09:00  Coney Island    Brooklyn  New York  Kings County   \n",
       "524 2014-08-09 13:55:00  Coney Island    Brooklyn  New York  Kings County   \n",
       "\n",
       "    State Country      Lat      Lon  \n",
       "514    NY      US  40.5721 -73.9979  \n",
       "515    NY      US  40.5721 -73.9905  \n",
       "521    NY      US  40.5724 -73.9945  \n",
       "522    NY      US  40.5725 -73.9894  \n",
       "524    NY      US  40.5727 -73.9975  "
      ]
     },
     "execution_count": 371,
     "metadata": {},
     "output_type": "execute_result"
    }
   ],
   "source": [
    "brooklyn_df = uber_df[(uber_df['Sublocality'] == 'Brooklyn')]\n",
    "brooklyn_df.head(5)"
   ]
  },
  {
   "cell_type": "code",
   "execution_count": 372,
   "metadata": {},
   "outputs": [
    {
     "data": {
      "text/plain": [
       "Pickup_Time\n",
       "2014-04-01 00:09:00    1\n",
       "2014-04-01 00:11:00    1\n",
       "2014-04-01 00:16:00    1\n",
       "2014-04-01 00:43:00    1\n",
       "2014-04-01 00:44:00    1\n",
       "Name: Pickup_Time, dtype: int64"
      ]
     },
     "execution_count": 372,
     "metadata": {},
     "output_type": "execute_result"
    }
   ],
   "source": [
    "brooklyn_ts = brooklyn_df['Pickup_Time'].groupby(brooklyn_df['Pickup_Time']).count()\n",
    "brooklyn_ts.head(5)"
   ]
  },
  {
   "cell_type": "code",
   "execution_count": 373,
   "metadata": {},
   "outputs": [
    {
     "data": {
      "text/plain": [
       "pandas.core.series.Series"
      ]
     },
     "execution_count": 373,
     "metadata": {},
     "output_type": "execute_result"
    }
   ],
   "source": [
    "type(brooklyn_ts)"
   ]
  },
  {
   "cell_type": "code",
   "execution_count": 374,
   "metadata": {},
   "outputs": [
    {
     "data": {
      "text/plain": [
       "<matplotlib.text.Text at 0x16181eceb38>"
      ]
     },
     "execution_count": 374,
     "metadata": {},
     "output_type": "execute_result"
    },
    {
     "data": {
      "image/png": "[encoded data removed]",
      "text/plain": [
       "<matplotlib.figure.Figure at 0x161e0c23f98>"
      ]
     },
     "metadata": {},
     "output_type": "display_data"
    }
   ],
   "source": [
    "brooklyn_ts_plot = brooklyn_ts.resample('D').count().plot(title='Total Uber Pickup from Brooklyn per day', figsize=(8,6))\n",
    "brooklyn_ts_plot.set_xlabel('Pickup Day of the month')\n",
    "brooklyn_ts_plot.set_ylabel('Uber pickup count')"
   ]
  },
  {
   "cell_type": "markdown",
   "metadata": {},
   "source": [
    "As September 2014 is showing up for higher higher number of uber pickup call, let's analyze the September data closely for Brooklyn."
   ]
  },
  {
   "cell_type": "code",
   "execution_count": 375,
   "metadata": {},
   "outputs": [
    {
     "data": {
      "text/plain": [
       "<matplotlib.text.Text at 0x161827ecb38>"
      ]
     },
     "execution_count": 375,
     "metadata": {},
     "output_type": "execute_result"
    },
    {
     "data": {
      "image/png": "[encoded data removed]",
      "text/plain": [
       "<matplotlib.figure.Figure at 0x16181eb9208>"
      ]
     },
     "metadata": {},
     "output_type": "display_data"
    }
   ],
   "source": [
    "# Daily plot for total number of uber pickups\n",
    "brooklyn_ts_sept_plot = brooklyn_ts['2014-09'].resample('D').count().plot(title='Total Uber Pickup from Brooklyn per day in September 2014')\n",
    "brooklyn_ts_sept_plot.set_xlabel('Pickup Day of the  month')\n",
    "brooklyn_ts_sept_plot.set_ylabel('Uber pickup count')"
   ]
  },
  {
   "cell_type": "markdown",
   "metadata": {},
   "source": [
    "From the above lot, it seems like the most uber pick calls happens on certain day of the week and  that is usually saturday and sunday calls for uber pickup"
   ]
  },
  {
   "cell_type": "code",
   "execution_count": 376,
   "metadata": {},
   "outputs": [
    {
     "data": {
      "text/plain": [
       "<matplotlib.text.Text at 0x161826a3e80>"
      ]
     },
     "execution_count": 376,
     "metadata": {},
     "output_type": "execute_result"
    },
    {
     "data": {
      "image/png": "[encoded data removed]",
      "text/plain": [
       "<matplotlib.figure.Figure at 0x16181eb91d0>"
      ]
     },
     "metadata": {},
     "output_type": "display_data"
    }
   ],
   "source": [
    "brooklyn_4h_plot = brooklyn_ts['2014-09'].resample('4H').count().plot(figsize=(9,6),\n",
    "                                           title='Average Uber Pickup from Brooklyn per four hours for September 2014')\n",
    "brooklyn_4h_plot.set_xlabel('Pickup Time in 4 hour intervals')\n",
    "brooklyn_4h_plot.set_ylabel('Uber pickup count')"
   ]
  },
  {
   "cell_type": "markdown",
   "metadata": {},
   "source": [
    "Now there are few peak days showing up for Septembet 2014 in regards to Uber pickup calls in Brooklyn. Let's take a close look at couple of these peaks."
   ]
  },
  {
   "cell_type": "markdown",
   "metadata": {},
   "source": [
    "First peak is showing up between September 6 and 7 that is Sat/Sun of the long weekend."
   ]
  },
  {
   "cell_type": "code",
   "execution_count": 377,
   "metadata": {},
   "outputs": [
    {
     "data": {
      "text/plain": [
       "<matplotlib.text.Text at 0x16182735588>"
      ]
     },
     "execution_count": 377,
     "metadata": {},
     "output_type": "execute_result"
    },
    {
     "data": {
      "image/png": "[encoded data removed]",
      "text/plain": [
       "<matplotlib.figure.Figure at 0x1618271bfd0>"
      ]
     },
     "metadata": {},
     "output_type": "display_data"
    }
   ],
   "source": [
    "brooklyn_h_sept6_7_plot = brooklyn_ts['2014-09-06':'2014-09-07'].resample('H').count().plot(figsize=(9,6),\n",
    "                                                         title='Total Uber Pickup from Brooklyn per hour for September 6 & 7, 2014')\n",
    "brooklyn_h_sept6_7_plot.set_xlabel('Hourly Pickup Time')\n",
    "brooklyn_h_sept6_7_plot.set_ylabel('Uber pickup count')"
   ]
  },
  {
   "cell_type": "markdown",
   "metadata": {},
   "source": [
    "So most of the uber pickup happened between noon and some time before 23rd hours on September 6 in Brooklyn."
   ]
  },
  {
   "cell_type": "markdown",
   "metadata": {},
   "source": [
    "Next check the statistics on Brookly neighborhoods for uber pickup calls around noon and 23rd hours on September 6, 2014"
   ]
  },
  {
   "cell_type": "code",
   "execution_count": 378,
   "metadata": {},
   "outputs": [
    {
     "data": {
      "text/plain": [
       "PeriodIndex(['2014-09-17 01:34:00', '2014-09-19 07:27:00',\n",
       "             '2014-07-27 12:29:00', '2014-08-09 19:09:00',\n",
       "             '2014-08-09 13:55:00', '2014-07-18 13:04:00',\n",
       "             '2014-07-16 23:03:00', '2014-07-15 06:59:00',\n",
       "             '2014-07-15 17:13:00', '2014-08-24 13:33:00',\n",
       "             ...\n",
       "             '2014-08-20 07:29:00', '2014-09-05 08:41:00',\n",
       "             '2014-09-22 07:30:00', '2014-09-25 09:22:00',\n",
       "             '2014-09-30 09:45:00', '2014-06-25 19:04:00',\n",
       "             '2014-07-19 04:16:00', '2014-07-27 05:00:00',\n",
       "             '2014-08-16 14:06:00', '2014-08-31 16:17:00'],\n",
       "            dtype='int64', length=274610, freq='S')"
      ]
     },
     "execution_count": 378,
     "metadata": {},
     "output_type": "execute_result"
    }
   ],
   "source": [
    "ts_index = pd.PeriodIndex(brooklyn_df['Pickup_Time'].values, freq='s')\n",
    "ts_index"
   ]
  },
  {
   "cell_type": "code",
   "execution_count": 379,
   "metadata": {},
   "outputs": [
    {
     "data": {
      "text/html": [
       "<div>\n",
       "<table border=\"1\" class=\"dataframe\">\n",
       "  <thead>\n",
       "    <tr style=\"text-align: right;\">\n",
       "      <th></th>\n",
       "      <th>Pickup_Time</th>\n",
       "      <th>Neighborhood</th>\n",
       "      <th>Sublocality</th>\n",
       "      <th>Locality</th>\n",
       "      <th>County</th>\n",
       "      <th>State</th>\n",
       "      <th>Country</th>\n",
       "      <th>Lat</th>\n",
       "      <th>Lon</th>\n",
       "    </tr>\n",
       "  </thead>\n",
       "  <tbody>\n",
       "    <tr>\n",
       "      <th>906</th>\n",
       "      <td>2014-09-06 17:32:00</td>\n",
       "      <td>Coney Island</td>\n",
       "      <td>Brooklyn</td>\n",
       "      <td>New York</td>\n",
       "      <td>Kings County</td>\n",
       "      <td>NY</td>\n",
       "      <td>US</td>\n",
       "      <td>40.5753</td>\n",
       "      <td>-73.9811</td>\n",
       "    </tr>\n",
       "    <tr>\n",
       "      <th>1472</th>\n",
       "      <td>2014-09-06 11:50:00</td>\n",
       "      <td>Manhattan Beach</td>\n",
       "      <td>Brooklyn</td>\n",
       "      <td>New York</td>\n",
       "      <td>Kings County</td>\n",
       "      <td>NY</td>\n",
       "      <td>US</td>\n",
       "      <td>40.5757</td>\n",
       "      <td>-73.9526</td>\n",
       "    </tr>\n",
       "    <tr>\n",
       "      <th>1497</th>\n",
       "      <td>2014-09-06 03:08:00</td>\n",
       "      <td>Coney Island</td>\n",
       "      <td>Brooklyn</td>\n",
       "      <td>New York</td>\n",
       "      <td>Kings County</td>\n",
       "      <td>NY</td>\n",
       "      <td>US</td>\n",
       "      <td>40.5758</td>\n",
       "      <td>-73.9796</td>\n",
       "    </tr>\n",
       "    <tr>\n",
       "      <th>1778</th>\n",
       "      <td>2014-09-06 15:27:00</td>\n",
       "      <td>Brighton Beach</td>\n",
       "      <td>Brooklyn</td>\n",
       "      <td>New York</td>\n",
       "      <td>Kings County</td>\n",
       "      <td>NY</td>\n",
       "      <td>US</td>\n",
       "      <td>40.5769</td>\n",
       "      <td>-73.9652</td>\n",
       "    </tr>\n",
       "    <tr>\n",
       "      <th>1834</th>\n",
       "      <td>2014-09-06 14:34:00</td>\n",
       "      <td>Coney Island</td>\n",
       "      <td>Brooklyn</td>\n",
       "      <td>New York</td>\n",
       "      <td>Kings County</td>\n",
       "      <td>NY</td>\n",
       "      <td>US</td>\n",
       "      <td>40.5771</td>\n",
       "      <td>-73.9936</td>\n",
       "    </tr>\n",
       "  </tbody>\n",
       "</table>\n",
       "</div>"
      ],
      "text/plain": [
       "             Pickup_Time     Neighborhood Sublocality  Locality        County  \\\n",
       "906  2014-09-06 17:32:00     Coney Island    Brooklyn  New York  Kings County   \n",
       "1472 2014-09-06 11:50:00  Manhattan Beach    Brooklyn  New York  Kings County   \n",
       "1497 2014-09-06 03:08:00     Coney Island    Brooklyn  New York  Kings County   \n",
       "1778 2014-09-06 15:27:00   Brighton Beach    Brooklyn  New York  Kings County   \n",
       "1834 2014-09-06 14:34:00     Coney Island    Brooklyn  New York  Kings County   \n",
       "\n",
       "     State Country      Lat      Lon  \n",
       "906     NY      US  40.5753 -73.9811  \n",
       "1472    NY      US  40.5757 -73.9526  \n",
       "1497    NY      US  40.5758 -73.9796  \n",
       "1778    NY      US  40.5769 -73.9652  \n",
       "1834    NY      US  40.5771 -73.9936  "
      ]
     },
     "execution_count": 379,
     "metadata": {},
     "output_type": "execute_result"
    }
   ],
   "source": [
    "brooklyn_sep6_peak_df = brooklyn_df[(brooklyn_df['Pickup_Time']>='2014-09-06 00:00:00') \n",
    "                                                & (brooklyn_df['Pickup_Time']<='2014-09-06 23:59:59')]\n",
    "brooklyn_sep6_peak_df.head()"
   ]
  },
  {
   "cell_type": "code",
   "execution_count": 380,
   "metadata": {},
   "outputs": [
    {
     "data": {
      "text/plain": [
       "array(['Coney Island', 'Manhattan Beach', 'Brighton Beach',\n",
       "       'Sheepshead Bay', 'Gravesend', 'Bath Beach', 'Madison',\n",
       "       'Marine Park', 'Bensonhurst', 'Mill Basin', 'Midwood', 'Bay Ridge',\n",
       "       'Mapleton', 'Dyker Heights', 'Flatlands', 'Borough Park',\n",
       "       'Bergen Beach', 'Canarsie', 'Flatbush - Ditmas Park',\n",
       "       'West Midwood', 'Kensington', 'East Flatbush', 'Sunset Park',\n",
       "       'Prospect Park South', 'Greenwood', 'Windsor Terrace',\n",
       "       'East New York', 'Prospect Lefferts Gardens', 'Brownsville',\n",
       "       'South Slope', 'Prospect-Lefferts Gardens Hist', 'Park Slope',\n",
       "       'Crown Heights', 'Gowanus', 'Red Hook', 'Prospect Heights',\n",
       "       'Carroll Gardens', 'Cypress Hills', 'Bedford-Stuyvesant',\n",
       "       'Clinton Hill', 'Boerum Hill', 'Columbia Street Waterfront Dis',\n",
       "       'Bushwick', 'Fort Greene', 'Cobble Hill', 'Downtown Brooklyn',\n",
       "       'Brooklyn Heights', 'Williamsburg', 'Broadway Triangle',\n",
       "       'Fulton Ferry District', 'Dumbo', 'East Williamsburg', 'Greenpoint'], dtype=object)"
      ]
     },
     "execution_count": 380,
     "metadata": {},
     "output_type": "execute_result"
    }
   ],
   "source": [
    "brooklyn_sep6_peak_df['Neighborhood'].unique()"
   ]
  },
  {
   "cell_type": "code",
   "execution_count": 381,
   "metadata": {},
   "outputs": [
    {
     "data": {
      "text/plain": [
       "pandas.core.groupby.SeriesGroupBy"
      ]
     },
     "execution_count": 381,
     "metadata": {},
     "output_type": "execute_result"
    }
   ],
   "source": [
    "# brooklyn_sep6_peak_df = brooklyn_sep6_peak_df[['Pickup_Time','Neighborhood']]\n",
    "brooklyn_sep6_peak_sg = brooklyn_sep6_peak_df['Pickup_Time'].groupby(brooklyn_sep6_peak_df['Neighborhood'])\n",
    "type(brooklyn_sep6_peak_sg)"
   ]
  },
  {
   "cell_type": "code",
   "execution_count": 382,
   "metadata": {
    "collapsed": true
   },
   "outputs": [],
   "source": [
    "brooklyn_sep6_peak_df = pd.DataFrame({'count' : brooklyn_sep6_peak_sg.size()}).reset_index()"
   ]
  },
  {
   "cell_type": "code",
   "execution_count": 383,
   "metadata": {},
   "outputs": [
    {
     "data": {
      "text/html": [
       "<div>\n",
       "<table border=\"1\" class=\"dataframe\">\n",
       "  <thead>\n",
       "    <tr style=\"text-align: right;\">\n",
       "      <th></th>\n",
       "      <th>Neighborhood</th>\n",
       "      <th>count</th>\n",
       "    </tr>\n",
       "  </thead>\n",
       "  <tbody>\n",
       "    <tr>\n",
       "      <th>0</th>\n",
       "      <td>Bath Beach</td>\n",
       "      <td>6</td>\n",
       "    </tr>\n",
       "    <tr>\n",
       "      <th>1</th>\n",
       "      <td>Bay Ridge</td>\n",
       "      <td>104</td>\n",
       "    </tr>\n",
       "    <tr>\n",
       "      <th>2</th>\n",
       "      <td>Bedford-Stuyvesant</td>\n",
       "      <td>284</td>\n",
       "    </tr>\n",
       "    <tr>\n",
       "      <th>3</th>\n",
       "      <td>Bensonhurst</td>\n",
       "      <td>16</td>\n",
       "    </tr>\n",
       "    <tr>\n",
       "      <th>4</th>\n",
       "      <td>Bergen Beach</td>\n",
       "      <td>1</td>\n",
       "    </tr>\n",
       "  </tbody>\n",
       "</table>\n",
       "</div>"
      ],
      "text/plain": [
       "         Neighborhood  count\n",
       "0          Bath Beach      6\n",
       "1           Bay Ridge    104\n",
       "2  Bedford-Stuyvesant    284\n",
       "3         Bensonhurst     16\n",
       "4        Bergen Beach      1"
      ]
     },
     "execution_count": 383,
     "metadata": {},
     "output_type": "execute_result"
    }
   ],
   "source": [
    "brooklyn_sep6_peak_df.head(5)"
   ]
  },
  {
   "cell_type": "code",
   "execution_count": 384,
   "metadata": {},
   "outputs": [
    {
     "name": "stdout",
     "output_type": "stream",
     "text": [
      "Neighborhood in Brooklyn with lowest uber pickup on September 6, 2014\n",
      "          Neighborhood  count\n",
      "50       West Midwood      1\n",
      "4        Bergen Beach      1\n",
      "8   Broadway Triangle      1\n",
      "37           Mapleton      2\n",
      "7      Brighton Beach      2\n",
      "Neighborhood in Brooklyn with highest uber pickup on September 6, 2014\n",
      "           Neighborhood  count\n",
      "30             Gowanus    177\n",
      "46            Red Hook    263\n",
      "2   Bedford-Stuyvesant    284\n",
      "18       Crown Heights    301\n",
      "41          Park Slope    486\n"
     ]
    }
   ],
   "source": [
    "print('Neighborhood in Brooklyn with lowest uber pickup on September 6, 2014\\n'\n",
    "      , brooklyn_sep6_peak_df.sort_values(by='count').head(5))\n",
    "print('Neighborhood in Brooklyn with highest uber pickup on September 6, 2014\\n'\n",
    "      ,brooklyn_sep6_peak_df.sort_values(by='count').tail(5))"
   ]
  },
  {
   "cell_type": "code",
   "execution_count": 385,
   "metadata": {},
   "outputs": [
    {
     "data": {
      "text/plain": [
       "<matplotlib.text.Text at 0x161826a3320>"
      ]
     },
     "execution_count": 385,
     "metadata": {},
     "output_type": "execute_result"
    },
    {
     "data": {
      "image/png": "[encoded data removed]",
      "text/plain": [
       "<matplotlib.figure.Figure at 0x16182735be0>"
      ]
     },
     "metadata": {},
     "output_type": "display_data"
    }
   ],
   "source": [
    "brooklyn_sep6_peak_plot = brooklyn_sep6_peak_df.plot(\n",
    "    title='Total Uber pickup(s) in neighborhoods of Brooklyn on September 6 between noon and 23rd hours'\n",
    "    ,figsize=(9,6))\n",
    "brooklyn_sep6_peak_plot.set_xlabel('Neighborhood Index')\n",
    "brooklyn_sep6_peak_plot.set_ylabel('Uber pickup count')"
   ]
  },
  {
   "cell_type": "code",
   "execution_count": 386,
   "metadata": {},
   "outputs": [
    {
     "data": {
      "text/html": [
       "<div>\n",
       "<table border=\"1\" class=\"dataframe\">\n",
       "  <thead>\n",
       "    <tr style=\"text-align: right;\">\n",
       "      <th></th>\n",
       "      <th>Neighborhood</th>\n",
       "      <th>count</th>\n",
       "    </tr>\n",
       "  </thead>\n",
       "  <tbody>\n",
       "    <tr>\n",
       "      <th>40</th>\n",
       "      <td>Mill Basin</td>\n",
       "      <td>4</td>\n",
       "    </tr>\n",
       "    <tr>\n",
       "      <th>41</th>\n",
       "      <td>Park Slope</td>\n",
       "      <td>486</td>\n",
       "    </tr>\n",
       "    <tr>\n",
       "      <th>42</th>\n",
       "      <td>Prospect Heights</td>\n",
       "      <td>171</td>\n",
       "    </tr>\n",
       "    <tr>\n",
       "      <th>43</th>\n",
       "      <td>Prospect Lefferts Gardens</td>\n",
       "      <td>40</td>\n",
       "    </tr>\n",
       "    <tr>\n",
       "      <th>44</th>\n",
       "      <td>Prospect Park South</td>\n",
       "      <td>7</td>\n",
       "    </tr>\n",
       "    <tr>\n",
       "      <th>45</th>\n",
       "      <td>Prospect-Lefferts Gardens Hist</td>\n",
       "      <td>11</td>\n",
       "    </tr>\n",
       "    <tr>\n",
       "      <th>46</th>\n",
       "      <td>Red Hook</td>\n",
       "      <td>263</td>\n",
       "    </tr>\n",
       "    <tr>\n",
       "      <th>47</th>\n",
       "      <td>Sheepshead Bay</td>\n",
       "      <td>31</td>\n",
       "    </tr>\n",
       "    <tr>\n",
       "      <th>48</th>\n",
       "      <td>South Slope</td>\n",
       "      <td>72</td>\n",
       "    </tr>\n",
       "    <tr>\n",
       "      <th>49</th>\n",
       "      <td>Sunset Park</td>\n",
       "      <td>46</td>\n",
       "    </tr>\n",
       "  </tbody>\n",
       "</table>\n",
       "</div>"
      ],
      "text/plain": [
       "                      Neighborhood  count\n",
       "40                      Mill Basin      4\n",
       "41                      Park Slope    486\n",
       "42                Prospect Heights    171\n",
       "43       Prospect Lefferts Gardens     40\n",
       "44             Prospect Park South      7\n",
       "45  Prospect-Lefferts Gardens Hist     11\n",
       "46                        Red Hook    263\n",
       "47                  Sheepshead Bay     31\n",
       "48                     South Slope     72\n",
       "49                     Sunset Park     46"
      ]
     },
     "execution_count": 386,
     "metadata": {},
     "output_type": "execute_result"
    }
   ],
   "source": [
    "# print the neighborhoods between index 40 and 50 to view the one with highest count\n",
    "brooklyn_sep6_peak_df[40:50]"
   ]
  },
  {
   "cell_type": "markdown",
   "metadata": {},
   "source": [
    "# Analysis for mid-of-week commute by Uber"
   ]
  },
  {
   "cell_type": "markdown",
   "metadata": {
    "collapsed": true
   },
   "source": [
    "Anaylsis for uber pickup on Wednesday as mid of the week to check patterns for residents utlizing uber service, and filter out the tourists' requests for uber pickup around weekend."
   ]
  },
  {
   "cell_type": "markdown",
   "metadata": {
    "collapsed": true
   },
   "source": [
    "Lets start with whole data set again, and analyze the pickup data on Wednesday(s)"
   ]
  },
  {
   "cell_type": "code",
   "execution_count": 387,
   "metadata": {},
   "outputs": [
    {
     "data": {
      "text/html": [
       "<div>\n",
       "<table border=\"1\" class=\"dataframe\">\n",
       "  <thead>\n",
       "    <tr style=\"text-align: right;\">\n",
       "      <th></th>\n",
       "      <th>Pickup_Time</th>\n",
       "      <th>Neighborhood</th>\n",
       "      <th>Sublocality</th>\n",
       "      <th>Locality</th>\n",
       "      <th>County</th>\n",
       "      <th>State</th>\n",
       "      <th>Country</th>\n",
       "      <th>Lat</th>\n",
       "      <th>Lon</th>\n",
       "    </tr>\n",
       "  </thead>\n",
       "  <tbody>\n",
       "    <tr>\n",
       "      <th>40</th>\n",
       "      <td>2014-07-09 22:56:00</td>\n",
       "      <td>Princeton Junction</td>\n",
       "      <td></td>\n",
       "      <td>West Windsor Township</td>\n",
       "      <td>Mercer County</td>\n",
       "      <td>NJ</td>\n",
       "      <td>US</td>\n",
       "      <td>40.3157</td>\n",
       "      <td>-74.6238</td>\n",
       "    </tr>\n",
       "    <tr>\n",
       "      <th>44</th>\n",
       "      <td>2014-09-10 22:43:00</td>\n",
       "      <td>Princeton Junction</td>\n",
       "      <td></td>\n",
       "      <td>West Windsor Township</td>\n",
       "      <td>Mercer County</td>\n",
       "      <td>NJ</td>\n",
       "      <td>US</td>\n",
       "      <td>40.3159</td>\n",
       "      <td>-74.6237</td>\n",
       "    </tr>\n",
       "    <tr>\n",
       "      <th>47</th>\n",
       "      <td>2014-05-28 23:24:00</td>\n",
       "      <td>Princeton Junction</td>\n",
       "      <td></td>\n",
       "      <td>West Windsor Township</td>\n",
       "      <td>Mercer County</td>\n",
       "      <td>NJ</td>\n",
       "      <td>US</td>\n",
       "      <td>40.3163</td>\n",
       "      <td>-74.6244</td>\n",
       "    </tr>\n",
       "    <tr>\n",
       "      <th>50</th>\n",
       "      <td>2014-04-09 21:34:00</td>\n",
       "      <td>Princeton Junction</td>\n",
       "      <td></td>\n",
       "      <td>West Windsor Township</td>\n",
       "      <td>Mercer County</td>\n",
       "      <td>NJ</td>\n",
       "      <td>US</td>\n",
       "      <td>40.3164</td>\n",
       "      <td>-74.6250</td>\n",
       "    </tr>\n",
       "    <tr>\n",
       "      <th>72</th>\n",
       "      <td>2014-07-02 17:52:00</td>\n",
       "      <td>Dayton</td>\n",
       "      <td></td>\n",
       "      <td>South Brunswick Township</td>\n",
       "      <td>Middlesex County</td>\n",
       "      <td>NJ</td>\n",
       "      <td>US</td>\n",
       "      <td>40.3747</td>\n",
       "      <td>-74.5203</td>\n",
       "    </tr>\n",
       "  </tbody>\n",
       "</table>\n",
       "</div>"
      ],
      "text/plain": [
       "           Pickup_Time        Neighborhood Sublocality  \\\n",
       "40 2014-07-09 22:56:00  Princeton Junction               \n",
       "44 2014-09-10 22:43:00  Princeton Junction               \n",
       "47 2014-05-28 23:24:00  Princeton Junction               \n",
       "50 2014-04-09 21:34:00  Princeton Junction               \n",
       "72 2014-07-02 17:52:00              Dayton               \n",
       "\n",
       "                    Locality            County State Country      Lat      Lon  \n",
       "40     West Windsor Township     Mercer County    NJ      US  40.3157 -74.6238  \n",
       "44     West Windsor Township     Mercer County    NJ      US  40.3159 -74.6237  \n",
       "47     West Windsor Township     Mercer County    NJ      US  40.3163 -74.6244  \n",
       "50     West Windsor Township     Mercer County    NJ      US  40.3164 -74.6250  \n",
       "72  South Brunswick Township  Middlesex County    NJ      US  40.3747 -74.5203  "
      ]
     },
     "execution_count": 387,
     "metadata": {},
     "output_type": "execute_result"
    }
   ],
   "source": [
    "uber_wed_df = uber_df[(uber_df['Pickup_Time'].dt.dayofweek == 2)]\n",
    "uber_wed_df.head(5)"
   ]
  },
  {
   "cell_type": "code",
   "execution_count": 388,
   "metadata": {},
   "outputs": [
    {
     "data": {
      "text/plain": [
       "Neighborhood         \n",
       "Alphabet City  count                     154\n",
       "               unique                    153\n",
       "               top       2014-07-16 06:59:00\n",
       "               freq                        2\n",
       "               first     2014-04-02 06:26:00\n",
       "               last      2014-09-24 19:58:00\n",
       "Arrochar       count                       4\n",
       "               unique                      4\n",
       "               top       2014-09-17 07:06:00\n",
       "               freq                        1\n",
       "               first     2014-07-02 13:35:00\n",
       "               last      2014-09-17 13:50:00\n",
       "Name: Pickup_Time, dtype: object"
      ]
     },
     "execution_count": 388,
     "metadata": {},
     "output_type": "execute_result"
    }
   ],
   "source": [
    "uber_neighborhood_wed_sg = uber_df['Pickup_Time'].groupby(uber_wed_df['Neighborhood'])\n",
    "uber_neighborhood_wed_sg.describe().head(12)"
   ]
  },
  {
   "cell_type": "code",
   "execution_count": 389,
   "metadata": {},
   "outputs": [
    {
     "name": "stdout",
     "output_type": "stream",
     "text": [
      "Neighborhood with lowest ubder pickup on Wednesday\n",
      "         Neighborhood  count\n",
      "129         Richmond      1\n",
      "102     Martinsville      1\n",
      "90   Laurence Harbor      1\n",
      "81   Hudson Exchange      1\n",
      "79            Hollis      1\n",
      "Neighborhood with highest ubder pickup on Wednesday\n",
      "            Neighborhood  count\n",
      "67              Gowanus   1744\n",
      "8    Bedford-Stuyvesant   2678\n",
      "39        Crown Heights   3010\n",
      "95      Lower Manhattan   3140\n",
      "117          Park Slope   4963\n"
     ]
    }
   ],
   "source": [
    "# get count by neighbourhood\n",
    "neighborhood_wed_df = pd.DataFrame({'count' : uber_neighborhood_wed_sg.size()}).reset_index()\n",
    "print('Neighborhood with lowest ubder pickup on Wednesday\\n', neighborhood_wed_df.sort_values(by='count').head(5))\n",
    "print('Neighborhood with highest ubder pickup on Wednesday\\n',neighborhood_wed_df.sort_values(by='count').tail(5))"
   ]
  },
  {
   "cell_type": "code",
   "execution_count": 390,
   "metadata": {},
   "outputs": [
    {
     "data": {
      "text/plain": [
       "<matplotlib.text.Text at 0x161d6762fd0>"
      ]
     },
     "execution_count": 390,
     "metadata": {},
     "output_type": "execute_result"
    },
    {
     "data": {
      "image/png": "[encoded data removed]",
      "text/plain": [
       "<matplotlib.figure.Figure at 0x161826b6a20>"
      ]
     },
     "metadata": {},
     "output_type": "display_data"
    }
   ],
   "source": [
    "neighborhood_wed_plot = neighborhood_wed_df.plot(title='Uber Pickups by Neighborhood on Wednesday', figsize=(9,6))\n",
    "neighborhood_wed_plot.set_xlabel('Neighborhood Index')\n",
    "neighborhood_wed_plot.set_ylabel('Uber pickup count')"
   ]
  },
  {
   "cell_type": "markdown",
   "metadata": {},
   "source": [
    "So, from the above chart for Uber pickup on Wednesday(s), Park Slope neighborhood is still rank highest for uber pickup count. "
   ]
  },
  {
   "cell_type": "markdown",
   "metadata": {},
   "source": [
    "Analyze data for Park Slope neighborhood"
   ]
  },
  {
   "cell_type": "code",
   "execution_count": 391,
   "metadata": {},
   "outputs": [
    {
     "data": {
      "text/html": [
       "<div>\n",
       "<table border=\"1\" class=\"dataframe\">\n",
       "  <thead>\n",
       "    <tr style=\"text-align: right;\">\n",
       "      <th></th>\n",
       "      <th>Pickup_Time</th>\n",
       "      <th>Neighborhood</th>\n",
       "      <th>Sublocality</th>\n",
       "      <th>Locality</th>\n",
       "      <th>County</th>\n",
       "      <th>State</th>\n",
       "      <th>Country</th>\n",
       "      <th>Lat</th>\n",
       "      <th>Lon</th>\n",
       "    </tr>\n",
       "  </thead>\n",
       "  <tbody>\n",
       "    <tr>\n",
       "      <th>58681</th>\n",
       "      <td>2014-08-27 18:07:00</td>\n",
       "      <td>Park Slope</td>\n",
       "      <td>Brooklyn</td>\n",
       "      <td>New York</td>\n",
       "      <td>Kings County</td>\n",
       "      <td>NY</td>\n",
       "      <td>US</td>\n",
       "      <td>40.6579</td>\n",
       "      <td>-73.9831</td>\n",
       "    </tr>\n",
       "    <tr>\n",
       "      <th>58862</th>\n",
       "      <td>2014-09-24 07:50:00</td>\n",
       "      <td>Park Slope</td>\n",
       "      <td>Brooklyn</td>\n",
       "      <td>New York</td>\n",
       "      <td>Kings County</td>\n",
       "      <td>NY</td>\n",
       "      <td>US</td>\n",
       "      <td>40.6580</td>\n",
       "      <td>-73.9826</td>\n",
       "    </tr>\n",
       "    <tr>\n",
       "      <th>59257</th>\n",
       "      <td>2014-09-24 17:41:00</td>\n",
       "      <td>Park Slope</td>\n",
       "      <td>Brooklyn</td>\n",
       "      <td>New York</td>\n",
       "      <td>Kings County</td>\n",
       "      <td>NY</td>\n",
       "      <td>US</td>\n",
       "      <td>40.6582</td>\n",
       "      <td>-73.9824</td>\n",
       "    </tr>\n",
       "    <tr>\n",
       "      <th>59850</th>\n",
       "      <td>2014-08-06 13:54:00</td>\n",
       "      <td>Park Slope</td>\n",
       "      <td>Brooklyn</td>\n",
       "      <td>New York</td>\n",
       "      <td>Kings County</td>\n",
       "      <td>NY</td>\n",
       "      <td>US</td>\n",
       "      <td>40.6584</td>\n",
       "      <td>-73.9823</td>\n",
       "    </tr>\n",
       "    <tr>\n",
       "      <th>60106</th>\n",
       "      <td>2014-09-24 02:52:00</td>\n",
       "      <td>Park Slope</td>\n",
       "      <td>Brooklyn</td>\n",
       "      <td>New York</td>\n",
       "      <td>Kings County</td>\n",
       "      <td>NY</td>\n",
       "      <td>US</td>\n",
       "      <td>40.6585</td>\n",
       "      <td>-73.9840</td>\n",
       "    </tr>\n",
       "  </tbody>\n",
       "</table>\n",
       "</div>"
      ],
      "text/plain": [
       "              Pickup_Time Neighborhood Sublocality  Locality        County  \\\n",
       "58681 2014-08-27 18:07:00   Park Slope    Brooklyn  New York  Kings County   \n",
       "58862 2014-09-24 07:50:00   Park Slope    Brooklyn  New York  Kings County   \n",
       "59257 2014-09-24 17:41:00   Park Slope    Brooklyn  New York  Kings County   \n",
       "59850 2014-08-06 13:54:00   Park Slope    Brooklyn  New York  Kings County   \n",
       "60106 2014-09-24 02:52:00   Park Slope    Brooklyn  New York  Kings County   \n",
       "\n",
       "      State Country      Lat      Lon  \n",
       "58681    NY      US  40.6579 -73.9831  \n",
       "58862    NY      US  40.6580 -73.9826  \n",
       "59257    NY      US  40.6582 -73.9824  \n",
       "59850    NY      US  40.6584 -73.9823  \n",
       "60106    NY      US  40.6585 -73.9840  "
      ]
     },
     "execution_count": 391,
     "metadata": {},
     "output_type": "execute_result"
    }
   ],
   "source": [
    "uber_wed_parkslope_df = uber_df[(uber_df['Pickup_Time'].dt.dayofweek == 2)&(uber_df['Neighborhood'] == 'Park Slope')]\n",
    "uber_wed_parkslope_df.head(5)"
   ]
  },
  {
   "cell_type": "code",
   "execution_count": 392,
   "metadata": {},
   "outputs": [
    {
     "data": {
      "text/plain": [
       "pandas.core.series.Series"
      ]
     },
     "execution_count": 392,
     "metadata": {},
     "output_type": "execute_result"
    }
   ],
   "source": [
    "uber_wed_parkslope_ts = uber_wed_parkslope_df['Pickup_Time'].groupby(uber_wed_parkslope_df['Pickup_Time']).count()\n",
    "type(uber_wed_parkslope_ts)"
   ]
  },
  {
   "cell_type": "code",
   "execution_count": 393,
   "metadata": {},
   "outputs": [
    {
     "data": {
      "text/plain": [
       "<matplotlib.text.Text at 0x161d5661748>"
      ]
     },
     "execution_count": 393,
     "metadata": {},
     "output_type": "execute_result"
    },
    {
     "data": {
      "image/png": "[encoded data removed]",
      "text/plain": [
       "<matplotlib.figure.Figure at 0x161d6ca93c8>"
      ]
     },
     "metadata": {},
     "output_type": "display_data"
    }
   ],
   "source": [
    "uber_wed_parkslope_plot = uber_wed_parkslope_ts.resample('W-WED').count().plot(\n",
    "    title='Uber pickup from Park Slope neighborhood on Wednesday(s)')\n",
    "uber_wed_parkslope_plot.set_xlabel('Wednesday of the month')\n",
    "uber_wed_parkslope_plot.set_ylabel('Uber pickup count')"
   ]
  },
  {
   "cell_type": "markdown",
   "metadata": {},
   "source": [
    "Analyze the Wednesday Uber pickups in Park Slope neighborhood by hours for month of August. The Wednesday in August 2014 are 6th, 13th, 20th and 27th day of the month."
   ]
  },
  {
   "cell_type": "code",
   "execution_count": 394,
   "metadata": {},
   "outputs": [
    {
     "data": {
      "text/plain": [
       "<matplotlib.text.Text at 0x161d6332710>"
      ]
     },
     "execution_count": 394,
     "metadata": {},
     "output_type": "execute_result"
    },
    {
     "data": {
      "image/png": "[encoded data removed]",
      "text/plain": [
       "<matplotlib.figure.Figure at 0x161d6aa17f0>"
      ]
     },
     "metadata": {},
     "output_type": "display_data"
    }
   ],
   "source": [
    "uber_august_06_wed_parkslope_plot = uber_wed_parkslope_ts['2014-08-06'].resample('H').count().plot(\n",
    "    title='Uber pickup from Park Slope on Wednesday, August 6, 2014')\n",
    "uber_august_06_wed_parkslope_plot.set_xlabel('Hour of the day')\n",
    "uber_august_06_wed_parkslope_plot.set_ylabel('Uber pickup count')"
   ]
  },
  {
   "cell_type": "code",
   "execution_count": 395,
   "metadata": {},
   "outputs": [
    {
     "data": {
      "text/plain": [
       "<matplotlib.text.Text at 0x161d6139748>"
      ]
     },
     "execution_count": 395,
     "metadata": {},
     "output_type": "execute_result"
    },
    {
     "data": {
      "image/png": "[encoded data removed]",
      "text/plain": [
       "<matplotlib.figure.Figure at 0x161d6ce0e48>"
      ]
     },
     "metadata": {},
     "output_type": "display_data"
    }
   ],
   "source": [
    "uber_august_13_wed_parkslope_plot = uber_wed_parkslope_ts['2014-08-13'].resample('H').count().plot(\n",
    "    title='Uber pickup from Park Slope on Wednesday, August 13, 2014')\n",
    "uber_august_13_wed_parkslope_plot.set_xlabel('Hour of the day')\n",
    "uber_august_13_wed_parkslope_plot.set_ylabel('Uber pickup count')"
   ]
  },
  {
   "cell_type": "code",
   "execution_count": 396,
   "metadata": {},
   "outputs": [
    {
     "data": {
      "text/plain": [
       "<matplotlib.text.Text at 0x161d5562cf8>"
      ]
     },
     "execution_count": 396,
     "metadata": {},
     "output_type": "execute_result"
    },
    {
     "data": {
      "image/png": "[encoded data removed]",
      "text/plain": [
       "<matplotlib.figure.Figure at 0x161d4fff4a8>"
      ]
     },
     "metadata": {},
     "output_type": "display_data"
    }
   ],
   "source": [
    "uber_august_20_wed_parkslope_plot = uber_wed_parkslope_ts['2014-08-20'].resample('H').count().plot(\n",
    "    title='Uber pickup from Park Slope on Wednesday, August 20, 2014')\n",
    "uber_august_20_wed_parkslope_plot.set_xlabel('Hour of the day')\n",
    "uber_august_20_wed_parkslope_plot.set_ylabel('Uber pickup count')"
   ]
  },
  {
   "cell_type": "code",
   "execution_count": 397,
   "metadata": {},
   "outputs": [
    {
     "data": {
      "text/plain": [
       "<matplotlib.text.Text at 0x16182492c18>"
      ]
     },
     "execution_count": 397,
     "metadata": {},
     "output_type": "execute_result"
    },
    {
     "data": {
      "image/png": "[encoded data removed]",
      "text/plain": [
       "<matplotlib.figure.Figure at 0x161d64a67f0>"
      ]
     },
     "metadata": {},
     "output_type": "display_data"
    }
   ],
   "source": [
    "uber_august_27_wed_parkslope_plot = uber_wed_parkslope_ts['2014-08-27'].resample('H').count().plot(\n",
    "    title='Uber pickup from Park Slope on Wednesday, August 27, 2014')\n",
    "uber_august_27_wed_parkslope_plot.set_xlabel('Hour of the day')\n",
    "uber_august_27_wed_parkslope_plot.set_ylabel('Uber pickup count')"
   ]
  },
  {
   "cell_type": "markdown",
   "metadata": {},
   "source": [
    "From the above four charts, each representing hourly Uber pickup on Wednesday(s) in August 2014, it is clears that there are about 16 to 17 riders who has called Uber for pickup around 6am in August 2014 on Wednesday. Assuming these riders are residents at the time, they might have called for Uber service for pickup around 6am every weekday during their residency in the neighborhood of Park Slope"
   ]
  },
  {
   "cell_type": "markdown",
   "metadata": {},
   "source": [
    "### Analysis of ParkSlope  Area for hours between 6am and 9am on Wednesdays"
   ]
  },
  {
   "cell_type": "code",
   "execution_count": 398,
   "metadata": {},
   "outputs": [
    {
     "data": {
      "text/html": [
       "<div>\n",
       "<table border=\"1\" class=\"dataframe\">\n",
       "  <thead>\n",
       "    <tr style=\"text-align: right;\">\n",
       "      <th></th>\n",
       "      <th>Pickup_Time</th>\n",
       "      <th>Neighborhood</th>\n",
       "      <th>Sublocality</th>\n",
       "      <th>Locality</th>\n",
       "      <th>County</th>\n",
       "      <th>State</th>\n",
       "      <th>Country</th>\n",
       "      <th>Lat</th>\n",
       "      <th>Lon</th>\n",
       "    </tr>\n",
       "  </thead>\n",
       "  <tbody>\n",
       "    <tr>\n",
       "      <th>58862</th>\n",
       "      <td>2014-09-24 07:50:00</td>\n",
       "      <td>Park Slope</td>\n",
       "      <td>Brooklyn</td>\n",
       "      <td>New York</td>\n",
       "      <td>Kings County</td>\n",
       "      <td>NY</td>\n",
       "      <td>US</td>\n",
       "      <td>40.6580</td>\n",
       "      <td>-73.9826</td>\n",
       "    </tr>\n",
       "    <tr>\n",
       "      <th>61364</th>\n",
       "      <td>2014-04-23 08:18:00</td>\n",
       "      <td>Park Slope</td>\n",
       "      <td>Brooklyn</td>\n",
       "      <td>New York</td>\n",
       "      <td>Kings County</td>\n",
       "      <td>NY</td>\n",
       "      <td>US</td>\n",
       "      <td>40.6590</td>\n",
       "      <td>-73.9816</td>\n",
       "    </tr>\n",
       "    <tr>\n",
       "      <th>61740</th>\n",
       "      <td>2014-04-02 06:16:00</td>\n",
       "      <td>Park Slope</td>\n",
       "      <td>Brooklyn</td>\n",
       "      <td>New York</td>\n",
       "      <td>Kings County</td>\n",
       "      <td>NY</td>\n",
       "      <td>US</td>\n",
       "      <td>40.6591</td>\n",
       "      <td>-73.9816</td>\n",
       "    </tr>\n",
       "    <tr>\n",
       "      <th>61753</th>\n",
       "      <td>2014-05-07 06:19:00</td>\n",
       "      <td>Park Slope</td>\n",
       "      <td>Brooklyn</td>\n",
       "      <td>New York</td>\n",
       "      <td>Kings County</td>\n",
       "      <td>NY</td>\n",
       "      <td>US</td>\n",
       "      <td>40.6591</td>\n",
       "      <td>-73.9815</td>\n",
       "    </tr>\n",
       "    <tr>\n",
       "      <th>62220</th>\n",
       "      <td>2014-08-06 07:00:00</td>\n",
       "      <td>Park Slope</td>\n",
       "      <td>Brooklyn</td>\n",
       "      <td>New York</td>\n",
       "      <td>Kings County</td>\n",
       "      <td>NY</td>\n",
       "      <td>US</td>\n",
       "      <td>40.6592</td>\n",
       "      <td>-73.9822</td>\n",
       "    </tr>\n",
       "  </tbody>\n",
       "</table>\n",
       "</div>"
      ],
      "text/plain": [
       "              Pickup_Time Neighborhood Sublocality  Locality        County  \\\n",
       "58862 2014-09-24 07:50:00   Park Slope    Brooklyn  New York  Kings County   \n",
       "61364 2014-04-23 08:18:00   Park Slope    Brooklyn  New York  Kings County   \n",
       "61740 2014-04-02 06:16:00   Park Slope    Brooklyn  New York  Kings County   \n",
       "61753 2014-05-07 06:19:00   Park Slope    Brooklyn  New York  Kings County   \n",
       "62220 2014-08-06 07:00:00   Park Slope    Brooklyn  New York  Kings County   \n",
       "\n",
       "      State Country      Lat      Lon  \n",
       "58862    NY      US  40.6580 -73.9826  \n",
       "61364    NY      US  40.6590 -73.9816  \n",
       "61740    NY      US  40.6591 -73.9816  \n",
       "61753    NY      US  40.6591 -73.9815  \n",
       "62220    NY      US  40.6592 -73.9822  "
      ]
     },
     "execution_count": 398,
     "metadata": {},
     "output_type": "execute_result"
    }
   ],
   "source": [
    "uber_parkslope_wed_morning= uber_wed_parkslope_df[(uber_wed_parkslope_df['Pickup_Time'].dt.hour >= 6) &\n",
    "                                              (uber_wed_parkslope_df['Pickup_Time'].dt.hour <= 9)]\n",
    "uber_parkslope_wed_morning.head()"
   ]
  },
  {
   "cell_type": "code",
   "execution_count": 399,
   "metadata": {
    "collapsed": true
   },
   "outputs": [],
   "source": [
    "uber_parkslope_wed_morning = uber_parkslope_wed_morning.reset_index()"
   ]
  },
  {
   "cell_type": "code",
   "execution_count": 400,
   "metadata": {},
   "outputs": [
    {
     "data": {
      "text/html": [
       "<div>\n",
       "<table border=\"1\" class=\"dataframe\">\n",
       "  <thead>\n",
       "    <tr style=\"text-align: right;\">\n",
       "      <th></th>\n",
       "      <th>Lat</th>\n",
       "      <th>Lon</th>\n",
       "    </tr>\n",
       "  </thead>\n",
       "  <tbody>\n",
       "    <tr>\n",
       "      <th>0</th>\n",
       "      <td>40.6580</td>\n",
       "      <td>-73.9826</td>\n",
       "    </tr>\n",
       "    <tr>\n",
       "      <th>1</th>\n",
       "      <td>40.6590</td>\n",
       "      <td>-73.9816</td>\n",
       "    </tr>\n",
       "    <tr>\n",
       "      <th>2</th>\n",
       "      <td>40.6591</td>\n",
       "      <td>-73.9816</td>\n",
       "    </tr>\n",
       "    <tr>\n",
       "      <th>3</th>\n",
       "      <td>40.6591</td>\n",
       "      <td>-73.9815</td>\n",
       "    </tr>\n",
       "    <tr>\n",
       "      <th>4</th>\n",
       "      <td>40.6592</td>\n",
       "      <td>-73.9822</td>\n",
       "    </tr>\n",
       "  </tbody>\n",
       "</table>\n",
       "</div>"
      ],
      "text/plain": [
       "       Lat      Lon\n",
       "0  40.6580 -73.9826\n",
       "1  40.6590 -73.9816\n",
       "2  40.6591 -73.9816\n",
       "3  40.6591 -73.9815\n",
       "4  40.6592 -73.9822"
      ]
     },
     "execution_count": 400,
     "metadata": {},
     "output_type": "execute_result"
    }
   ],
   "source": [
    "# get the Lat, Lon column only in order to prepare it for database query\n",
    "uber_parkslope_wed_morning_coordinates = uber_parkslope_wed_morning[['Lat','Lon']]\n",
    "uber_parkslope_wed_morning_coordinates.head()"
   ]
  },
  {
   "cell_type": "code",
   "execution_count": 401,
   "metadata": {
    "collapsed": true
   },
   "outputs": [],
   "source": [
    "# Prepare select statement and dataframe to retreive and hold data for given Lat, Lon values\n",
    "select_address_sql = \"select Street, City, State, Zipcode, Country, Lat, Lon from riders.street_address where lat=%s and lon=%s\"\n",
    "street_address_columns = [\"Street\",\"City\",\"State\",\"Zipcode\",\"Country\", \"Lat\", \"Lon\"]\n",
    "street_address_df = pd.DataFrame([],columns=street_address_columns)"
   ]
  },
  {
   "cell_type": "code",
   "execution_count": 402,
   "metadata": {
    "collapsed": true
   },
   "outputs": [],
   "source": [
    "# retrieve data for given Lat, Lon that is collected from Park Slope area for Wednesdays' Pickup\n",
    "conn = pymysql.connect(host=rhost, port=rport, user=ruser, passwd=rpasswd, db=rdb)\n",
    "for params in uber_parkslope_wed_morning_coordinates.values.tolist():\n",
    "    df = pd.read_sql(select_address_sql, conn, params=params)\n",
    "    street_address_df = street_address_df.append(df, ignore_index=True)\n",
    "conn.close()"
   ]
  },
  {
   "cell_type": "code",
   "execution_count": 403,
   "metadata": {},
   "outputs": [
    {
     "data": {
      "text/html": [
       "<div>\n",
       "<table border=\"1\" class=\"dataframe\">\n",
       "  <thead>\n",
       "    <tr style=\"text-align: right;\">\n",
       "      <th></th>\n",
       "      <th>Street</th>\n",
       "      <th>City</th>\n",
       "      <th>State</th>\n",
       "      <th>Zipcode</th>\n",
       "      <th>Country</th>\n",
       "      <th>Lat</th>\n",
       "      <th>Lon</th>\n",
       "    </tr>\n",
       "  </thead>\n",
       "  <tbody>\n",
       "    <tr>\n",
       "      <th>0</th>\n",
       "      <td>280-282 Prospect Park West</td>\n",
       "      <td>Brooklyn</td>\n",
       "      <td>NY</td>\n",
       "      <td>11215</td>\n",
       "      <td>US</td>\n",
       "      <td>40.6580</td>\n",
       "      <td>-73.9826</td>\n",
       "    </tr>\n",
       "    <tr>\n",
       "      <th>1</th>\n",
       "      <td>256A Prospect Park West</td>\n",
       "      <td>Brooklyn</td>\n",
       "      <td>NY</td>\n",
       "      <td>11215</td>\n",
       "      <td>US</td>\n",
       "      <td>40.6590</td>\n",
       "      <td>-73.9816</td>\n",
       "    </tr>\n",
       "    <tr>\n",
       "      <th>2</th>\n",
       "      <td>485 Prospect Ave</td>\n",
       "      <td>Brooklyn</td>\n",
       "      <td>NY</td>\n",
       "      <td>11215</td>\n",
       "      <td>US</td>\n",
       "      <td>40.6591</td>\n",
       "      <td>-73.9816</td>\n",
       "    </tr>\n",
       "    <tr>\n",
       "      <th>3</th>\n",
       "      <td>244A Prospect Park West</td>\n",
       "      <td>Brooklyn</td>\n",
       "      <td>NY</td>\n",
       "      <td>11215</td>\n",
       "      <td>US</td>\n",
       "      <td>40.6591</td>\n",
       "      <td>-73.9815</td>\n",
       "    </tr>\n",
       "    <tr>\n",
       "      <th>4</th>\n",
       "      <td>477 Prospect Ave</td>\n",
       "      <td>Brooklyn</td>\n",
       "      <td>NY</td>\n",
       "      <td>11215</td>\n",
       "      <td>US</td>\n",
       "      <td>40.6592</td>\n",
       "      <td>-73.9822</td>\n",
       "    </tr>\n",
       "  </tbody>\n",
       "</table>\n",
       "</div>"
      ],
      "text/plain": [
       "                       Street      City State Zipcode Country      Lat  \\\n",
       "0  280-282 Prospect Park West  Brooklyn    NY   11215      US  40.6580   \n",
       "1     256A Prospect Park West  Brooklyn    NY   11215      US  40.6590   \n",
       "2            485 Prospect Ave  Brooklyn    NY   11215      US  40.6591   \n",
       "3     244A Prospect Park West  Brooklyn    NY   11215      US  40.6591   \n",
       "4            477 Prospect Ave  Brooklyn    NY   11215      US  40.6592   \n",
       "\n",
       "       Lon  \n",
       "0 -73.9826  \n",
       "1 -73.9816  \n",
       "2 -73.9816  \n",
       "3 -73.9815  \n",
       "4 -73.9822  "
      ]
     },
     "execution_count": 403,
     "metadata": {},
     "output_type": "execute_result"
    }
   ],
   "source": [
    "street_address_df.head()"
   ]
  },
  {
   "cell_type": "code",
   "execution_count": 404,
   "metadata": {},
   "outputs": [
    {
     "data": {
      "text/plain": [
       "pandas.core.series.Series"
      ]
     },
     "execution_count": 404,
     "metadata": {},
     "output_type": "execute_result"
    }
   ],
   "source": [
    "# get aggregate information about addresses as how many pickups happen from there on wednesdays\n",
    "street_address_count_df = street_address_df['Street'].groupby(street_address_df['Street']).count()\n",
    "type(street_address_count_df)"
   ]
  },
  {
   "cell_type": "code",
   "execution_count": 405,
   "metadata": {},
   "outputs": [
    {
     "data": {
      "text/plain": [
       "Street\n",
       "1 7th Ave           1\n",
       "1-15 St Johns Pl    1\n",
       "10 Montgomery Pl    1\n",
       "100 8th Ave         1\n",
       "100 Garfield Pl     1\n",
       "Name: Street, dtype: int64"
      ]
     },
     "execution_count": 405,
     "metadata": {},
     "output_type": "execute_result"
    }
   ],
   "source": [
    "street_address_count_df.head()"
   ]
  },
  {
   "cell_type": "code",
   "execution_count": 406,
   "metadata": {},
   "outputs": [
    {
     "name": "stderr",
     "output_type": "stream",
     "text": [
      "C:\\Anaconda3\\lib\\site-packages\\ipykernel\\__main__.py:2: FutureWarning: sort is deprecated, use sort_values(inplace=True) for INPLACE sorting\n",
      "  from ipykernel import kernelapp as app\n"
     ]
    }
   ],
   "source": [
    "# sort the address pickup counts in order to list the max counts first\n",
    "street_address_count_df.sort(ascending=False)"
   ]
  },
  {
   "cell_type": "code",
   "execution_count": 407,
   "metadata": {},
   "outputs": [
    {
     "data": {
      "text/plain": [
       "Street\n",
       "274A 16th St         7\n",
       "295A 5th Ave         6\n",
       "277 Prospect Ave     6\n",
       "617-619 3rd St       6\n",
       "305-333 5th St       6\n",
       "315 5th Ave          6\n",
       "1648-1650 8th Ave    5\n",
       "369 14th St          5\n",
       "925 Union St         5\n",
       "367 5th Ave          5\n",
       "26 Sterling Pl       5\n",
       "130 Sterling Pl      4\n",
       "Name: Street, dtype: int64"
      ]
     },
     "execution_count": 407,
     "metadata": {},
     "output_type": "execute_result"
    }
   ],
   "source": [
    "street_address_count_df.head(12)"
   ]
  },
  {
   "cell_type": "markdown",
   "metadata": {},
   "source": [
    "The above summary shows that on Wednesdays, there were 7 pickups from the address '274A 16th St', and 6 from each '295A 5th Ave' and '277 Prospect Ave'. Next, let's retreive all the pickup times for these addresses."
   ]
  },
  {
   "cell_type": "markdown",
   "metadata": {},
   "source": [
    "### Analysis of Uber pickup time for specific addresses"
   ]
  },
  {
   "cell_type": "code",
   "execution_count": 408,
   "metadata": {},
   "outputs": [
    {
     "data": {
      "text/html": [
       "<div>\n",
       "<table border=\"1\" class=\"dataframe\">\n",
       "  <thead>\n",
       "    <tr style=\"text-align: right;\">\n",
       "      <th></th>\n",
       "      <th>Street</th>\n",
       "      <th>City</th>\n",
       "      <th>State</th>\n",
       "      <th>Zipcode</th>\n",
       "      <th>Country</th>\n",
       "      <th>Lat</th>\n",
       "      <th>Lon</th>\n",
       "    </tr>\n",
       "  </thead>\n",
       "  <tbody>\n",
       "    <tr>\n",
       "      <th>102</th>\n",
       "      <td>274A 16th St</td>\n",
       "      <td>Brooklyn</td>\n",
       "      <td>NY</td>\n",
       "      <td>11215</td>\n",
       "      <td>US</td>\n",
       "      <td>40.6632</td>\n",
       "      <td>-73.9863</td>\n",
       "    </tr>\n",
       "    <tr>\n",
       "      <th>103</th>\n",
       "      <td>274A 16th St</td>\n",
       "      <td>Brooklyn</td>\n",
       "      <td>NY</td>\n",
       "      <td>11215</td>\n",
       "      <td>US</td>\n",
       "      <td>40.6632</td>\n",
       "      <td>-73.9863</td>\n",
       "    </tr>\n",
       "    <tr>\n",
       "      <th>104</th>\n",
       "      <td>274A 16th St</td>\n",
       "      <td>Brooklyn</td>\n",
       "      <td>NY</td>\n",
       "      <td>11215</td>\n",
       "      <td>US</td>\n",
       "      <td>40.6632</td>\n",
       "      <td>-73.9863</td>\n",
       "    </tr>\n",
       "    <tr>\n",
       "      <th>105</th>\n",
       "      <td>274A 16th St</td>\n",
       "      <td>Brooklyn</td>\n",
       "      <td>NY</td>\n",
       "      <td>11215</td>\n",
       "      <td>US</td>\n",
       "      <td>40.6632</td>\n",
       "      <td>-73.9863</td>\n",
       "    </tr>\n",
       "    <tr>\n",
       "      <th>106</th>\n",
       "      <td>274A 16th St</td>\n",
       "      <td>Brooklyn</td>\n",
       "      <td>NY</td>\n",
       "      <td>11215</td>\n",
       "      <td>US</td>\n",
       "      <td>40.6632</td>\n",
       "      <td>-73.9862</td>\n",
       "    </tr>\n",
       "    <tr>\n",
       "      <th>107</th>\n",
       "      <td>274A 16th St</td>\n",
       "      <td>Brooklyn</td>\n",
       "      <td>NY</td>\n",
       "      <td>11215</td>\n",
       "      <td>US</td>\n",
       "      <td>40.6632</td>\n",
       "      <td>-73.9862</td>\n",
       "    </tr>\n",
       "    <tr>\n",
       "      <th>110</th>\n",
       "      <td>274A 16th St</td>\n",
       "      <td>Brooklyn</td>\n",
       "      <td>NY</td>\n",
       "      <td>11215</td>\n",
       "      <td>US</td>\n",
       "      <td>40.6633</td>\n",
       "      <td>-73.9865</td>\n",
       "    </tr>\n",
       "    <tr>\n",
       "      <th>114</th>\n",
       "      <td>277 Prospect Ave</td>\n",
       "      <td>Brooklyn</td>\n",
       "      <td>NY</td>\n",
       "      <td>11215</td>\n",
       "      <td>US</td>\n",
       "      <td>40.6634</td>\n",
       "      <td>-73.9893</td>\n",
       "    </tr>\n",
       "    <tr>\n",
       "      <th>115</th>\n",
       "      <td>277 Prospect Ave</td>\n",
       "      <td>Brooklyn</td>\n",
       "      <td>NY</td>\n",
       "      <td>11215</td>\n",
       "      <td>US</td>\n",
       "      <td>40.6634</td>\n",
       "      <td>-73.9893</td>\n",
       "    </tr>\n",
       "    <tr>\n",
       "      <th>120</th>\n",
       "      <td>277 Prospect Ave</td>\n",
       "      <td>Brooklyn</td>\n",
       "      <td>NY</td>\n",
       "      <td>11215</td>\n",
       "      <td>US</td>\n",
       "      <td>40.6635</td>\n",
       "      <td>-73.9894</td>\n",
       "    </tr>\n",
       "    <tr>\n",
       "      <th>121</th>\n",
       "      <td>277 Prospect Ave</td>\n",
       "      <td>Brooklyn</td>\n",
       "      <td>NY</td>\n",
       "      <td>11215</td>\n",
       "      <td>US</td>\n",
       "      <td>40.6635</td>\n",
       "      <td>-73.9893</td>\n",
       "    </tr>\n",
       "    <tr>\n",
       "      <th>122</th>\n",
       "      <td>277 Prospect Ave</td>\n",
       "      <td>Brooklyn</td>\n",
       "      <td>NY</td>\n",
       "      <td>11215</td>\n",
       "      <td>US</td>\n",
       "      <td>40.6635</td>\n",
       "      <td>-73.9893</td>\n",
       "    </tr>\n",
       "    <tr>\n",
       "      <th>128</th>\n",
       "      <td>277 Prospect Ave</td>\n",
       "      <td>Brooklyn</td>\n",
       "      <td>NY</td>\n",
       "      <td>11215</td>\n",
       "      <td>US</td>\n",
       "      <td>40.6636</td>\n",
       "      <td>-73.9893</td>\n",
       "    </tr>\n",
       "    <tr>\n",
       "      <th>804</th>\n",
       "      <td>295A 5th Ave</td>\n",
       "      <td>Brooklyn</td>\n",
       "      <td>NY</td>\n",
       "      <td>11215</td>\n",
       "      <td>US</td>\n",
       "      <td>40.6735</td>\n",
       "      <td>-73.9826</td>\n",
       "    </tr>\n",
       "    <tr>\n",
       "      <th>809</th>\n",
       "      <td>295A 5th Ave</td>\n",
       "      <td>Brooklyn</td>\n",
       "      <td>NY</td>\n",
       "      <td>11215</td>\n",
       "      <td>US</td>\n",
       "      <td>40.6736</td>\n",
       "      <td>-73.9826</td>\n",
       "    </tr>\n",
       "    <tr>\n",
       "      <th>810</th>\n",
       "      <td>295A 5th Ave</td>\n",
       "      <td>Brooklyn</td>\n",
       "      <td>NY</td>\n",
       "      <td>11215</td>\n",
       "      <td>US</td>\n",
       "      <td>40.6736</td>\n",
       "      <td>-73.9826</td>\n",
       "    </tr>\n",
       "    <tr>\n",
       "      <th>811</th>\n",
       "      <td>295A 5th Ave</td>\n",
       "      <td>Brooklyn</td>\n",
       "      <td>NY</td>\n",
       "      <td>11215</td>\n",
       "      <td>US</td>\n",
       "      <td>40.6736</td>\n",
       "      <td>-73.9826</td>\n",
       "    </tr>\n",
       "    <tr>\n",
       "      <th>812</th>\n",
       "      <td>295A 5th Ave</td>\n",
       "      <td>Brooklyn</td>\n",
       "      <td>NY</td>\n",
       "      <td>11215</td>\n",
       "      <td>US</td>\n",
       "      <td>40.6736</td>\n",
       "      <td>-73.9825</td>\n",
       "    </tr>\n",
       "    <tr>\n",
       "      <th>813</th>\n",
       "      <td>295A 5th Ave</td>\n",
       "      <td>Brooklyn</td>\n",
       "      <td>NY</td>\n",
       "      <td>11215</td>\n",
       "      <td>US</td>\n",
       "      <td>40.6736</td>\n",
       "      <td>-73.9825</td>\n",
       "    </tr>\n",
       "  </tbody>\n",
       "</table>\n",
       "</div>"
      ],
      "text/plain": [
       "               Street      City State Zipcode Country      Lat      Lon\n",
       "102      274A 16th St  Brooklyn    NY   11215      US  40.6632 -73.9863\n",
       "103      274A 16th St  Brooklyn    NY   11215      US  40.6632 -73.9863\n",
       "104      274A 16th St  Brooklyn    NY   11215      US  40.6632 -73.9863\n",
       "105      274A 16th St  Brooklyn    NY   11215      US  40.6632 -73.9863\n",
       "106      274A 16th St  Brooklyn    NY   11215      US  40.6632 -73.9862\n",
       "107      274A 16th St  Brooklyn    NY   11215      US  40.6632 -73.9862\n",
       "110      274A 16th St  Brooklyn    NY   11215      US  40.6633 -73.9865\n",
       "114  277 Prospect Ave  Brooklyn    NY   11215      US  40.6634 -73.9893\n",
       "115  277 Prospect Ave  Brooklyn    NY   11215      US  40.6634 -73.9893\n",
       "120  277 Prospect Ave  Brooklyn    NY   11215      US  40.6635 -73.9894\n",
       "121  277 Prospect Ave  Brooklyn    NY   11215      US  40.6635 -73.9893\n",
       "122  277 Prospect Ave  Brooklyn    NY   11215      US  40.6635 -73.9893\n",
       "128  277 Prospect Ave  Brooklyn    NY   11215      US  40.6636 -73.9893\n",
       "804      295A 5th Ave  Brooklyn    NY   11215      US  40.6735 -73.9826\n",
       "809      295A 5th Ave  Brooklyn    NY   11215      US  40.6736 -73.9826\n",
       "810      295A 5th Ave  Brooklyn    NY   11215      US  40.6736 -73.9826\n",
       "811      295A 5th Ave  Brooklyn    NY   11215      US  40.6736 -73.9826\n",
       "812      295A 5th Ave  Brooklyn    NY   11215      US  40.6736 -73.9825\n",
       "813      295A 5th Ave  Brooklyn    NY   11215      US  40.6736 -73.9825"
      ]
     },
     "execution_count": 408,
     "metadata": {},
     "output_type": "execute_result"
    }
   ],
   "source": [
    "street_address_df[(street_address_df.Street == '274A 16th St')\n",
    "                  |(street_address_df.Street == '295A 5th Ave')\n",
    "                  |(street_address_df.Street == '277 Prospect Ave')]"
   ]
  },
  {
   "cell_type": "code",
   "execution_count": 409,
   "metadata": {},
   "outputs": [
    {
     "data": {
      "text/html": [
       "<div>\n",
       "<table border=\"1\" class=\"dataframe\">\n",
       "  <thead>\n",
       "    <tr style=\"text-align: right;\">\n",
       "      <th></th>\n",
       "      <th>Pickup_Time</th>\n",
       "      <th>Street</th>\n",
       "      <th>City</th>\n",
       "      <th>State</th>\n",
       "      <th>Zipcode</th>\n",
       "      <th>Country</th>\n",
       "      <th>Lat</th>\n",
       "      <th>Lon</th>\n",
       "      <th>Processed</th>\n",
       "    </tr>\n",
       "  </thead>\n",
       "  <tbody>\n",
       "    <tr>\n",
       "      <th>0</th>\n",
       "      <td>2014-04-01 08:37:00</td>\n",
       "      <td>277 Prospect Ave</td>\n",
       "      <td>Brooklyn</td>\n",
       "      <td>NY</td>\n",
       "      <td>11215</td>\n",
       "      <td>US</td>\n",
       "      <td>40.6635</td>\n",
       "      <td>-73.9893</td>\n",
       "      <td>0.0</td>\n",
       "    </tr>\n",
       "    <tr>\n",
       "      <th>1</th>\n",
       "      <td>2014-04-01 14:07:00</td>\n",
       "      <td>295A 5th Ave</td>\n",
       "      <td>Brooklyn</td>\n",
       "      <td>NY</td>\n",
       "      <td>11215</td>\n",
       "      <td>US</td>\n",
       "      <td>40.6735</td>\n",
       "      <td>-73.9826</td>\n",
       "      <td>0.0</td>\n",
       "    </tr>\n",
       "    <tr>\n",
       "      <th>2</th>\n",
       "      <td>2014-04-02 23:56:00</td>\n",
       "      <td>295A 5th Ave</td>\n",
       "      <td>Brooklyn</td>\n",
       "      <td>NY</td>\n",
       "      <td>11215</td>\n",
       "      <td>US</td>\n",
       "      <td>40.6736</td>\n",
       "      <td>-73.9826</td>\n",
       "      <td>0.0</td>\n",
       "    </tr>\n",
       "    <tr>\n",
       "      <th>3</th>\n",
       "      <td>2014-04-04 18:48:00</td>\n",
       "      <td>295A 5th Ave</td>\n",
       "      <td>Brooklyn</td>\n",
       "      <td>NY</td>\n",
       "      <td>11215</td>\n",
       "      <td>US</td>\n",
       "      <td>40.6735</td>\n",
       "      <td>-73.9826</td>\n",
       "      <td>0.0</td>\n",
       "    </tr>\n",
       "    <tr>\n",
       "      <th>4</th>\n",
       "      <td>2014-04-05 01:55:00</td>\n",
       "      <td>295A 5th Ave</td>\n",
       "      <td>Brooklyn</td>\n",
       "      <td>NY</td>\n",
       "      <td>11215</td>\n",
       "      <td>US</td>\n",
       "      <td>40.6735</td>\n",
       "      <td>-73.9826</td>\n",
       "      <td>0.0</td>\n",
       "    </tr>\n",
       "  </tbody>\n",
       "</table>\n",
       "</div>"
      ],
      "text/plain": [
       "          Pickup_Time            Street      City State Zipcode Country  \\\n",
       "0 2014-04-01 08:37:00  277 Prospect Ave  Brooklyn    NY   11215      US   \n",
       "1 2014-04-01 14:07:00      295A 5th Ave  Brooklyn    NY   11215      US   \n",
       "2 2014-04-02 23:56:00      295A 5th Ave  Brooklyn    NY   11215      US   \n",
       "3 2014-04-04 18:48:00      295A 5th Ave  Brooklyn    NY   11215      US   \n",
       "4 2014-04-05 01:55:00      295A 5th Ave  Brooklyn    NY   11215      US   \n",
       "\n",
       "       Lat      Lon  Processed  \n",
       "0  40.6635 -73.9893        0.0  \n",
       "1  40.6735 -73.9826        0.0  \n",
       "2  40.6736 -73.9826        0.0  \n",
       "3  40.6735 -73.9826        0.0  \n",
       "4  40.6735 -73.9826        0.0  "
      ]
     },
     "execution_count": 409,
     "metadata": {},
     "output_type": "execute_result"
    }
   ],
   "source": [
    "# prepare and retreive Pickup Time for specific addresses for analysis\n",
    "select_specific_address = \"SELECT u.Pickup_Time, s.* FROM uber_pickup u, coordinates c, street_address s \\\n",
    "              WHERE c.lat = u.lat AND c.lon = u.lon \\\n",
    "              AND s.lat = c.lat AND s.lon = c.lon AND s.street in (%s, %s, %s) order by u.Pickup_Time\"\n",
    "\n",
    "conn = pymysql.connect(host=rhost, port=rport, user=ruser, passwd=rpasswd, db=rdb)\n",
    "specific_address_df = pd.read_sql(select_specific_address, conn, \n",
    "                                  params={'274A 16th St','295A 5th Ave','277 Prospect Ave'})\n",
    "conn.close()\n",
    "specific_address_df.head()"
   ]
  },
  {
   "cell_type": "code",
   "execution_count": 410,
   "metadata": {},
   "outputs": [
    {
     "data": {
      "text/html": [
       "<div>\n",
       "<table border=\"1\" class=\"dataframe\">\n",
       "  <thead>\n",
       "    <tr style=\"text-align: right;\">\n",
       "      <th></th>\n",
       "      <th>Pickup_Time</th>\n",
       "      <th>Street</th>\n",
       "      <th>City</th>\n",
       "      <th>State</th>\n",
       "      <th>Zipcode</th>\n",
       "      <th>Country</th>\n",
       "      <th>Lat</th>\n",
       "      <th>Lon</th>\n",
       "      <th>Processed</th>\n",
       "      <th>Pickup_Date</th>\n",
       "      <th>Pickup_ClockTime</th>\n",
       "    </tr>\n",
       "  </thead>\n",
       "  <tbody>\n",
       "    <tr>\n",
       "      <th>0</th>\n",
       "      <td>2014-04-01 08:37:00</td>\n",
       "      <td>277 Prospect Ave</td>\n",
       "      <td>Brooklyn</td>\n",
       "      <td>NY</td>\n",
       "      <td>11215</td>\n",
       "      <td>US</td>\n",
       "      <td>40.6635</td>\n",
       "      <td>-73.9893</td>\n",
       "      <td>0.0</td>\n",
       "      <td>2014-04-01</td>\n",
       "      <td>08:37:00</td>\n",
       "    </tr>\n",
       "    <tr>\n",
       "      <th>1</th>\n",
       "      <td>2014-04-01 14:07:00</td>\n",
       "      <td>295A 5th Ave</td>\n",
       "      <td>Brooklyn</td>\n",
       "      <td>NY</td>\n",
       "      <td>11215</td>\n",
       "      <td>US</td>\n",
       "      <td>40.6735</td>\n",
       "      <td>-73.9826</td>\n",
       "      <td>0.0</td>\n",
       "      <td>2014-04-01</td>\n",
       "      <td>14:07:00</td>\n",
       "    </tr>\n",
       "    <tr>\n",
       "      <th>2</th>\n",
       "      <td>2014-04-02 23:56:00</td>\n",
       "      <td>295A 5th Ave</td>\n",
       "      <td>Brooklyn</td>\n",
       "      <td>NY</td>\n",
       "      <td>11215</td>\n",
       "      <td>US</td>\n",
       "      <td>40.6736</td>\n",
       "      <td>-73.9826</td>\n",
       "      <td>0.0</td>\n",
       "      <td>2014-04-02</td>\n",
       "      <td>23:56:00</td>\n",
       "    </tr>\n",
       "    <tr>\n",
       "      <th>3</th>\n",
       "      <td>2014-04-04 18:48:00</td>\n",
       "      <td>295A 5th Ave</td>\n",
       "      <td>Brooklyn</td>\n",
       "      <td>NY</td>\n",
       "      <td>11215</td>\n",
       "      <td>US</td>\n",
       "      <td>40.6735</td>\n",
       "      <td>-73.9826</td>\n",
       "      <td>0.0</td>\n",
       "      <td>2014-04-04</td>\n",
       "      <td>18:48:00</td>\n",
       "    </tr>\n",
       "    <tr>\n",
       "      <th>4</th>\n",
       "      <td>2014-04-05 01:55:00</td>\n",
       "      <td>295A 5th Ave</td>\n",
       "      <td>Brooklyn</td>\n",
       "      <td>NY</td>\n",
       "      <td>11215</td>\n",
       "      <td>US</td>\n",
       "      <td>40.6735</td>\n",
       "      <td>-73.9826</td>\n",
       "      <td>0.0</td>\n",
       "      <td>2014-04-05</td>\n",
       "      <td>01:55:00</td>\n",
       "    </tr>\n",
       "  </tbody>\n",
       "</table>\n",
       "</div>"
      ],
      "text/plain": [
       "          Pickup_Time            Street      City State Zipcode Country  \\\n",
       "0 2014-04-01 08:37:00  277 Prospect Ave  Brooklyn    NY   11215      US   \n",
       "1 2014-04-01 14:07:00      295A 5th Ave  Brooklyn    NY   11215      US   \n",
       "2 2014-04-02 23:56:00      295A 5th Ave  Brooklyn    NY   11215      US   \n",
       "3 2014-04-04 18:48:00      295A 5th Ave  Brooklyn    NY   11215      US   \n",
       "4 2014-04-05 01:55:00      295A 5th Ave  Brooklyn    NY   11215      US   \n",
       "\n",
       "       Lat      Lon  Processed Pickup_Date Pickup_ClockTime  \n",
       "0  40.6635 -73.9893        0.0  2014-04-01         08:37:00  \n",
       "1  40.6735 -73.9826        0.0  2014-04-01         14:07:00  \n",
       "2  40.6736 -73.9826        0.0  2014-04-02         23:56:00  \n",
       "3  40.6735 -73.9826        0.0  2014-04-04         18:48:00  \n",
       "4  40.6735 -73.9826        0.0  2014-04-05         01:55:00  "
      ]
     },
     "execution_count": 410,
     "metadata": {},
     "output_type": "execute_result"
    }
   ],
   "source": [
    "# Separate the Pickup Time in Date and Time in order to plot it\n",
    "specific_address_df['Pickup_Date'] = [d.date() for d in specific_address_df['Pickup_Time']]\n",
    "specific_address_df['Pickup_ClockTime'] = [d.time() for d in specific_address_df['Pickup_Time']]\n",
    "specific_address_df.head()"
   ]
  },
  {
   "cell_type": "code",
   "execution_count": 411,
   "metadata": {},
   "outputs": [
    {
     "data": {
      "text/html": [
       "<div>\n",
       "<table border=\"1\" class=\"dataframe\">\n",
       "  <thead>\n",
       "    <tr style=\"text-align: right;\">\n",
       "      <th></th>\n",
       "      <th>Pickup_Time</th>\n",
       "      <th>Street</th>\n",
       "      <th>City</th>\n",
       "      <th>State</th>\n",
       "      <th>Zipcode</th>\n",
       "      <th>Country</th>\n",
       "      <th>Lat</th>\n",
       "      <th>Lon</th>\n",
       "      <th>Processed</th>\n",
       "      <th>Pickup_Date</th>\n",
       "      <th>Pickup_ClockTime</th>\n",
       "    </tr>\n",
       "  </thead>\n",
       "  <tbody>\n",
       "    <tr>\n",
       "      <th>141</th>\n",
       "      <td>2014-09-03 21:50:00</td>\n",
       "      <td>277 Prospect Ave</td>\n",
       "      <td>Brooklyn</td>\n",
       "      <td>NY</td>\n",
       "      <td>11215</td>\n",
       "      <td>US</td>\n",
       "      <td>40.6635</td>\n",
       "      <td>-73.9893</td>\n",
       "      <td>0.0</td>\n",
       "      <td>2014-09-03</td>\n",
       "      <td>21:50:00</td>\n",
       "    </tr>\n",
       "    <tr>\n",
       "      <th>150</th>\n",
       "      <td>2014-09-12 14:51:00</td>\n",
       "      <td>277 Prospect Ave</td>\n",
       "      <td>Brooklyn</td>\n",
       "      <td>NY</td>\n",
       "      <td>11215</td>\n",
       "      <td>US</td>\n",
       "      <td>40.6635</td>\n",
       "      <td>-73.9893</td>\n",
       "      <td>0.0</td>\n",
       "      <td>2014-09-12</td>\n",
       "      <td>14:51:00</td>\n",
       "    </tr>\n",
       "    <tr>\n",
       "      <th>152</th>\n",
       "      <td>2014-09-13 20:37:00</td>\n",
       "      <td>277 Prospect Ave</td>\n",
       "      <td>Brooklyn</td>\n",
       "      <td>NY</td>\n",
       "      <td>11215</td>\n",
       "      <td>US</td>\n",
       "      <td>40.6634</td>\n",
       "      <td>-73.9893</td>\n",
       "      <td>0.0</td>\n",
       "      <td>2014-09-13</td>\n",
       "      <td>20:37:00</td>\n",
       "    </tr>\n",
       "    <tr>\n",
       "      <th>163</th>\n",
       "      <td>2014-09-20 09:28:00</td>\n",
       "      <td>277 Prospect Ave</td>\n",
       "      <td>Brooklyn</td>\n",
       "      <td>NY</td>\n",
       "      <td>11215</td>\n",
       "      <td>US</td>\n",
       "      <td>40.6635</td>\n",
       "      <td>-73.9894</td>\n",
       "      <td>0.0</td>\n",
       "      <td>2014-09-20</td>\n",
       "      <td>09:28:00</td>\n",
       "    </tr>\n",
       "    <tr>\n",
       "      <th>169</th>\n",
       "      <td>2014-09-27 18:07:00</td>\n",
       "      <td>277 Prospect Ave</td>\n",
       "      <td>Brooklyn</td>\n",
       "      <td>NY</td>\n",
       "      <td>11215</td>\n",
       "      <td>US</td>\n",
       "      <td>40.6634</td>\n",
       "      <td>-73.9893</td>\n",
       "      <td>0.0</td>\n",
       "      <td>2014-09-27</td>\n",
       "      <td>18:07:00</td>\n",
       "    </tr>\n",
       "  </tbody>\n",
       "</table>\n",
       "</div>"
      ],
      "text/plain": [
       "            Pickup_Time            Street      City State Zipcode Country  \\\n",
       "141 2014-09-03 21:50:00  277 Prospect Ave  Brooklyn    NY   11215      US   \n",
       "150 2014-09-12 14:51:00  277 Prospect Ave  Brooklyn    NY   11215      US   \n",
       "152 2014-09-13 20:37:00  277 Prospect Ave  Brooklyn    NY   11215      US   \n",
       "163 2014-09-20 09:28:00  277 Prospect Ave  Brooklyn    NY   11215      US   \n",
       "169 2014-09-27 18:07:00  277 Prospect Ave  Brooklyn    NY   11215      US   \n",
       "\n",
       "         Lat      Lon  Processed Pickup_Date Pickup_ClockTime  \n",
       "141  40.6635 -73.9893        0.0  2014-09-03         21:50:00  \n",
       "150  40.6635 -73.9893        0.0  2014-09-12         14:51:00  \n",
       "152  40.6634 -73.9893        0.0  2014-09-13         20:37:00  \n",
       "163  40.6635 -73.9894        0.0  2014-09-20         09:28:00  \n",
       "169  40.6634 -73.9893        0.0  2014-09-27         18:07:00  "
      ]
     },
     "execution_count": 411,
     "metadata": {},
     "output_type": "execute_result"
    }
   ],
   "source": [
    "# Filter address for specific address '277 Prospect Ave' in order to plot pickup time as separate trend\n",
    "Prospect_Ave_277_df = specific_address_df[(specific_address_df['Street']=='277 Prospect Ave')]\n",
    "Prospect_Ave_277_df.tail()"
   ]
  },
  {
   "cell_type": "code",
   "execution_count": 412,
   "metadata": {},
   "outputs": [
    {
     "data": {
      "text/html": [
       "<div>\n",
       "<table border=\"1\" class=\"dataframe\">\n",
       "  <thead>\n",
       "    <tr style=\"text-align: right;\">\n",
       "      <th></th>\n",
       "      <th>Pickup_Time</th>\n",
       "      <th>Street</th>\n",
       "      <th>City</th>\n",
       "      <th>State</th>\n",
       "      <th>Zipcode</th>\n",
       "      <th>Country</th>\n",
       "      <th>Lat</th>\n",
       "      <th>Lon</th>\n",
       "      <th>Processed</th>\n",
       "      <th>Pickup_Date</th>\n",
       "      <th>Pickup_ClockTime</th>\n",
       "    </tr>\n",
       "  </thead>\n",
       "  <tbody>\n",
       "    <tr>\n",
       "      <th>146</th>\n",
       "      <td>2014-09-09 14:46:00</td>\n",
       "      <td>274A 16th St</td>\n",
       "      <td>Brooklyn</td>\n",
       "      <td>NY</td>\n",
       "      <td>11215</td>\n",
       "      <td>US</td>\n",
       "      <td>40.6633</td>\n",
       "      <td>-73.9864</td>\n",
       "      <td>0.0</td>\n",
       "      <td>2014-09-09</td>\n",
       "      <td>14:46:00</td>\n",
       "    </tr>\n",
       "    <tr>\n",
       "      <th>153</th>\n",
       "      <td>2014-09-13 22:33:00</td>\n",
       "      <td>274A 16th St</td>\n",
       "      <td>Brooklyn</td>\n",
       "      <td>NY</td>\n",
       "      <td>11215</td>\n",
       "      <td>US</td>\n",
       "      <td>40.6632</td>\n",
       "      <td>-73.9862</td>\n",
       "      <td>0.0</td>\n",
       "      <td>2014-09-13</td>\n",
       "      <td>22:33:00</td>\n",
       "    </tr>\n",
       "    <tr>\n",
       "      <th>157</th>\n",
       "      <td>2014-09-17 06:32:00</td>\n",
       "      <td>274A 16th St</td>\n",
       "      <td>Brooklyn</td>\n",
       "      <td>NY</td>\n",
       "      <td>11215</td>\n",
       "      <td>US</td>\n",
       "      <td>40.6633</td>\n",
       "      <td>-73.9865</td>\n",
       "      <td>0.0</td>\n",
       "      <td>2014-09-17</td>\n",
       "      <td>06:32:00</td>\n",
       "    </tr>\n",
       "    <tr>\n",
       "      <th>158</th>\n",
       "      <td>2014-09-17 08:44:00</td>\n",
       "      <td>274A 16th St</td>\n",
       "      <td>Brooklyn</td>\n",
       "      <td>NY</td>\n",
       "      <td>11215</td>\n",
       "      <td>US</td>\n",
       "      <td>40.6632</td>\n",
       "      <td>-73.9862</td>\n",
       "      <td>0.0</td>\n",
       "      <td>2014-09-17</td>\n",
       "      <td>08:44:00</td>\n",
       "    </tr>\n",
       "    <tr>\n",
       "      <th>165</th>\n",
       "      <td>2014-09-24 07:46:00</td>\n",
       "      <td>274A 16th St</td>\n",
       "      <td>Brooklyn</td>\n",
       "      <td>NY</td>\n",
       "      <td>11215</td>\n",
       "      <td>US</td>\n",
       "      <td>40.6632</td>\n",
       "      <td>-73.9863</td>\n",
       "      <td>0.0</td>\n",
       "      <td>2014-09-24</td>\n",
       "      <td>07:46:00</td>\n",
       "    </tr>\n",
       "  </tbody>\n",
       "</table>\n",
       "</div>"
      ],
      "text/plain": [
       "            Pickup_Time        Street      City State Zipcode Country  \\\n",
       "146 2014-09-09 14:46:00  274A 16th St  Brooklyn    NY   11215      US   \n",
       "153 2014-09-13 22:33:00  274A 16th St  Brooklyn    NY   11215      US   \n",
       "157 2014-09-17 06:32:00  274A 16th St  Brooklyn    NY   11215      US   \n",
       "158 2014-09-17 08:44:00  274A 16th St  Brooklyn    NY   11215      US   \n",
       "165 2014-09-24 07:46:00  274A 16th St  Brooklyn    NY   11215      US   \n",
       "\n",
       "         Lat      Lon  Processed Pickup_Date Pickup_ClockTime  \n",
       "146  40.6633 -73.9864        0.0  2014-09-09         14:46:00  \n",
       "153  40.6632 -73.9862        0.0  2014-09-13         22:33:00  \n",
       "157  40.6633 -73.9865        0.0  2014-09-17         06:32:00  \n",
       "158  40.6632 -73.9862        0.0  2014-09-17         08:44:00  \n",
       "165  40.6632 -73.9863        0.0  2014-09-24         07:46:00  "
      ]
     },
     "execution_count": 412,
     "metadata": {},
     "output_type": "execute_result"
    }
   ],
   "source": [
    "# Filter address for specific address '274A 16th St' in order to plot pickup time as separate trend\n",
    "A274_16th_St_df = specific_address_df[(specific_address_df['Street']=='274A 16th St')]\n",
    "A274_16th_St_df.tail()"
   ]
  },
  {
   "cell_type": "code",
   "execution_count": 413,
   "metadata": {},
   "outputs": [
    {
     "data": {
      "text/html": [
       "<div>\n",
       "<table border=\"1\" class=\"dataframe\">\n",
       "  <thead>\n",
       "    <tr style=\"text-align: right;\">\n",
       "      <th></th>\n",
       "      <th>Pickup_Time</th>\n",
       "      <th>Street</th>\n",
       "      <th>City</th>\n",
       "      <th>State</th>\n",
       "      <th>Zipcode</th>\n",
       "      <th>Country</th>\n",
       "      <th>Lat</th>\n",
       "      <th>Lon</th>\n",
       "      <th>Processed</th>\n",
       "      <th>Pickup_Date</th>\n",
       "      <th>Pickup_ClockTime</th>\n",
       "    </tr>\n",
       "  </thead>\n",
       "  <tbody>\n",
       "    <tr>\n",
       "      <th>167</th>\n",
       "      <td>2014-09-27 10:48:00</td>\n",
       "      <td>295A 5th Ave</td>\n",
       "      <td>Brooklyn</td>\n",
       "      <td>NY</td>\n",
       "      <td>11215</td>\n",
       "      <td>US</td>\n",
       "      <td>40.6736</td>\n",
       "      <td>-73.9826</td>\n",
       "      <td>0.0</td>\n",
       "      <td>2014-09-27</td>\n",
       "      <td>10:48:00</td>\n",
       "    </tr>\n",
       "    <tr>\n",
       "      <th>168</th>\n",
       "      <td>2014-09-27 16:18:00</td>\n",
       "      <td>295A 5th Ave</td>\n",
       "      <td>Brooklyn</td>\n",
       "      <td>NY</td>\n",
       "      <td>11215</td>\n",
       "      <td>US</td>\n",
       "      <td>40.6735</td>\n",
       "      <td>-73.9826</td>\n",
       "      <td>0.0</td>\n",
       "      <td>2014-09-27</td>\n",
       "      <td>16:18:00</td>\n",
       "    </tr>\n",
       "    <tr>\n",
       "      <th>170</th>\n",
       "      <td>2014-09-27 19:15:00</td>\n",
       "      <td>295A 5th Ave</td>\n",
       "      <td>Brooklyn</td>\n",
       "      <td>NY</td>\n",
       "      <td>11215</td>\n",
       "      <td>US</td>\n",
       "      <td>40.6736</td>\n",
       "      <td>-73.9826</td>\n",
       "      <td>0.0</td>\n",
       "      <td>2014-09-27</td>\n",
       "      <td>19:15:00</td>\n",
       "    </tr>\n",
       "    <tr>\n",
       "      <th>171</th>\n",
       "      <td>2014-09-29 14:02:00</td>\n",
       "      <td>295A 5th Ave</td>\n",
       "      <td>Brooklyn</td>\n",
       "      <td>NY</td>\n",
       "      <td>11215</td>\n",
       "      <td>US</td>\n",
       "      <td>40.6735</td>\n",
       "      <td>-73.9826</td>\n",
       "      <td>0.0</td>\n",
       "      <td>2014-09-29</td>\n",
       "      <td>14:02:00</td>\n",
       "    </tr>\n",
       "    <tr>\n",
       "      <th>172</th>\n",
       "      <td>2014-09-29 21:01:00</td>\n",
       "      <td>295A 5th Ave</td>\n",
       "      <td>Brooklyn</td>\n",
       "      <td>NY</td>\n",
       "      <td>11215</td>\n",
       "      <td>US</td>\n",
       "      <td>40.6736</td>\n",
       "      <td>-73.9825</td>\n",
       "      <td>0.0</td>\n",
       "      <td>2014-09-29</td>\n",
       "      <td>21:01:00</td>\n",
       "    </tr>\n",
       "  </tbody>\n",
       "</table>\n",
       "</div>"
      ],
      "text/plain": [
       "            Pickup_Time        Street      City State Zipcode Country  \\\n",
       "167 2014-09-27 10:48:00  295A 5th Ave  Brooklyn    NY   11215      US   \n",
       "168 2014-09-27 16:18:00  295A 5th Ave  Brooklyn    NY   11215      US   \n",
       "170 2014-09-27 19:15:00  295A 5th Ave  Brooklyn    NY   11215      US   \n",
       "171 2014-09-29 14:02:00  295A 5th Ave  Brooklyn    NY   11215      US   \n",
       "172 2014-09-29 21:01:00  295A 5th Ave  Brooklyn    NY   11215      US   \n",
       "\n",
       "         Lat      Lon  Processed Pickup_Date Pickup_ClockTime  \n",
       "167  40.6736 -73.9826        0.0  2014-09-27         10:48:00  \n",
       "168  40.6735 -73.9826        0.0  2014-09-27         16:18:00  \n",
       "170  40.6736 -73.9826        0.0  2014-09-27         19:15:00  \n",
       "171  40.6735 -73.9826        0.0  2014-09-29         14:02:00  \n",
       "172  40.6736 -73.9825        0.0  2014-09-29         21:01:00  "
      ]
     },
     "execution_count": 413,
     "metadata": {},
     "output_type": "execute_result"
    }
   ],
   "source": [
    "# Filter address for specific address '295A 5th Ave' in order to plot pickup time as separate trend\n",
    "A295_5th_Ave_df = specific_address_df[(specific_address_df['Street']=='295A 5th Ave')]\n",
    "A295_5th_Ave_df.tail()"
   ]
  },
  {
   "cell_type": "code",
   "execution_count": 414,
   "metadata": {},
   "outputs": [
    {
     "data": {
      "image/png": "[encoded data removed]",
      "text/plain": [
       "<matplotlib.figure.Figure at 0x161d4fae470>"
      ]
     },
     "metadata": {},
     "output_type": "display_data"
    }
   ],
   "source": [
    "#Plot separate trend for pickup time for each selective address separately\n",
    "plt.figure(figsize=(9,6))\n",
    "plt.title(\"Uber Pickup Time for specific addresses in Brooklyn, NY\")\n",
    "plt.plot(\n",
    "    A274_16th_St_df['Pickup_Date'],A274_16th_St_df['Pickup_ClockTime'], 'bo',\n",
    "    Prospect_Ave_277_df['Pickup_Date'],Prospect_Ave_277_df['Pickup_ClockTime'], 'r^',\n",
    "    A295_5th_Ave_df['Pickup_Date'],A295_5th_Ave_df['Pickup_ClockTime'], 'gs'\n",
    ")\n",
    "plt.legend({'274A 16th St','277 Prospect Ave','295A 5th Ave'},loc=8)\n",
    "plt.show()"
   ]
  },
  {
   "cell_type": "markdown",
   "metadata": {},
   "source": [
    "The above chart shows the pickup times for each of the three selective address. One of the trend showing up is that certain Uber pickup happened for address '295A 5th Ave' between 5am and 9am during July 2014 and September 2014.For address '277 Prospect Ave', uber pickup happened around 8am to 10am during July 2014 and August 2014."
   ]
  },
  {
   "cell_type": "code",
   "execution_count": null,
   "metadata": {
    "collapsed": true
   },
   "outputs": [],
   "source": []
  }
 ],
 "metadata": {
  "kernelspec": {
   "display_name": "Python 3",
   "language": "python",
   "name": "python3"
  },
  "language_info": {
   "codemirror_mode": {
    "name": "ipython",
    "version": 3
   },
   "file_extension": ".py",
   "mimetype": "text/x-python",
   "name": "python",
   "nbconvert_exporter": "python",
   "pygments_lexer": "ipython3",
   "version": "3.6.3"
  }
 },
 "nbformat": 4,
 "nbformat_minor": 1
}
