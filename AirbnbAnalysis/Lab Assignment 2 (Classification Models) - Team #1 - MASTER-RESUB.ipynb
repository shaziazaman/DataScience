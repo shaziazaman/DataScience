{
 "cells": [
  {
   "cell_type": "markdown",
   "metadata": {},
   "source": [
    "# Lab Assignment 2: Data Classification"
   ]
  },
  {
   "cell_type": "markdown",
   "metadata": {},
   "source": [
    "#### Team Members: Parker Herrin, Matthew Rosenbloom, Shazia Zaman"
   ]
  },
  {
   "cell_type": "markdown",
   "metadata": {},
   "source": [
    "# Overview"
   ]
  },
  {
   "cell_type": "markdown",
   "metadata": {},
   "source": [
    "For this assignment, we will continue our focus on analyzing the AirBnB dataset of listings for New York City based on May 2016 data. However, because the majority of listings occur in the neighborhood group of Manhattan and based on the variables we are attempting to classify, our dataset will be modified to only view listings within Manhattan. Further duscussion and details are included throughout the assignment."
   ]
  },
  {
   "cell_type": "code",
   "execution_count": 77,
   "metadata": {},
   "outputs": [],
   "source": [
    "# Add all imports being used in the application\n",
    "import pandas as pd\n",
    "import numpy as np\n",
    "import matplotlib.pyplot as plt\n",
    "import warnings\n",
    "import seaborn as sns\n",
    "from __future__ import print_function\n",
    "from sklearn.cross_validation import ShuffleSplit\n",
    "from sklearn import metrics as mt\n",
    "from sklearn.pipeline import Pipeline\n",
    "from pandas.tools.plotting import boxplot\n",
    "\n",
    "from sklearn.cross_validation import StratifiedShuffleSplit\n",
    "from sklearn.neighbors import KNeighborsClassifier\n",
    "from sklearn.metrics import accuracy_score\n",
    "from IPython.html import widgets \n",
    "from sklearn import metrics as mt\n",
    "\n",
    "from sklearn.naive_bayes import MultinomialNB\n",
    "from sklearn.naive_bayes import BernoulliNB\n",
    "from sklearn.naive_bayes import GaussianNB\n",
    "\n",
    "from sklearn.ensemble import RandomForestClassifier \n",
    "\n",
    "from matplotlib.colors import ListedColormap\n",
    "from sklearn import neighbors, datasets\n",
    "\n",
    "from sklearn.tree import DecisionTreeClassifier\n",
    "\n",
    "warnings.simplefilter('ignore', DeprecationWarning)\n",
    "%matplotlib inline"
   ]
  },
  {
   "cell_type": "markdown",
   "metadata": {},
   "source": [
    "## 1. Data Preparation"
   ]
  },
  {
   "cell_type": "markdown",
   "metadata": {},
   "source": [
    "There will essentially be three datasets that we will need to create for our analysis.\n",
    "1. All Manhattan listings to be used to predict \"Neighbourhood\" with attributes: Neighbourhood Group, Neighbourhood, Room Type, Price, Minimum Nights, Number of Reviews, Calculated Host Listings, and Availability 365\n",
    "2. All Manhattan listings to be used to predict \"Price Range\" with attributes: Neighbourhood Group (Manhattan only), Neighbourhood, Room Type, Price, Minimum Nights, Number of Reviews, Calculated Host Listings and Availability 365. \n",
    "3. Same dataset as above, but to include Latitude and Longitude in the dataset to see if including these as variables improves the model's accuracy."
   ]
  },
  {
   "cell_type": "markdown",
   "metadata": {},
   "source": [
    "#### Reasoning for selecting data sets\n",
    "Based on the type of data we are analyzing (AirBnB listing data), other than the city that is primarily the most interesting to a potential customer, the other two attributes from the ones available that a customer may find the most useful is the price (or price range in our case as is noted and analyzed below) and the type of room the customer wishes to stay in while on their stay. For that reason, our three data sets will be focused on attempting to predict these two items: price range and room type, respectively. \n",
    "\n",
    "As we have analyzed with other exercises previously, the attributes we have selected above have given us favorable predictions when using the logistic regression and SVM models; therefore, these attributes we feel are the ones necessary to include in our prediction models for this exercise."
   ]
  },
  {
   "cell_type": "code",
   "execution_count": 78,
   "metadata": {},
   "outputs": [
    {
     "data": {
      "text/html": [
       "<div>\n",
       "<table border=\"1\" class=\"dataframe\">\n",
       "  <thead>\n",
       "    <tr style=\"text-align: right;\">\n",
       "      <th></th>\n",
       "      <th>id</th>\n",
       "      <th>name</th>\n",
       "      <th>host_id</th>\n",
       "      <th>host_name</th>\n",
       "      <th>neighbourhood_group</th>\n",
       "      <th>neighbourhood</th>\n",
       "      <th>latitude</th>\n",
       "      <th>longitude</th>\n",
       "      <th>room_type</th>\n",
       "      <th>price</th>\n",
       "      <th>minimum_nights</th>\n",
       "      <th>number_of_reviews</th>\n",
       "      <th>last_review</th>\n",
       "      <th>reviews_per_month</th>\n",
       "      <th>calculated_host_listings_count</th>\n",
       "      <th>availability_365</th>\n",
       "    </tr>\n",
       "  </thead>\n",
       "  <tbody>\n",
       "    <tr>\n",
       "      <th>0</th>\n",
       "      <td>8736827</td>\n",
       "      <td>Rain or Shine Studios</td>\n",
       "      <td>45837698</td>\n",
       "      <td>Brian</td>\n",
       "      <td>Brooklyn</td>\n",
       "      <td>Sheepshead Bay</td>\n",
       "      <td>40.585989</td>\n",
       "      <td>-73.927617</td>\n",
       "      <td>Entire home/apt</td>\n",
       "      <td>2000</td>\n",
       "      <td>1</td>\n",
       "      <td>1</td>\n",
       "      <td>10/27/15</td>\n",
       "      <td>0.16</td>\n",
       "      <td>1</td>\n",
       "      <td>365</td>\n",
       "    </tr>\n",
       "    <tr>\n",
       "      <th>1</th>\n",
       "      <td>12270528</td>\n",
       "      <td>This is another cool listing in NYC</td>\n",
       "      <td>1667768</td>\n",
       "      <td>Martin</td>\n",
       "      <td>Manhattan</td>\n",
       "      <td>Financial District</td>\n",
       "      <td>40.704064</td>\n",
       "      <td>-74.016377</td>\n",
       "      <td>Entire home/apt</td>\n",
       "      <td>2000</td>\n",
       "      <td>1</td>\n",
       "      <td>0</td>\n",
       "      <td>NaN</td>\n",
       "      <td>NaN</td>\n",
       "      <td>2</td>\n",
       "      <td>365</td>\n",
       "    </tr>\n",
       "    <tr>\n",
       "      <th>2</th>\n",
       "      <td>5582283</td>\n",
       "      <td>Cozy bedroom in Brooklyn Sunsetpark</td>\n",
       "      <td>26098783</td>\n",
       "      <td>Sam</td>\n",
       "      <td>Brooklyn</td>\n",
       "      <td>Sunset Park</td>\n",
       "      <td>40.651185</td>\n",
       "      <td>-74.008421</td>\n",
       "      <td>Private room</td>\n",
       "      <td>2000</td>\n",
       "      <td>2</td>\n",
       "      <td>0</td>\n",
       "      <td>NaN</td>\n",
       "      <td>NaN</td>\n",
       "      <td>2</td>\n",
       "      <td>365</td>\n",
       "    </tr>\n",
       "    <tr>\n",
       "      <th>3</th>\n",
       "      <td>10549650</td>\n",
       "      <td>Prime Location Luxury Tribeca Loft</td>\n",
       "      <td>25996073</td>\n",
       "      <td>Jonathan</td>\n",
       "      <td>Manhattan</td>\n",
       "      <td>Tribeca</td>\n",
       "      <td>40.719915</td>\n",
       "      <td>-74.006409</td>\n",
       "      <td>Entire home/apt</td>\n",
       "      <td>2000</td>\n",
       "      <td>1</td>\n",
       "      <td>0</td>\n",
       "      <td>NaN</td>\n",
       "      <td>NaN</td>\n",
       "      <td>1</td>\n",
       "      <td>365</td>\n",
       "    </tr>\n",
       "    <tr>\n",
       "      <th>4</th>\n",
       "      <td>8515213</td>\n",
       "      <td>Studio 250 New York City</td>\n",
       "      <td>44837740</td>\n",
       "      <td>David</td>\n",
       "      <td>Manhattan</td>\n",
       "      <td>Midtown</td>\n",
       "      <td>40.755063</td>\n",
       "      <td>-73.989683</td>\n",
       "      <td>Entire home/apt</td>\n",
       "      <td>2000</td>\n",
       "      <td>1</td>\n",
       "      <td>1</td>\n",
       "      <td>1/2/16</td>\n",
       "      <td>0.25</td>\n",
       "      <td>1</td>\n",
       "      <td>351</td>\n",
       "    </tr>\n",
       "  </tbody>\n",
       "</table>\n",
       "</div>"
      ],
      "text/plain": [
       "         id                                 name   host_id host_name  \\\n",
       "0   8736827                Rain or Shine Studios  45837698     Brian   \n",
       "1  12270528  This is another cool listing in NYC   1667768    Martin   \n",
       "2   5582283  Cozy bedroom in Brooklyn Sunsetpark  26098783       Sam   \n",
       "3  10549650   Prime Location Luxury Tribeca Loft  25996073  Jonathan   \n",
       "4   8515213             Studio 250 New York City  44837740     David   \n",
       "\n",
       "  neighbourhood_group       neighbourhood   latitude  longitude  \\\n",
       "0            Brooklyn      Sheepshead Bay  40.585989 -73.927617   \n",
       "1           Manhattan  Financial District  40.704064 -74.016377   \n",
       "2            Brooklyn         Sunset Park  40.651185 -74.008421   \n",
       "3           Manhattan             Tribeca  40.719915 -74.006409   \n",
       "4           Manhattan             Midtown  40.755063 -73.989683   \n",
       "\n",
       "         room_type  price  minimum_nights  number_of_reviews last_review  \\\n",
       "0  Entire home/apt   2000               1                  1    10/27/15   \n",
       "1  Entire home/apt   2000               1                  0         NaN   \n",
       "2     Private room   2000               2                  0         NaN   \n",
       "3  Entire home/apt   2000               1                  0         NaN   \n",
       "4  Entire home/apt   2000               1                  1      1/2/16   \n",
       "\n",
       "   reviews_per_month  calculated_host_listings_count  availability_365  \n",
       "0               0.16                               1               365  \n",
       "1                NaN                               2               365  \n",
       "2                NaN                               2               365  \n",
       "3                NaN                               1               365  \n",
       "4               0.25                               1               351  "
      ]
     },
     "execution_count": 78,
     "metadata": {},
     "output_type": "execute_result"
    }
   ],
   "source": [
    "# read csv file and review it\n",
    "listNYC = pd.read_csv('airbnb_listings_NYC.csv', encoding = \"ISO-8859-1\") # read in the \"listings\" csv\n",
    "listNYC.head()"
   ]
  },
  {
   "cell_type": "code",
   "execution_count": 79,
   "metadata": {},
   "outputs": [
    {
     "name": "stdout",
     "output_type": "stream",
     "text": [
      "<class 'pandas.core.frame.DataFrame'>\n",
      "RangeIndex: 32546 entries, 0 to 32545\n",
      "Data columns (total 19 columns):\n",
      "id                                32546 non-null int64\n",
      "name                              32545 non-null object\n",
      "host_id                           32546 non-null int64\n",
      "host_name                         32541 non-null object\n",
      "neighbourhood_group               32546 non-null object\n",
      "neighbourhood                     32546 non-null object\n",
      "latitude                          32546 non-null float64\n",
      "longitude                         32546 non-null float64\n",
      "room_type                         32546 non-null object\n",
      "price                             32546 non-null int64\n",
      "minimum_nights                    32546 non-null int64\n",
      "number_of_reviews                 32546 non-null int64\n",
      "last_review                       25076 non-null object\n",
      "reviews_per_month                 25076 non-null float64\n",
      "calculated_host_listings_count    32546 non-null int64\n",
      "availability_365                  32546 non-null int64\n",
      "Entire home/apt                   32546 non-null int64\n",
      "Private room                      32546 non-null int64\n",
      "Shared room                       32546 non-null int64\n",
      "dtypes: float64(3), int64(10), object(6)\n",
      "memory usage: 4.7+ MB\n"
     ]
    }
   ],
   "source": [
    "#convert room type as binary variable using One-Hot encoding\n",
    "room_type_enc = pd.get_dummies(listNYC['room_type'], prefix=None, prefix_sep='_', dummy_na=False, columns='room_type', sparse=False, drop_first=False)\n",
    "room_type_enc.head()\n",
    "listNYC = pd.concat([listNYC, room_type_enc], axis=1)\n",
    "room_types = list(dict(room_type_enc.dtypes).keys())\n",
    "#room_types = ['Entire home/apt', 'Private room','Shared room']\n",
    "\n",
    "#change data type for new room types categories to integer\n",
    "listNYC[room_types]=listNYC[room_types].astype(np.int64)\n",
    "listNYC.info()"
   ]
  },
  {
   "cell_type": "code",
   "execution_count": 80,
   "metadata": {},
   "outputs": [
    {
     "name": "stdout",
     "output_type": "stream",
     "text": [
      "Some statistics about airbnb listing\n",
      "Price - Mean: 146.978399803 Standard deviation: 134.847860058\n",
      "Price - Median: 115.0\n",
      "Price - Min: 10 Max: 2000\n"
     ]
    }
   ],
   "source": [
    "#print some statistics\n",
    "print('Some statistics about airbnb listing')\n",
    "print('Price - Mean:', listNYC.price.mean(), 'Standard deviation:', listNYC.price.std())\n",
    "print ('Price - Median:',listNYC.price.median())\n",
    "print('Price - Min:', listNYC.price.min(), 'Max:', listNYC.price.max())"
   ]
  },
  {
   "cell_type": "code",
   "execution_count": 81,
   "metadata": {},
   "outputs": [
    {
     "data": {
      "text/plain": [
       "<matplotlib.text.Text at 0x11a809e50>"
      ]
     },
     "execution_count": 81,
     "metadata": {},
     "output_type": "execute_result"
    },
    {
     "data": {
      "image/png": "[encoded data removed]",
      "text/plain": [
       "<matplotlib.figure.Figure at 0x11a7cf6d0>"
      ]
     },
     "metadata": {},
     "output_type": "display_data"
    }
   ],
   "source": [
    "#create histogram for price to check normality\n",
    "price_hist_plot = listNYC['price'].plot(kind='hist',alpha=0.5,bins=50)\n",
    "price_hist_plot.set_title('Price per night chart')\n",
    "price_hist_plot.set_xlabel('Price ($)')\n",
    "price_hist_plot.set_ylabel('Number of properties')"
   ]
  },
  {
   "cell_type": "code",
   "execution_count": 82,
   "metadata": {},
   "outputs": [
    {
     "data": {
      "text/plain": [
       "<matplotlib.text.Text at 0x11a84dc90>"
      ]
     },
     "execution_count": 82,
     "metadata": {},
     "output_type": "execute_result"
    },
    {
     "data": {
      "image/png": "[encoded data removed]",
      "text/plain": [
       "<matplotlib.figure.Figure at 0x11a7cf4d0>"
      ]
     },
     "metadata": {},
     "output_type": "display_data"
    }
   ],
   "source": [
    "#create box plot for price\n",
    "price_box_plot = listNYC['price'].plot(kind='box')\n",
    "price_box_plot.set_title('Price per night chart')"
   ]
  },
  {
   "cell_type": "code",
   "execution_count": 83,
   "metadata": {},
   "outputs": [
    {
     "name": "stdout",
     "output_type": "stream",
     "text": [
      "Some statistics about airbnb listing after eliminating dataset with price > 1000\n",
      "Price - Mean: 142.764408556 Standard deviation: 110.367081804\n",
      "Price - Median: 113.0\n",
      "Price - Min: 10 Max: 1000\n"
     ]
    }
   ],
   "source": [
    "#filter the dataset with price < 2000\n",
    "listNYC = listNYC[listNYC.price <= 1000]\n",
    "#print some statistics\n",
    "print('Some statistics about airbnb listing after eliminating dataset with price > 1000')\n",
    "print('Price - Mean:', listNYC.price.mean(), 'Standard deviation:', listNYC.price.std())\n",
    "print ('Price - Median:',listNYC.price.median())\n",
    "print('Price - Min:', listNYC.price.min(), 'Max:', listNYC.price.max())"
   ]
  },
  {
   "cell_type": "code",
   "execution_count": 84,
   "metadata": {},
   "outputs": [
    {
     "data": {
      "text/plain": [
       "<matplotlib.text.Text at 0x1202a5710>"
      ]
     },
     "execution_count": 84,
     "metadata": {},
     "output_type": "execute_result"
    },
    {
     "data": {
      "image/png": "[encoded data removed]",
      "text/plain": [
       "<matplotlib.figure.Figure at 0x1210f2a10>"
      ]
     },
     "metadata": {},
     "output_type": "display_data"
    }
   ],
   "source": [
    "#create histogram for price to check normality\n",
    "price_hist_plot = listNYC['price'].plot(kind='hist',alpha=0.5,bins=50)\n",
    "price_hist_plot.set_title('Price per night chart after removing prices > 1000')\n",
    "price_hist_plot.set_xlabel('Price ($)')\n",
    "price_hist_plot.set_ylabel('Number of properties')"
   ]
  },
  {
   "cell_type": "code",
   "execution_count": 85,
   "metadata": {},
   "outputs": [
    {
     "data": {
      "text/plain": [
       "<matplotlib.text.Text at 0x1202b2190>"
      ]
     },
     "execution_count": 85,
     "metadata": {},
     "output_type": "execute_result"
    },
    {
     "data": {
      "image/png": "[encoded data removed]",
      "text/plain": [
       "<matplotlib.figure.Figure at 0x12114c190>"
      ]
     },
     "metadata": {},
     "output_type": "display_data"
    }
   ],
   "source": [
    "#create box plot for price\n",
    "price_box_plot.set_title('Price per night chart after removing prices > 1000')\n",
    "price_box_plot = listNYC['price'].plot(kind='box')\n",
    "price_box_plot.set_title('Price per night chart')"
   ]
  },
  {
   "cell_type": "code",
   "execution_count": 86,
   "metadata": {},
   "outputs": [
    {
     "data": {
      "text/html": [
       "<div>\n",
       "<table border=\"1\" class=\"dataframe\">\n",
       "  <thead>\n",
       "    <tr style=\"text-align: right;\">\n",
       "      <th></th>\n",
       "      <th>neighbourhood_group</th>\n",
       "      <th>neighbourhood</th>\n",
       "      <th>Entire home/apt</th>\n",
       "      <th>Private room</th>\n",
       "      <th>Shared room</th>\n",
       "      <th>price</th>\n",
       "      <th>minimum_nights</th>\n",
       "      <th>number_of_reviews</th>\n",
       "      <th>calculated_host_listings_count</th>\n",
       "      <th>availability_365</th>\n",
       "    </tr>\n",
       "  </thead>\n",
       "  <tbody>\n",
       "    <tr>\n",
       "      <th>102</th>\n",
       "      <td>Manhattan</td>\n",
       "      <td>Hell's Kitchen</td>\n",
       "      <td>1</td>\n",
       "      <td>0</td>\n",
       "      <td>0</td>\n",
       "      <td>1000</td>\n",
       "      <td>1</td>\n",
       "      <td>0</td>\n",
       "      <td>1</td>\n",
       "      <td>365</td>\n",
       "    </tr>\n",
       "    <tr>\n",
       "      <th>106</th>\n",
       "      <td>Manhattan</td>\n",
       "      <td>Gramercy</td>\n",
       "      <td>1</td>\n",
       "      <td>0</td>\n",
       "      <td>0</td>\n",
       "      <td>1000</td>\n",
       "      <td>7</td>\n",
       "      <td>0</td>\n",
       "      <td>1</td>\n",
       "      <td>365</td>\n",
       "    </tr>\n",
       "    <tr>\n",
       "      <th>107</th>\n",
       "      <td>Manhattan</td>\n",
       "      <td>Morningside Heights</td>\n",
       "      <td>1</td>\n",
       "      <td>0</td>\n",
       "      <td>0</td>\n",
       "      <td>1000</td>\n",
       "      <td>1</td>\n",
       "      <td>0</td>\n",
       "      <td>2</td>\n",
       "      <td>365</td>\n",
       "    </tr>\n",
       "    <tr>\n",
       "      <th>109</th>\n",
       "      <td>Manhattan</td>\n",
       "      <td>West Village</td>\n",
       "      <td>1</td>\n",
       "      <td>0</td>\n",
       "      <td>0</td>\n",
       "      <td>1000</td>\n",
       "      <td>3</td>\n",
       "      <td>1</td>\n",
       "      <td>1</td>\n",
       "      <td>365</td>\n",
       "    </tr>\n",
       "    <tr>\n",
       "      <th>110</th>\n",
       "      <td>Manhattan</td>\n",
       "      <td>East Village</td>\n",
       "      <td>1</td>\n",
       "      <td>0</td>\n",
       "      <td>0</td>\n",
       "      <td>1000</td>\n",
       "      <td>1</td>\n",
       "      <td>0</td>\n",
       "      <td>1</td>\n",
       "      <td>364</td>\n",
       "    </tr>\n",
       "  </tbody>\n",
       "</table>\n",
       "</div>"
      ],
      "text/plain": [
       "    neighbourhood_group        neighbourhood  Entire home/apt  Private room  \\\n",
       "102           Manhattan       Hell's Kitchen                1             0   \n",
       "106           Manhattan             Gramercy                1             0   \n",
       "107           Manhattan  Morningside Heights                1             0   \n",
       "109           Manhattan         West Village                1             0   \n",
       "110           Manhattan         East Village                1             0   \n",
       "\n",
       "     Shared room  price  minimum_nights  number_of_reviews  \\\n",
       "102            0   1000               1                  0   \n",
       "106            0   1000               7                  0   \n",
       "107            0   1000               1                  0   \n",
       "109            0   1000               3                  1   \n",
       "110            0   1000               1                  0   \n",
       "\n",
       "     calculated_host_listings_count  availability_365  \n",
       "102                               1               365  \n",
       "106                               1               365  \n",
       "107                               2               365  \n",
       "109                               1               365  \n",
       "110                               1               364  "
      ]
     },
     "execution_count": 86,
     "metadata": {},
     "output_type": "execute_result"
    }
   ],
   "source": [
    "#Modify listNYC to only include required attributes\n",
    "listNYC_ng = listNYC[['neighbourhood_group','neighbourhood','Entire home/apt'\n",
    "                      ,'Private room','Shared room','price','minimum_nights'\n",
    "                      ,'number_of_reviews','calculated_host_listings_count'\n",
    "                      ,'availability_365']]\n",
    "listNYC_ng = listNYC_ng[(listNYC.neighbourhood_group == 'Manhattan')].copy(deep=True)\n",
    "listNYC_ng.head()"
   ]
  },
  {
   "cell_type": "code",
   "execution_count": 87,
   "metadata": {},
   "outputs": [
    {
     "name": "stdout",
     "output_type": "stream",
     "text": [
      "Some statistics about airbnb listed as nieghbourhood group\n",
      "Price - Mean: 171.83737129 Standard deviation: 123.099627225\n",
      "Price - Median: 145.0\n",
      "Price - Min: 10 Max: 1000\n"
     ]
    }
   ],
   "source": [
    "#print some statistics\n",
    "print('Some statistics about airbnb listed as nieghbourhood group')\n",
    "print('Price - Mean:', listNYC_ng.price.mean(), 'Standard deviation:', listNYC_ng.price.std())\n",
    "print ('Price - Median:',listNYC_ng.price.median())\n",
    "print('Price - Min:', listNYC_ng.price.min(), 'Max:', listNYC_ng.price.max())"
   ]
  },
  {
   "cell_type": "code",
   "execution_count": 88,
   "metadata": {},
   "outputs": [
    {
     "data": {
      "text/plain": [
       "<matplotlib.text.Text at 0x121a467d0>"
      ]
     },
     "execution_count": 88,
     "metadata": {},
     "output_type": "execute_result"
    },
    {
     "data": {
      "image/png": "[encoded data removed]",
      "text/plain": [
       "<matplotlib.figure.Figure at 0x121197190>"
      ]
     },
     "metadata": {},
     "output_type": "display_data"
    }
   ],
   "source": [
    "#create histogram for price to check normality\n",
    "price_hist_plot = listNYC_ng['price'].hist(bins=50)\n",
    "price_hist_plot.set_title('Price per night chart in neighbourhood groups')\n",
    "price_hist_plot.set_xlabel('Price ($)')\n",
    "price_hist_plot.set_ylabel('Number of properties')"
   ]
  },
  {
   "cell_type": "code",
   "execution_count": 89,
   "metadata": {},
   "outputs": [
    {
     "data": {
      "text/plain": [
       "<matplotlib.text.Text at 0x11f49b550>"
      ]
     },
     "execution_count": 89,
     "metadata": {},
     "output_type": "execute_result"
    },
    {
     "data": {
      "image/png": "[encoded data removed]",
      "text/plain": [
       "<matplotlib.figure.Figure at 0x11f47eb50>"
      ]
     },
     "metadata": {},
     "output_type": "display_data"
    }
   ],
   "source": [
    "#create box plot for price\n",
    "price_box_plot = listNYC_ng['price'].plot(kind='box')\n",
    "price_box_plot.set_title('Price per night chart in neighbourhood groups')"
   ]
  },
  {
   "cell_type": "code",
   "execution_count": 90,
   "metadata": {},
   "outputs": [
    {
     "data": {
      "text/html": [
       "<div>\n",
       "<table border=\"1\" class=\"dataframe\">\n",
       "  <thead>\n",
       "    <tr style=\"text-align: right;\">\n",
       "      <th></th>\n",
       "      <th>neighbourhood</th>\n",
       "      <th>Entire home/apt</th>\n",
       "      <th>Private room</th>\n",
       "      <th>Shared room</th>\n",
       "      <th>price</th>\n",
       "      <th>minimum_nights</th>\n",
       "      <th>number_of_reviews</th>\n",
       "      <th>calculated_host_listings_count</th>\n",
       "      <th>availability_365</th>\n",
       "    </tr>\n",
       "  </thead>\n",
       "  <tbody>\n",
       "    <tr>\n",
       "      <th>102</th>\n",
       "      <td>Hell's Kitchen</td>\n",
       "      <td>1</td>\n",
       "      <td>0</td>\n",
       "      <td>0</td>\n",
       "      <td>1000</td>\n",
       "      <td>1</td>\n",
       "      <td>0</td>\n",
       "      <td>1</td>\n",
       "      <td>365</td>\n",
       "    </tr>\n",
       "    <tr>\n",
       "      <th>106</th>\n",
       "      <td>Gramercy</td>\n",
       "      <td>1</td>\n",
       "      <td>0</td>\n",
       "      <td>0</td>\n",
       "      <td>1000</td>\n",
       "      <td>7</td>\n",
       "      <td>0</td>\n",
       "      <td>1</td>\n",
       "      <td>365</td>\n",
       "    </tr>\n",
       "    <tr>\n",
       "      <th>107</th>\n",
       "      <td>Morningside Heights</td>\n",
       "      <td>1</td>\n",
       "      <td>0</td>\n",
       "      <td>0</td>\n",
       "      <td>1000</td>\n",
       "      <td>1</td>\n",
       "      <td>0</td>\n",
       "      <td>2</td>\n",
       "      <td>365</td>\n",
       "    </tr>\n",
       "    <tr>\n",
       "      <th>109</th>\n",
       "      <td>West Village</td>\n",
       "      <td>1</td>\n",
       "      <td>0</td>\n",
       "      <td>0</td>\n",
       "      <td>1000</td>\n",
       "      <td>3</td>\n",
       "      <td>1</td>\n",
       "      <td>1</td>\n",
       "      <td>365</td>\n",
       "    </tr>\n",
       "    <tr>\n",
       "      <th>110</th>\n",
       "      <td>East Village</td>\n",
       "      <td>1</td>\n",
       "      <td>0</td>\n",
       "      <td>0</td>\n",
       "      <td>1000</td>\n",
       "      <td>1</td>\n",
       "      <td>0</td>\n",
       "      <td>1</td>\n",
       "      <td>364</td>\n",
       "    </tr>\n",
       "  </tbody>\n",
       "</table>\n",
       "</div>"
      ],
      "text/plain": [
       "           neighbourhood  Entire home/apt  Private room  Shared room  price  \\\n",
       "102       Hell's Kitchen                1             0            0   1000   \n",
       "106             Gramercy                1             0            0   1000   \n",
       "107  Morningside Heights                1             0            0   1000   \n",
       "109         West Village                1             0            0   1000   \n",
       "110         East Village                1             0            0   1000   \n",
       "\n",
       "     minimum_nights  number_of_reviews  calculated_host_listings_count  \\\n",
       "102               1                  0                               1   \n",
       "106               7                  0                               1   \n",
       "107               1                  0                               2   \n",
       "109               3                  1                               1   \n",
       "110               1                  0                               1   \n",
       "\n",
       "     availability_365  \n",
       "102               365  \n",
       "106               365  \n",
       "107               365  \n",
       "109               365  \n",
       "110               364  "
      ]
     },
     "execution_count": 90,
     "metadata": {},
     "output_type": "execute_result"
    }
   ],
   "source": [
    "#Filter data set with Manhattan neighbourhood group\n",
    "listNYC_Manhattan = listNYC[(listNYC.neighbourhood_group == 'Manhattan')]\n",
    "listNYC_Manhattan = listNYC_Manhattan[['neighbourhood','Entire home/apt','Private room','Shared room','price','minimum_nights','number_of_reviews','calculated_host_listings_count','availability_365']]\n",
    "listNYC_Manhattan = listNYC_Manhattan.copy(deep=True)\n",
    "listNYC_Manhattan.head()"
   ]
  },
  {
   "cell_type": "code",
   "execution_count": 91,
   "metadata": {},
   "outputs": [
    {
     "name": "stdout",
     "output_type": "stream",
     "text": [
      "<class 'pandas.core.frame.DataFrame'>\n",
      "Int64Index: 16510 entries, 102 to 32545\n",
      "Data columns (total 41 columns):\n",
      "neighbourhood                     16510 non-null object\n",
      "Entire home/apt                   16510 non-null int64\n",
      "Private room                      16510 non-null int64\n",
      "Shared room                       16510 non-null int64\n",
      "price                             16510 non-null int64\n",
      "minimum_nights                    16510 non-null int64\n",
      "number_of_reviews                 16510 non-null int64\n",
      "calculated_host_listings_count    16510 non-null int64\n",
      "availability_365                  16510 non-null int64\n",
      "Battery Park City                 16510 non-null int64\n",
      "Chelsea                           16510 non-null int64\n",
      "Chinatown                         16510 non-null int64\n",
      "Civic Center                      16510 non-null int64\n",
      "East Harlem                       16510 non-null int64\n",
      "East Village                      16510 non-null int64\n",
      "Financial District                16510 non-null int64\n",
      "Flatiron District                 16510 non-null int64\n",
      "Gramercy                          16510 non-null int64\n",
      "Greenwich Village                 16510 non-null int64\n",
      "Harlem                            16510 non-null int64\n",
      "Hell's Kitchen                    16510 non-null int64\n",
      "Inwood                            16510 non-null int64\n",
      "Kips Bay                          16510 non-null int64\n",
      "Little Italy                      16510 non-null int64\n",
      "Lower East Side                   16510 non-null int64\n",
      "Marble Hill                       16510 non-null int64\n",
      "Midtown                           16510 non-null int64\n",
      "Morningside Heights               16510 non-null int64\n",
      "Murray Hill                       16510 non-null int64\n",
      "NoHo                              16510 non-null int64\n",
      "Nolita                            16510 non-null int64\n",
      "Roosevelt Island                  16510 non-null int64\n",
      "SoHo                              16510 non-null int64\n",
      "Stuyvesant Town                   16510 non-null int64\n",
      "Theater District                  16510 non-null int64\n",
      "Tribeca                           16510 non-null int64\n",
      "Two Bridges                       16510 non-null int64\n",
      "Upper East Side                   16510 non-null int64\n",
      "Upper West Side                   16510 non-null int64\n",
      "Washington Heights                16510 non-null int64\n",
      "West Village                      16510 non-null int64\n",
      "dtypes: int64(40), object(1)\n",
      "memory usage: 5.3+ MB\n"
     ]
    }
   ],
   "source": [
    "#convert neighbourhoods in Manhattan as binary variable using One-Hot encoding\n",
    "neighbourhood_enc = pd.get_dummies(listNYC_Manhattan['neighbourhood'], prefix=None, prefix_sep='_', dummy_na=False, columns='neighbourhood', sparse=False, drop_first=False)\n",
    "neighbourhood_enc.head()\n",
    "\n",
    "neighbourhoods = list(dict(neighbourhood_enc.dtypes).keys())\n",
    "\n",
    "listNYC_Manhattan = pd.concat([listNYC_Manhattan, neighbourhood_enc], axis=1)\n",
    "\n",
    "#change data type for new neighbourhood types categories to integer\n",
    "listNYC_Manhattan[neighbourhoods]=listNYC_Manhattan[neighbourhoods].astype(np.int64)\n",
    "#del listNYC_Manhattan['neighbourhood']\n",
    "listNYC_Manhattan.info()"
   ]
  },
  {
   "cell_type": "code",
   "execution_count": 92,
   "metadata": {},
   "outputs": [
    {
     "data": {
      "text/html": [
       "<div>\n",
       "<table border=\"1\" class=\"dataframe\">\n",
       "  <thead>\n",
       "    <tr style=\"text-align: right;\">\n",
       "      <th></th>\n",
       "      <th>neighbourhood</th>\n",
       "      <th>Entire home/apt</th>\n",
       "      <th>Private room</th>\n",
       "      <th>Shared room</th>\n",
       "      <th>price</th>\n",
       "      <th>minimum_nights</th>\n",
       "      <th>number_of_reviews</th>\n",
       "      <th>calculated_host_listings_count</th>\n",
       "      <th>availability_365</th>\n",
       "      <th>Battery Park City</th>\n",
       "      <th>...</th>\n",
       "      <th>Roosevelt Island</th>\n",
       "      <th>SoHo</th>\n",
       "      <th>Stuyvesant Town</th>\n",
       "      <th>Theater District</th>\n",
       "      <th>Tribeca</th>\n",
       "      <th>Two Bridges</th>\n",
       "      <th>Upper East Side</th>\n",
       "      <th>Upper West Side</th>\n",
       "      <th>Washington Heights</th>\n",
       "      <th>West Village</th>\n",
       "    </tr>\n",
       "  </thead>\n",
       "  <tbody>\n",
       "    <tr>\n",
       "      <th>102</th>\n",
       "      <td>Hell's Kitchen</td>\n",
       "      <td>1</td>\n",
       "      <td>0</td>\n",
       "      <td>0</td>\n",
       "      <td>1000</td>\n",
       "      <td>1</td>\n",
       "      <td>0</td>\n",
       "      <td>1</td>\n",
       "      <td>365</td>\n",
       "      <td>0</td>\n",
       "      <td>...</td>\n",
       "      <td>0</td>\n",
       "      <td>0</td>\n",
       "      <td>0</td>\n",
       "      <td>0</td>\n",
       "      <td>0</td>\n",
       "      <td>0</td>\n",
       "      <td>0</td>\n",
       "      <td>0</td>\n",
       "      <td>0</td>\n",
       "      <td>0</td>\n",
       "    </tr>\n",
       "    <tr>\n",
       "      <th>106</th>\n",
       "      <td>Gramercy</td>\n",
       "      <td>1</td>\n",
       "      <td>0</td>\n",
       "      <td>0</td>\n",
       "      <td>1000</td>\n",
       "      <td>7</td>\n",
       "      <td>0</td>\n",
       "      <td>1</td>\n",
       "      <td>365</td>\n",
       "      <td>0</td>\n",
       "      <td>...</td>\n",
       "      <td>0</td>\n",
       "      <td>0</td>\n",
       "      <td>0</td>\n",
       "      <td>0</td>\n",
       "      <td>0</td>\n",
       "      <td>0</td>\n",
       "      <td>0</td>\n",
       "      <td>0</td>\n",
       "      <td>0</td>\n",
       "      <td>0</td>\n",
       "    </tr>\n",
       "    <tr>\n",
       "      <th>107</th>\n",
       "      <td>Morningside Heights</td>\n",
       "      <td>1</td>\n",
       "      <td>0</td>\n",
       "      <td>0</td>\n",
       "      <td>1000</td>\n",
       "      <td>1</td>\n",
       "      <td>0</td>\n",
       "      <td>2</td>\n",
       "      <td>365</td>\n",
       "      <td>0</td>\n",
       "      <td>...</td>\n",
       "      <td>0</td>\n",
       "      <td>0</td>\n",
       "      <td>0</td>\n",
       "      <td>0</td>\n",
       "      <td>0</td>\n",
       "      <td>0</td>\n",
       "      <td>0</td>\n",
       "      <td>0</td>\n",
       "      <td>0</td>\n",
       "      <td>0</td>\n",
       "    </tr>\n",
       "    <tr>\n",
       "      <th>109</th>\n",
       "      <td>West Village</td>\n",
       "      <td>1</td>\n",
       "      <td>0</td>\n",
       "      <td>0</td>\n",
       "      <td>1000</td>\n",
       "      <td>3</td>\n",
       "      <td>1</td>\n",
       "      <td>1</td>\n",
       "      <td>365</td>\n",
       "      <td>0</td>\n",
       "      <td>...</td>\n",
       "      <td>0</td>\n",
       "      <td>0</td>\n",
       "      <td>0</td>\n",
       "      <td>0</td>\n",
       "      <td>0</td>\n",
       "      <td>0</td>\n",
       "      <td>0</td>\n",
       "      <td>0</td>\n",
       "      <td>0</td>\n",
       "      <td>1</td>\n",
       "    </tr>\n",
       "    <tr>\n",
       "      <th>110</th>\n",
       "      <td>East Village</td>\n",
       "      <td>1</td>\n",
       "      <td>0</td>\n",
       "      <td>0</td>\n",
       "      <td>1000</td>\n",
       "      <td>1</td>\n",
       "      <td>0</td>\n",
       "      <td>1</td>\n",
       "      <td>364</td>\n",
       "      <td>0</td>\n",
       "      <td>...</td>\n",
       "      <td>0</td>\n",
       "      <td>0</td>\n",
       "      <td>0</td>\n",
       "      <td>0</td>\n",
       "      <td>0</td>\n",
       "      <td>0</td>\n",
       "      <td>0</td>\n",
       "      <td>0</td>\n",
       "      <td>0</td>\n",
       "      <td>0</td>\n",
       "    </tr>\n",
       "  </tbody>\n",
       "</table>\n",
       "<p>5 rows × 41 columns</p>\n",
       "</div>"
      ],
      "text/plain": [
       "           neighbourhood  Entire home/apt  Private room  Shared room  price  \\\n",
       "102       Hell's Kitchen                1             0            0   1000   \n",
       "106             Gramercy                1             0            0   1000   \n",
       "107  Morningside Heights                1             0            0   1000   \n",
       "109         West Village                1             0            0   1000   \n",
       "110         East Village                1             0            0   1000   \n",
       "\n",
       "     minimum_nights  number_of_reviews  calculated_host_listings_count  \\\n",
       "102               1                  0                               1   \n",
       "106               7                  0                               1   \n",
       "107               1                  0                               2   \n",
       "109               3                  1                               1   \n",
       "110               1                  0                               1   \n",
       "\n",
       "     availability_365  Battery Park City      ...       Roosevelt Island  \\\n",
       "102               365                  0      ...                      0   \n",
       "106               365                  0      ...                      0   \n",
       "107               365                  0      ...                      0   \n",
       "109               365                  0      ...                      0   \n",
       "110               364                  0      ...                      0   \n",
       "\n",
       "     SoHo  Stuyvesant Town  Theater District  Tribeca  Two Bridges  \\\n",
       "102     0                0                 0        0            0   \n",
       "106     0                0                 0        0            0   \n",
       "107     0                0                 0        0            0   \n",
       "109     0                0                 0        0            0   \n",
       "110     0                0                 0        0            0   \n",
       "\n",
       "     Upper East Side  Upper West Side  Washington Heights  West Village  \n",
       "102                0                0                   0             0  \n",
       "106                0                0                   0             0  \n",
       "107                0                0                   0             0  \n",
       "109                0                0                   0             1  \n",
       "110                0                0                   0             0  \n",
       "\n",
       "[5 rows x 41 columns]"
      ]
     },
     "execution_count": 92,
     "metadata": {},
     "output_type": "execute_result"
    }
   ],
   "source": [
    "#print some records to evaluate\n",
    "listNYC_Manhattan.head()"
   ]
  },
  {
   "cell_type": "code",
   "execution_count": 93,
   "metadata": {},
   "outputs": [
    {
     "name": "stdout",
     "output_type": "stream",
     "text": [
      "Some statistics about airbnb listing in Manhattan nieghbourhood group\n",
      "Price - Mean: 171.83737129 Standard deviation: 123.099627225\n",
      "Price - Median: 145.0\n",
      "Price - Min: 10 Max: 1000\n"
     ]
    }
   ],
   "source": [
    "#print some statistics\n",
    "listNYC_Manhattan_mean = listNYC_Manhattan.price.mean()\n",
    "listNYC_Manhattan_median = listNYC_Manhattan.price.median()\n",
    "listNYC_Manhattan_std = listNYC_Manhattan.price.std()\n",
    "listNYC_Manhattan_min = listNYC_Manhattan.price.min()\n",
    "listNYC_Manhattan_max = listNYC_Manhattan.price.max()\n",
    "\n",
    "print('Some statistics about airbnb listing in Manhattan nieghbourhood group')\n",
    "print('Price - Mean:',listNYC_Manhattan_mean , 'Standard deviation:', listNYC_Manhattan_std)\n",
    "print ('Price - Median:',listNYC_Manhattan_median)\n",
    "print('Price - Min:',listNYC_Manhattan_min , 'Max:', listNYC_Manhattan_max )"
   ]
  },
  {
   "cell_type": "code",
   "execution_count": 94,
   "metadata": {},
   "outputs": [
    {
     "data": {
      "text/html": [
       "<div>\n",
       "<table border=\"1\" class=\"dataframe\">\n",
       "  <thead>\n",
       "    <tr style=\"text-align: right;\">\n",
       "      <th></th>\n",
       "      <th>neighbourhood</th>\n",
       "      <th>Entire home/apt</th>\n",
       "      <th>Private room</th>\n",
       "      <th>Shared room</th>\n",
       "      <th>price</th>\n",
       "      <th>minimum_nights</th>\n",
       "      <th>number_of_reviews</th>\n",
       "      <th>calculated_host_listings_count</th>\n",
       "      <th>availability_365</th>\n",
       "      <th>Battery Park City</th>\n",
       "      <th>...</th>\n",
       "      <th>SoHo</th>\n",
       "      <th>Stuyvesant Town</th>\n",
       "      <th>Theater District</th>\n",
       "      <th>Tribeca</th>\n",
       "      <th>Two Bridges</th>\n",
       "      <th>Upper East Side</th>\n",
       "      <th>Upper West Side</th>\n",
       "      <th>Washington Heights</th>\n",
       "      <th>West Village</th>\n",
       "      <th>price_range</th>\n",
       "    </tr>\n",
       "  </thead>\n",
       "  <tbody>\n",
       "    <tr>\n",
       "      <th>102</th>\n",
       "      <td>Hell's Kitchen</td>\n",
       "      <td>1</td>\n",
       "      <td>0</td>\n",
       "      <td>0</td>\n",
       "      <td>1000</td>\n",
       "      <td>1</td>\n",
       "      <td>0</td>\n",
       "      <td>1</td>\n",
       "      <td>365</td>\n",
       "      <td>0</td>\n",
       "      <td>...</td>\n",
       "      <td>0</td>\n",
       "      <td>0</td>\n",
       "      <td>0</td>\n",
       "      <td>0</td>\n",
       "      <td>0</td>\n",
       "      <td>0</td>\n",
       "      <td>0</td>\n",
       "      <td>0</td>\n",
       "      <td>0</td>\n",
       "      <td>950+</td>\n",
       "    </tr>\n",
       "    <tr>\n",
       "      <th>106</th>\n",
       "      <td>Gramercy</td>\n",
       "      <td>1</td>\n",
       "      <td>0</td>\n",
       "      <td>0</td>\n",
       "      <td>1000</td>\n",
       "      <td>7</td>\n",
       "      <td>0</td>\n",
       "      <td>1</td>\n",
       "      <td>365</td>\n",
       "      <td>0</td>\n",
       "      <td>...</td>\n",
       "      <td>0</td>\n",
       "      <td>0</td>\n",
       "      <td>0</td>\n",
       "      <td>0</td>\n",
       "      <td>0</td>\n",
       "      <td>0</td>\n",
       "      <td>0</td>\n",
       "      <td>0</td>\n",
       "      <td>0</td>\n",
       "      <td>950+</td>\n",
       "    </tr>\n",
       "    <tr>\n",
       "      <th>107</th>\n",
       "      <td>Morningside Heights</td>\n",
       "      <td>1</td>\n",
       "      <td>0</td>\n",
       "      <td>0</td>\n",
       "      <td>1000</td>\n",
       "      <td>1</td>\n",
       "      <td>0</td>\n",
       "      <td>2</td>\n",
       "      <td>365</td>\n",
       "      <td>0</td>\n",
       "      <td>...</td>\n",
       "      <td>0</td>\n",
       "      <td>0</td>\n",
       "      <td>0</td>\n",
       "      <td>0</td>\n",
       "      <td>0</td>\n",
       "      <td>0</td>\n",
       "      <td>0</td>\n",
       "      <td>0</td>\n",
       "      <td>0</td>\n",
       "      <td>950+</td>\n",
       "    </tr>\n",
       "    <tr>\n",
       "      <th>109</th>\n",
       "      <td>West Village</td>\n",
       "      <td>1</td>\n",
       "      <td>0</td>\n",
       "      <td>0</td>\n",
       "      <td>1000</td>\n",
       "      <td>3</td>\n",
       "      <td>1</td>\n",
       "      <td>1</td>\n",
       "      <td>365</td>\n",
       "      <td>0</td>\n",
       "      <td>...</td>\n",
       "      <td>0</td>\n",
       "      <td>0</td>\n",
       "      <td>0</td>\n",
       "      <td>0</td>\n",
       "      <td>0</td>\n",
       "      <td>0</td>\n",
       "      <td>0</td>\n",
       "      <td>0</td>\n",
       "      <td>1</td>\n",
       "      <td>950+</td>\n",
       "    </tr>\n",
       "    <tr>\n",
       "      <th>110</th>\n",
       "      <td>East Village</td>\n",
       "      <td>1</td>\n",
       "      <td>0</td>\n",
       "      <td>0</td>\n",
       "      <td>1000</td>\n",
       "      <td>1</td>\n",
       "      <td>0</td>\n",
       "      <td>1</td>\n",
       "      <td>364</td>\n",
       "      <td>0</td>\n",
       "      <td>...</td>\n",
       "      <td>0</td>\n",
       "      <td>0</td>\n",
       "      <td>0</td>\n",
       "      <td>0</td>\n",
       "      <td>0</td>\n",
       "      <td>0</td>\n",
       "      <td>0</td>\n",
       "      <td>0</td>\n",
       "      <td>0</td>\n",
       "      <td>950+</td>\n",
       "    </tr>\n",
       "  </tbody>\n",
       "</table>\n",
       "<p>5 rows × 42 columns</p>\n",
       "</div>"
      ],
      "text/plain": [
       "           neighbourhood  Entire home/apt  Private room  Shared room  price  \\\n",
       "102       Hell's Kitchen                1             0            0   1000   \n",
       "106             Gramercy                1             0            0   1000   \n",
       "107  Morningside Heights                1             0            0   1000   \n",
       "109         West Village                1             0            0   1000   \n",
       "110         East Village                1             0            0   1000   \n",
       "\n",
       "     minimum_nights  number_of_reviews  calculated_host_listings_count  \\\n",
       "102               1                  0                               1   \n",
       "106               7                  0                               1   \n",
       "107               1                  0                               2   \n",
       "109               3                  1                               1   \n",
       "110               1                  0                               1   \n",
       "\n",
       "     availability_365  Battery Park City     ...       SoHo  Stuyvesant Town  \\\n",
       "102               365                  0     ...          0                0   \n",
       "106               365                  0     ...          0                0   \n",
       "107               365                  0     ...          0                0   \n",
       "109               365                  0     ...          0                0   \n",
       "110               364                  0     ...          0                0   \n",
       "\n",
       "     Theater District  Tribeca  Two Bridges  Upper East Side  Upper West Side  \\\n",
       "102                 0        0            0                0                0   \n",
       "106                 0        0            0                0                0   \n",
       "107                 0        0            0                0                0   \n",
       "109                 0        0            0                0                0   \n",
       "110                 0        0            0                0                0   \n",
       "\n",
       "     Washington Heights  West Village  price_range  \n",
       "102                   0             0         950+  \n",
       "106                   0             0         950+  \n",
       "107                   0             0         950+  \n",
       "109                   0             1         950+  \n",
       "110                   0             0         950+  \n",
       "\n",
       "[5 rows x 42 columns]"
      ]
     },
     "execution_count": 94,
     "metadata": {},
     "output_type": "execute_result"
    }
   ],
   "source": [
    "#create price bins for $50 incremental\n",
    "bins =  [0,50,100,150,200,250,300,350,400,450,500,550,600,650,700,750,800,850,900,950,1000]\n",
    "bin_names = ['0-49','50-99','100-149','150-199','200-249','250-299','300-349','350-399','400-449','450-499','500-549','550-599','600-649','650-699','700-749','750-799','800-849','850-899','900-949','950+']\n",
    "price_range = pd.cut(listNYC_Manhattan['price'], bins, labels=bin_names)\n",
    "listNYC_Manhattan['price_range'] = pd.cut(listNYC_Manhattan['price'], bins, labels=bin_names)\n",
    "listNYC_Manhattan.head()"
   ]
  },
  {
   "cell_type": "code",
   "execution_count": 95,
   "metadata": {},
   "outputs": [
    {
     "data": {
      "image/png": "[encoded data removed]",
      "text/plain": [
       "<matplotlib.figure.Figure at 0x11f4e4590>"
      ]
     },
     "metadata": {},
     "output_type": "display_data"
    }
   ],
   "source": [
    "#create histogram for price to check normality\n",
    "price_hist_plot = listNYC_Manhattan['price'].hist(by=listNYC_Manhattan['price_range'], figsize=(10,10))\n",
    "#price_hist_plot.set_title('Price per night chart in Manhattan neighbourhood group')\n",
    "#price_hist_plot.set_xlabel('Price ($)')\n",
    "#price_hist_plot.set_ylabel('Number of properties')"
   ]
  },
  {
   "cell_type": "code",
   "execution_count": 96,
   "metadata": {},
   "outputs": [
    {
     "data": {
      "text/plain": [
       "<matplotlib.axes._subplots.AxesSubplot at 0x123892b50>"
      ]
     },
     "execution_count": 96,
     "metadata": {},
     "output_type": "execute_result"
    },
    {
     "data": {
      "image/png": "[encoded data removed]",
      "text/plain": [
       "<matplotlib.figure.Figure at 0x123735150>"
      ]
     },
     "metadata": {},
     "output_type": "display_data"
    }
   ],
   "source": [
    "#create box plot for price\n",
    "listNYC_Manhattan.boxplot(column='price', by='price_range', ax=None, fontsize=None, rot=0, grid=False, figsize=(10,10), layout=None, return_type=None)\n",
    "#price_box_plot = listNYC_Manhattan['price'].plot(kind='box', by='price_range')\n",
    "#price_box_plot.set_title('Price per night chart in Manhattan neighbourhood group')"
   ]
  },
  {
   "cell_type": "code",
   "execution_count": 97,
   "metadata": {},
   "outputs": [
    {
     "name": "stdout",
     "output_type": "stream",
     "text": [
      "<class 'pandas.core.frame.DataFrame'>\n",
      "Int64Index: 16510 entries, 102 to 32545\n",
      "Data columns (total 62 columns):\n",
      "neighbourhood                     16510 non-null object\n",
      "Entire home/apt                   16510 non-null int64\n",
      "Private room                      16510 non-null int64\n",
      "Shared room                       16510 non-null int64\n",
      "price                             16510 non-null int64\n",
      "minimum_nights                    16510 non-null int64\n",
      "number_of_reviews                 16510 non-null int64\n",
      "calculated_host_listings_count    16510 non-null int64\n",
      "availability_365                  16510 non-null int64\n",
      "Battery Park City                 16510 non-null int64\n",
      "Chelsea                           16510 non-null int64\n",
      "Chinatown                         16510 non-null int64\n",
      "Civic Center                      16510 non-null int64\n",
      "East Harlem                       16510 non-null int64\n",
      "East Village                      16510 non-null int64\n",
      "Financial District                16510 non-null int64\n",
      "Flatiron District                 16510 non-null int64\n",
      "Gramercy                          16510 non-null int64\n",
      "Greenwich Village                 16510 non-null int64\n",
      "Harlem                            16510 non-null int64\n",
      "Hell's Kitchen                    16510 non-null int64\n",
      "Inwood                            16510 non-null int64\n",
      "Kips Bay                          16510 non-null int64\n",
      "Little Italy                      16510 non-null int64\n",
      "Lower East Side                   16510 non-null int64\n",
      "Marble Hill                       16510 non-null int64\n",
      "Midtown                           16510 non-null int64\n",
      "Morningside Heights               16510 non-null int64\n",
      "Murray Hill                       16510 non-null int64\n",
      "NoHo                              16510 non-null int64\n",
      "Nolita                            16510 non-null int64\n",
      "Roosevelt Island                  16510 non-null int64\n",
      "SoHo                              16510 non-null int64\n",
      "Stuyvesant Town                   16510 non-null int64\n",
      "Theater District                  16510 non-null int64\n",
      "Tribeca                           16510 non-null int64\n",
      "Two Bridges                       16510 non-null int64\n",
      "Upper East Side                   16510 non-null int64\n",
      "Upper West Side                   16510 non-null int64\n",
      "Washington Heights                16510 non-null int64\n",
      "West Village                      16510 non-null int64\n",
      "price_range                       16510 non-null category\n",
      "0-49                              16510 non-null int64\n",
      "50-99                             16510 non-null int64\n",
      "100-149                           16510 non-null int64\n",
      "150-199                           16510 non-null int64\n",
      "200-249                           16510 non-null int64\n",
      "250-299                           16510 non-null int64\n",
      "300-349                           16510 non-null int64\n",
      "350-399                           16510 non-null int64\n",
      "400-449                           16510 non-null int64\n",
      "450-499                           16510 non-null int64\n",
      "500-549                           16510 non-null int64\n",
      "550-599                           16510 non-null int64\n",
      "600-649                           16510 non-null int64\n",
      "650-699                           16510 non-null int64\n",
      "700-749                           16510 non-null int64\n",
      "750-799                           16510 non-null int64\n",
      "800-849                           16510 non-null int64\n",
      "850-899                           16510 non-null int64\n",
      "900-949                           16510 non-null int64\n",
      "950+                              16510 non-null int64\n",
      "dtypes: category(1), int64(60), object(1)\n",
      "memory usage: 7.8+ MB\n"
     ]
    }
   ],
   "source": [
    "#convert neighbourhoods in Manhattan as binary variable using One-Hot encoding\n",
    "price_enc = pd.get_dummies(listNYC_Manhattan['price_range'], prefix=None, prefix_sep='_', dummy_na=False, columns='price_range', sparse=False, drop_first=False)\n",
    "price_enc.head()\n",
    "\n",
    "price_bins = list(dict(price_enc.dtypes).keys())\n",
    "\n",
    "listNYC_Manhattan = pd.concat([listNYC_Manhattan, price_enc], axis=1)\n",
    "\n",
    "#change data type for new neighbourhood types categories to integer\n",
    "listNYC_Manhattan[price_bins]=listNYC_Manhattan[price_bins].astype(np.int64)\n",
    "#del listNYC_Manhattan['price_range']\n",
    "listNYC_Manhattan.info()"
   ]
  },
  {
   "cell_type": "code",
   "execution_count": 98,
   "metadata": {},
   "outputs": [
    {
     "data": {
      "text/html": [
       "<div>\n",
       "<table border=\"1\" class=\"dataframe\">\n",
       "  <thead>\n",
       "    <tr style=\"text-align: right;\">\n",
       "      <th></th>\n",
       "      <th>neighbourhood</th>\n",
       "      <th>Entire home/apt</th>\n",
       "      <th>Private room</th>\n",
       "      <th>Shared room</th>\n",
       "      <th>price</th>\n",
       "      <th>minimum_nights</th>\n",
       "      <th>number_of_reviews</th>\n",
       "      <th>calculated_host_listings_count</th>\n",
       "      <th>availability_365</th>\n",
       "      <th>Battery Park City</th>\n",
       "      <th>...</th>\n",
       "      <th>500-549</th>\n",
       "      <th>550-599</th>\n",
       "      <th>600-649</th>\n",
       "      <th>650-699</th>\n",
       "      <th>700-749</th>\n",
       "      <th>750-799</th>\n",
       "      <th>800-849</th>\n",
       "      <th>850-899</th>\n",
       "      <th>900-949</th>\n",
       "      <th>950+</th>\n",
       "    </tr>\n",
       "  </thead>\n",
       "  <tbody>\n",
       "    <tr>\n",
       "      <th>102</th>\n",
       "      <td>Hell's Kitchen</td>\n",
       "      <td>1</td>\n",
       "      <td>0</td>\n",
       "      <td>0</td>\n",
       "      <td>1000</td>\n",
       "      <td>1</td>\n",
       "      <td>0</td>\n",
       "      <td>1</td>\n",
       "      <td>365</td>\n",
       "      <td>0</td>\n",
       "      <td>...</td>\n",
       "      <td>0</td>\n",
       "      <td>0</td>\n",
       "      <td>0</td>\n",
       "      <td>0</td>\n",
       "      <td>0</td>\n",
       "      <td>0</td>\n",
       "      <td>0</td>\n",
       "      <td>0</td>\n",
       "      <td>0</td>\n",
       "      <td>1</td>\n",
       "    </tr>\n",
       "    <tr>\n",
       "      <th>106</th>\n",
       "      <td>Gramercy</td>\n",
       "      <td>1</td>\n",
       "      <td>0</td>\n",
       "      <td>0</td>\n",
       "      <td>1000</td>\n",
       "      <td>7</td>\n",
       "      <td>0</td>\n",
       "      <td>1</td>\n",
       "      <td>365</td>\n",
       "      <td>0</td>\n",
       "      <td>...</td>\n",
       "      <td>0</td>\n",
       "      <td>0</td>\n",
       "      <td>0</td>\n",
       "      <td>0</td>\n",
       "      <td>0</td>\n",
       "      <td>0</td>\n",
       "      <td>0</td>\n",
       "      <td>0</td>\n",
       "      <td>0</td>\n",
       "      <td>1</td>\n",
       "    </tr>\n",
       "    <tr>\n",
       "      <th>107</th>\n",
       "      <td>Morningside Heights</td>\n",
       "      <td>1</td>\n",
       "      <td>0</td>\n",
       "      <td>0</td>\n",
       "      <td>1000</td>\n",
       "      <td>1</td>\n",
       "      <td>0</td>\n",
       "      <td>2</td>\n",
       "      <td>365</td>\n",
       "      <td>0</td>\n",
       "      <td>...</td>\n",
       "      <td>0</td>\n",
       "      <td>0</td>\n",
       "      <td>0</td>\n",
       "      <td>0</td>\n",
       "      <td>0</td>\n",
       "      <td>0</td>\n",
       "      <td>0</td>\n",
       "      <td>0</td>\n",
       "      <td>0</td>\n",
       "      <td>1</td>\n",
       "    </tr>\n",
       "    <tr>\n",
       "      <th>109</th>\n",
       "      <td>West Village</td>\n",
       "      <td>1</td>\n",
       "      <td>0</td>\n",
       "      <td>0</td>\n",
       "      <td>1000</td>\n",
       "      <td>3</td>\n",
       "      <td>1</td>\n",
       "      <td>1</td>\n",
       "      <td>365</td>\n",
       "      <td>0</td>\n",
       "      <td>...</td>\n",
       "      <td>0</td>\n",
       "      <td>0</td>\n",
       "      <td>0</td>\n",
       "      <td>0</td>\n",
       "      <td>0</td>\n",
       "      <td>0</td>\n",
       "      <td>0</td>\n",
       "      <td>0</td>\n",
       "      <td>0</td>\n",
       "      <td>1</td>\n",
       "    </tr>\n",
       "    <tr>\n",
       "      <th>110</th>\n",
       "      <td>East Village</td>\n",
       "      <td>1</td>\n",
       "      <td>0</td>\n",
       "      <td>0</td>\n",
       "      <td>1000</td>\n",
       "      <td>1</td>\n",
       "      <td>0</td>\n",
       "      <td>1</td>\n",
       "      <td>364</td>\n",
       "      <td>0</td>\n",
       "      <td>...</td>\n",
       "      <td>0</td>\n",
       "      <td>0</td>\n",
       "      <td>0</td>\n",
       "      <td>0</td>\n",
       "      <td>0</td>\n",
       "      <td>0</td>\n",
       "      <td>0</td>\n",
       "      <td>0</td>\n",
       "      <td>0</td>\n",
       "      <td>1</td>\n",
       "    </tr>\n",
       "  </tbody>\n",
       "</table>\n",
       "<p>5 rows × 62 columns</p>\n",
       "</div>"
      ],
      "text/plain": [
       "           neighbourhood  Entire home/apt  Private room  Shared room  price  \\\n",
       "102       Hell's Kitchen                1             0            0   1000   \n",
       "106             Gramercy                1             0            0   1000   \n",
       "107  Morningside Heights                1             0            0   1000   \n",
       "109         West Village                1             0            0   1000   \n",
       "110         East Village                1             0            0   1000   \n",
       "\n",
       "     minimum_nights  number_of_reviews  calculated_host_listings_count  \\\n",
       "102               1                  0                               1   \n",
       "106               7                  0                               1   \n",
       "107               1                  0                               2   \n",
       "109               3                  1                               1   \n",
       "110               1                  0                               1   \n",
       "\n",
       "     availability_365  Battery Park City  ...   500-549  550-599  600-649  \\\n",
       "102               365                  0  ...         0        0        0   \n",
       "106               365                  0  ...         0        0        0   \n",
       "107               365                  0  ...         0        0        0   \n",
       "109               365                  0  ...         0        0        0   \n",
       "110               364                  0  ...         0        0        0   \n",
       "\n",
       "     650-699  700-749  750-799  800-849  850-899  900-949  950+  \n",
       "102        0        0        0        0        0        0     1  \n",
       "106        0        0        0        0        0        0     1  \n",
       "107        0        0        0        0        0        0     1  \n",
       "109        0        0        0        0        0        0     1  \n",
       "110        0        0        0        0        0        0     1  \n",
       "\n",
       "[5 rows x 62 columns]"
      ]
     },
     "execution_count": 98,
     "metadata": {},
     "output_type": "execute_result"
    }
   ],
   "source": [
    "#print some records to evaluate\n",
    "listNYC_Manhattan.head()"
   ]
  },
  {
   "cell_type": "code",
   "execution_count": 99,
   "metadata": {},
   "outputs": [
    {
     "data": {
      "text/html": [
       "<div>\n",
       "<table border=\"1\" class=\"dataframe\">\n",
       "  <thead>\n",
       "    <tr style=\"text-align: right;\">\n",
       "      <th></th>\n",
       "      <th>neighbourhood</th>\n",
       "      <th>latitude</th>\n",
       "      <th>longitude</th>\n",
       "      <th>Entire home/apt</th>\n",
       "      <th>Private room</th>\n",
       "      <th>Shared room</th>\n",
       "      <th>price</th>\n",
       "      <th>minimum_nights</th>\n",
       "      <th>number_of_reviews</th>\n",
       "      <th>calculated_host_listings_count</th>\n",
       "      <th>availability_365</th>\n",
       "    </tr>\n",
       "  </thead>\n",
       "  <tbody>\n",
       "    <tr>\n",
       "      <th>102</th>\n",
       "      <td>Hell's Kitchen</td>\n",
       "      <td>40.759301</td>\n",
       "      <td>-73.991435</td>\n",
       "      <td>1</td>\n",
       "      <td>0</td>\n",
       "      <td>0</td>\n",
       "      <td>1000</td>\n",
       "      <td>1</td>\n",
       "      <td>0</td>\n",
       "      <td>1</td>\n",
       "      <td>365</td>\n",
       "    </tr>\n",
       "    <tr>\n",
       "      <th>106</th>\n",
       "      <td>Gramercy</td>\n",
       "      <td>40.736614</td>\n",
       "      <td>-73.987059</td>\n",
       "      <td>1</td>\n",
       "      <td>0</td>\n",
       "      <td>0</td>\n",
       "      <td>1000</td>\n",
       "      <td>7</td>\n",
       "      <td>0</td>\n",
       "      <td>1</td>\n",
       "      <td>365</td>\n",
       "    </tr>\n",
       "    <tr>\n",
       "      <th>107</th>\n",
       "      <td>Morningside Heights</td>\n",
       "      <td>40.812335</td>\n",
       "      <td>-73.957163</td>\n",
       "      <td>1</td>\n",
       "      <td>0</td>\n",
       "      <td>0</td>\n",
       "      <td>1000</td>\n",
       "      <td>1</td>\n",
       "      <td>0</td>\n",
       "      <td>2</td>\n",
       "      <td>365</td>\n",
       "    </tr>\n",
       "    <tr>\n",
       "      <th>109</th>\n",
       "      <td>West Village</td>\n",
       "      <td>40.735500</td>\n",
       "      <td>-73.998339</td>\n",
       "      <td>1</td>\n",
       "      <td>0</td>\n",
       "      <td>0</td>\n",
       "      <td>1000</td>\n",
       "      <td>3</td>\n",
       "      <td>1</td>\n",
       "      <td>1</td>\n",
       "      <td>365</td>\n",
       "    </tr>\n",
       "    <tr>\n",
       "      <th>110</th>\n",
       "      <td>East Village</td>\n",
       "      <td>40.724707</td>\n",
       "      <td>-73.985224</td>\n",
       "      <td>1</td>\n",
       "      <td>0</td>\n",
       "      <td>0</td>\n",
       "      <td>1000</td>\n",
       "      <td>1</td>\n",
       "      <td>0</td>\n",
       "      <td>1</td>\n",
       "      <td>364</td>\n",
       "    </tr>\n",
       "  </tbody>\n",
       "</table>\n",
       "</div>"
      ],
      "text/plain": [
       "           neighbourhood   latitude  longitude  Entire home/apt  Private room  \\\n",
       "102       Hell's Kitchen  40.759301 -73.991435                1             0   \n",
       "106             Gramercy  40.736614 -73.987059                1             0   \n",
       "107  Morningside Heights  40.812335 -73.957163                1             0   \n",
       "109         West Village  40.735500 -73.998339                1             0   \n",
       "110         East Village  40.724707 -73.985224                1             0   \n",
       "\n",
       "     Shared room  price  minimum_nights  number_of_reviews  \\\n",
       "102            0   1000               1                  0   \n",
       "106            0   1000               7                  0   \n",
       "107            0   1000               1                  0   \n",
       "109            0   1000               3                  1   \n",
       "110            0   1000               1                  0   \n",
       "\n",
       "     calculated_host_listings_count  availability_365  \n",
       "102                               1               365  \n",
       "106                               1               365  \n",
       "107                               2               365  \n",
       "109                               1               365  \n",
       "110                               1               364  "
      ]
     },
     "execution_count": 99,
     "metadata": {},
     "output_type": "execute_result"
    }
   ],
   "source": [
    "#Filter data set with Manhattan neighbourhood group and geo location\n",
    "columns_to_model=['neighbourhood','latitude','longitude','Entire home/apt','Private room','Shared room','price','minimum_nights','number_of_reviews','calculated_host_listings_count','availability_365']\n",
    "listNYC_Manhattan_geo = listNYC[(listNYC.neighbourhood_group == 'Manhattan')]\n",
    "listNYC_Manhattan_geo = listNYC_Manhattan_geo[columns_to_model]\n",
    "listNYC_Manhattan_geo = listNYC_Manhattan_geo.copy(deep=True)\n",
    "listNYC_Manhattan_geo.head()"
   ]
  },
  {
   "cell_type": "code",
   "execution_count": 100,
   "metadata": {},
   "outputs": [
    {
     "name": "stdout",
     "output_type": "stream",
     "text": [
      "<class 'pandas.core.frame.DataFrame'>\n",
      "Int64Index: 16510 entries, 102 to 32545\n",
      "Data columns (total 43 columns):\n",
      "neighbourhood                     16510 non-null object\n",
      "latitude                          16510 non-null float64\n",
      "longitude                         16510 non-null float64\n",
      "Entire home/apt                   16510 non-null int64\n",
      "Private room                      16510 non-null int64\n",
      "Shared room                       16510 non-null int64\n",
      "price                             16510 non-null int64\n",
      "minimum_nights                    16510 non-null int64\n",
      "number_of_reviews                 16510 non-null int64\n",
      "calculated_host_listings_count    16510 non-null int64\n",
      "availability_365                  16510 non-null int64\n",
      "Battery Park City                 16510 non-null int64\n",
      "Chelsea                           16510 non-null int64\n",
      "Chinatown                         16510 non-null int64\n",
      "Civic Center                      16510 non-null int64\n",
      "East Harlem                       16510 non-null int64\n",
      "East Village                      16510 non-null int64\n",
      "Financial District                16510 non-null int64\n",
      "Flatiron District                 16510 non-null int64\n",
      "Gramercy                          16510 non-null int64\n",
      "Greenwich Village                 16510 non-null int64\n",
      "Harlem                            16510 non-null int64\n",
      "Hell's Kitchen                    16510 non-null int64\n",
      "Inwood                            16510 non-null int64\n",
      "Kips Bay                          16510 non-null int64\n",
      "Little Italy                      16510 non-null int64\n",
      "Lower East Side                   16510 non-null int64\n",
      "Marble Hill                       16510 non-null int64\n",
      "Midtown                           16510 non-null int64\n",
      "Morningside Heights               16510 non-null int64\n",
      "Murray Hill                       16510 non-null int64\n",
      "NoHo                              16510 non-null int64\n",
      "Nolita                            16510 non-null int64\n",
      "Roosevelt Island                  16510 non-null int64\n",
      "SoHo                              16510 non-null int64\n",
      "Stuyvesant Town                   16510 non-null int64\n",
      "Theater District                  16510 non-null int64\n",
      "Tribeca                           16510 non-null int64\n",
      "Two Bridges                       16510 non-null int64\n",
      "Upper East Side                   16510 non-null int64\n",
      "Upper West Side                   16510 non-null int64\n",
      "Washington Heights                16510 non-null int64\n",
      "West Village                      16510 non-null int64\n",
      "dtypes: float64(2), int64(40), object(1)\n",
      "memory usage: 5.5+ MB\n"
     ]
    }
   ],
   "source": [
    "#convert neighbourhoods in Manhattan with geo data as binary variable using One-Hot encoding\n",
    "neighbourhood_enc = pd.get_dummies(listNYC_Manhattan_geo['neighbourhood'], prefix=None, prefix_sep='_', dummy_na=False, columns='neighbourhood', sparse=False, drop_first=False)\n",
    "neighbourhood_enc.head()\n",
    "\n",
    "neighbourhoods = list(dict(neighbourhood_enc.dtypes).keys())\n",
    "\n",
    "listNYC_Manhattan_geo = pd.concat([listNYC_Manhattan_geo, neighbourhood_enc], axis=1)\n",
    "\n",
    "#change data type for new neighbourhood types categories to integer\n",
    "listNYC_Manhattan_geo[neighbourhoods]=listNYC_Manhattan_geo[neighbourhoods].astype(np.int64)\n",
    "#del listNYC_Manhattan_geo['neighbourhood']\n",
    "listNYC_Manhattan_geo.info()"
   ]
  },
  {
   "cell_type": "code",
   "execution_count": 101,
   "metadata": {},
   "outputs": [
    {
     "data": {
      "text/html": [
       "<div>\n",
       "<table border=\"1\" class=\"dataframe\">\n",
       "  <thead>\n",
       "    <tr style=\"text-align: right;\">\n",
       "      <th></th>\n",
       "      <th>neighbourhood</th>\n",
       "      <th>latitude</th>\n",
       "      <th>longitude</th>\n",
       "      <th>Entire home/apt</th>\n",
       "      <th>Private room</th>\n",
       "      <th>Shared room</th>\n",
       "      <th>price</th>\n",
       "      <th>minimum_nights</th>\n",
       "      <th>number_of_reviews</th>\n",
       "      <th>calculated_host_listings_count</th>\n",
       "      <th>...</th>\n",
       "      <th>Roosevelt Island</th>\n",
       "      <th>SoHo</th>\n",
       "      <th>Stuyvesant Town</th>\n",
       "      <th>Theater District</th>\n",
       "      <th>Tribeca</th>\n",
       "      <th>Two Bridges</th>\n",
       "      <th>Upper East Side</th>\n",
       "      <th>Upper West Side</th>\n",
       "      <th>Washington Heights</th>\n",
       "      <th>West Village</th>\n",
       "    </tr>\n",
       "  </thead>\n",
       "  <tbody>\n",
       "    <tr>\n",
       "      <th>102</th>\n",
       "      <td>Hell's Kitchen</td>\n",
       "      <td>40.759301</td>\n",
       "      <td>-73.991435</td>\n",
       "      <td>1</td>\n",
       "      <td>0</td>\n",
       "      <td>0</td>\n",
       "      <td>1000</td>\n",
       "      <td>1</td>\n",
       "      <td>0</td>\n",
       "      <td>1</td>\n",
       "      <td>...</td>\n",
       "      <td>0</td>\n",
       "      <td>0</td>\n",
       "      <td>0</td>\n",
       "      <td>0</td>\n",
       "      <td>0</td>\n",
       "      <td>0</td>\n",
       "      <td>0</td>\n",
       "      <td>0</td>\n",
       "      <td>0</td>\n",
       "      <td>0</td>\n",
       "    </tr>\n",
       "    <tr>\n",
       "      <th>106</th>\n",
       "      <td>Gramercy</td>\n",
       "      <td>40.736614</td>\n",
       "      <td>-73.987059</td>\n",
       "      <td>1</td>\n",
       "      <td>0</td>\n",
       "      <td>0</td>\n",
       "      <td>1000</td>\n",
       "      <td>7</td>\n",
       "      <td>0</td>\n",
       "      <td>1</td>\n",
       "      <td>...</td>\n",
       "      <td>0</td>\n",
       "      <td>0</td>\n",
       "      <td>0</td>\n",
       "      <td>0</td>\n",
       "      <td>0</td>\n",
       "      <td>0</td>\n",
       "      <td>0</td>\n",
       "      <td>0</td>\n",
       "      <td>0</td>\n",
       "      <td>0</td>\n",
       "    </tr>\n",
       "    <tr>\n",
       "      <th>107</th>\n",
       "      <td>Morningside Heights</td>\n",
       "      <td>40.812335</td>\n",
       "      <td>-73.957163</td>\n",
       "      <td>1</td>\n",
       "      <td>0</td>\n",
       "      <td>0</td>\n",
       "      <td>1000</td>\n",
       "      <td>1</td>\n",
       "      <td>0</td>\n",
       "      <td>2</td>\n",
       "      <td>...</td>\n",
       "      <td>0</td>\n",
       "      <td>0</td>\n",
       "      <td>0</td>\n",
       "      <td>0</td>\n",
       "      <td>0</td>\n",
       "      <td>0</td>\n",
       "      <td>0</td>\n",
       "      <td>0</td>\n",
       "      <td>0</td>\n",
       "      <td>0</td>\n",
       "    </tr>\n",
       "    <tr>\n",
       "      <th>109</th>\n",
       "      <td>West Village</td>\n",
       "      <td>40.735500</td>\n",
       "      <td>-73.998339</td>\n",
       "      <td>1</td>\n",
       "      <td>0</td>\n",
       "      <td>0</td>\n",
       "      <td>1000</td>\n",
       "      <td>3</td>\n",
       "      <td>1</td>\n",
       "      <td>1</td>\n",
       "      <td>...</td>\n",
       "      <td>0</td>\n",
       "      <td>0</td>\n",
       "      <td>0</td>\n",
       "      <td>0</td>\n",
       "      <td>0</td>\n",
       "      <td>0</td>\n",
       "      <td>0</td>\n",
       "      <td>0</td>\n",
       "      <td>0</td>\n",
       "      <td>1</td>\n",
       "    </tr>\n",
       "    <tr>\n",
       "      <th>110</th>\n",
       "      <td>East Village</td>\n",
       "      <td>40.724707</td>\n",
       "      <td>-73.985224</td>\n",
       "      <td>1</td>\n",
       "      <td>0</td>\n",
       "      <td>0</td>\n",
       "      <td>1000</td>\n",
       "      <td>1</td>\n",
       "      <td>0</td>\n",
       "      <td>1</td>\n",
       "      <td>...</td>\n",
       "      <td>0</td>\n",
       "      <td>0</td>\n",
       "      <td>0</td>\n",
       "      <td>0</td>\n",
       "      <td>0</td>\n",
       "      <td>0</td>\n",
       "      <td>0</td>\n",
       "      <td>0</td>\n",
       "      <td>0</td>\n",
       "      <td>0</td>\n",
       "    </tr>\n",
       "  </tbody>\n",
       "</table>\n",
       "<p>5 rows × 43 columns</p>\n",
       "</div>"
      ],
      "text/plain": [
       "           neighbourhood   latitude  longitude  Entire home/apt  Private room  \\\n",
       "102       Hell's Kitchen  40.759301 -73.991435                1             0   \n",
       "106             Gramercy  40.736614 -73.987059                1             0   \n",
       "107  Morningside Heights  40.812335 -73.957163                1             0   \n",
       "109         West Village  40.735500 -73.998339                1             0   \n",
       "110         East Village  40.724707 -73.985224                1             0   \n",
       "\n",
       "     Shared room  price  minimum_nights  number_of_reviews  \\\n",
       "102            0   1000               1                  0   \n",
       "106            0   1000               7                  0   \n",
       "107            0   1000               1                  0   \n",
       "109            0   1000               3                  1   \n",
       "110            0   1000               1                  0   \n",
       "\n",
       "     calculated_host_listings_count      ...       Roosevelt Island  SoHo  \\\n",
       "102                               1      ...                      0     0   \n",
       "106                               1      ...                      0     0   \n",
       "107                               2      ...                      0     0   \n",
       "109                               1      ...                      0     0   \n",
       "110                               1      ...                      0     0   \n",
       "\n",
       "     Stuyvesant Town  Theater District  Tribeca  Two Bridges  Upper East Side  \\\n",
       "102                0                 0        0            0                0   \n",
       "106                0                 0        0            0                0   \n",
       "107                0                 0        0            0                0   \n",
       "109                0                 0        0            0                0   \n",
       "110                0                 0        0            0                0   \n",
       "\n",
       "     Upper West Side  Washington Heights  West Village  \n",
       "102                0                   0             0  \n",
       "106                0                   0             0  \n",
       "107                0                   0             0  \n",
       "109                0                   0             1  \n",
       "110                0                   0             0  \n",
       "\n",
       "[5 rows x 43 columns]"
      ]
     },
     "execution_count": 101,
     "metadata": {},
     "output_type": "execute_result"
    }
   ],
   "source": [
    "#print some records to evaluate\n",
    "listNYC_Manhattan_geo.head()"
   ]
  },
  {
   "cell_type": "code",
   "execution_count": 102,
   "metadata": {},
   "outputs": [
    {
     "name": "stdout",
     "output_type": "stream",
     "text": [
      "Some statistics about airbnb listing in Manhattan nieghbourhood group with geo data\n",
      "Price - Mean: 171.83737129 Standard deviation: 123.099627225\n",
      "Price - Median: 145.0\n",
      "Price - Min: 10 Max: 1000\n"
     ]
    }
   ],
   "source": [
    "#print some statistics\n",
    "listNYC_Manhattan_geo_mean = listNYC_Manhattan_geo.price.mean()\n",
    "listNYC_Manhattan_geo_median = listNYC_Manhattan_geo.price.median()\n",
    "listNYC_Manhattan_geo_std = listNYC_Manhattan_geo.price.std()\n",
    "listNYC_Manhattan_geo_min = listNYC_Manhattan_geo.price.min()\n",
    "listNYC_Manhattan_geo_max = listNYC_Manhattan_geo.price.max()\n",
    "\n",
    "print('Some statistics about airbnb listing in Manhattan nieghbourhood group with geo data')\n",
    "print('Price - Mean:',listNYC_Manhattan_geo_mean , 'Standard deviation:', listNYC_Manhattan_geo_std)\n",
    "print ('Price - Median:',listNYC_Manhattan_geo_median)\n",
    "print('Price - Min:',listNYC_Manhattan_geo_min , 'Max:', listNYC_Manhattan_geo_max )\n",
    "\n",
    "#normalize price data"
   ]
  },
  {
   "cell_type": "code",
   "execution_count": 103,
   "metadata": {},
   "outputs": [
    {
     "name": "stdout",
     "output_type": "stream",
     "text": [
      "Some statistics about airbnb listing in Manhattan nieghbourhood group with geo data\n",
      "Price - Mean: 171.83737129 Standard deviation: 123.099627225\n",
      "Price - Median: 145.0\n",
      "Price - Min: 10 Max: 1000\n"
     ]
    }
   ],
   "source": [
    "#print some statistics\n",
    "listNYC_Manhattan_geo_mean = listNYC_Manhattan_geo.price.mean()\n",
    "listNYC_Manhattan_geo_median = listNYC_Manhattan_geo.price.median()\n",
    "listNYC_Manhattan_geo_std = listNYC_Manhattan_geo.price.std()\n",
    "listNYC_Manhattan_geo_min = listNYC_Manhattan_geo.price.min()\n",
    "listNYC_Manhattan_geo_max = listNYC_Manhattan_geo.price.max()\n",
    "\n",
    "print('Some statistics about airbnb listing in Manhattan nieghbourhood group with geo data')\n",
    "print('Price - Mean:',listNYC_Manhattan_geo_mean , 'Standard deviation:', listNYC_Manhattan_geo_std)\n",
    "print ('Price - Median:',listNYC_Manhattan_geo_median)\n",
    "print('Price - Min:',listNYC_Manhattan_geo_min , 'Max:', listNYC_Manhattan_geo_max )\n",
    "\n",
    "#normalize price data"
   ]
  },
  {
   "cell_type": "code",
   "execution_count": 104,
   "metadata": {},
   "outputs": [
    {
     "data": {
      "text/html": [
       "<div>\n",
       "<table border=\"1\" class=\"dataframe\">\n",
       "  <thead>\n",
       "    <tr style=\"text-align: right;\">\n",
       "      <th></th>\n",
       "      <th>neighbourhood</th>\n",
       "      <th>latitude</th>\n",
       "      <th>longitude</th>\n",
       "      <th>Entire home/apt</th>\n",
       "      <th>Private room</th>\n",
       "      <th>Shared room</th>\n",
       "      <th>price</th>\n",
       "      <th>minimum_nights</th>\n",
       "      <th>number_of_reviews</th>\n",
       "      <th>calculated_host_listings_count</th>\n",
       "      <th>...</th>\n",
       "      <th>SoHo</th>\n",
       "      <th>Stuyvesant Town</th>\n",
       "      <th>Theater District</th>\n",
       "      <th>Tribeca</th>\n",
       "      <th>Two Bridges</th>\n",
       "      <th>Upper East Side</th>\n",
       "      <th>Upper West Side</th>\n",
       "      <th>Washington Heights</th>\n",
       "      <th>West Village</th>\n",
       "      <th>price_range</th>\n",
       "    </tr>\n",
       "  </thead>\n",
       "  <tbody>\n",
       "    <tr>\n",
       "      <th>102</th>\n",
       "      <td>Hell's Kitchen</td>\n",
       "      <td>40.759301</td>\n",
       "      <td>-73.991435</td>\n",
       "      <td>1</td>\n",
       "      <td>0</td>\n",
       "      <td>0</td>\n",
       "      <td>1000</td>\n",
       "      <td>1</td>\n",
       "      <td>0</td>\n",
       "      <td>1</td>\n",
       "      <td>...</td>\n",
       "      <td>0</td>\n",
       "      <td>0</td>\n",
       "      <td>0</td>\n",
       "      <td>0</td>\n",
       "      <td>0</td>\n",
       "      <td>0</td>\n",
       "      <td>0</td>\n",
       "      <td>0</td>\n",
       "      <td>0</td>\n",
       "      <td>950+</td>\n",
       "    </tr>\n",
       "    <tr>\n",
       "      <th>106</th>\n",
       "      <td>Gramercy</td>\n",
       "      <td>40.736614</td>\n",
       "      <td>-73.987059</td>\n",
       "      <td>1</td>\n",
       "      <td>0</td>\n",
       "      <td>0</td>\n",
       "      <td>1000</td>\n",
       "      <td>7</td>\n",
       "      <td>0</td>\n",
       "      <td>1</td>\n",
       "      <td>...</td>\n",
       "      <td>0</td>\n",
       "      <td>0</td>\n",
       "      <td>0</td>\n",
       "      <td>0</td>\n",
       "      <td>0</td>\n",
       "      <td>0</td>\n",
       "      <td>0</td>\n",
       "      <td>0</td>\n",
       "      <td>0</td>\n",
       "      <td>950+</td>\n",
       "    </tr>\n",
       "    <tr>\n",
       "      <th>107</th>\n",
       "      <td>Morningside Heights</td>\n",
       "      <td>40.812335</td>\n",
       "      <td>-73.957163</td>\n",
       "      <td>1</td>\n",
       "      <td>0</td>\n",
       "      <td>0</td>\n",
       "      <td>1000</td>\n",
       "      <td>1</td>\n",
       "      <td>0</td>\n",
       "      <td>2</td>\n",
       "      <td>...</td>\n",
       "      <td>0</td>\n",
       "      <td>0</td>\n",
       "      <td>0</td>\n",
       "      <td>0</td>\n",
       "      <td>0</td>\n",
       "      <td>0</td>\n",
       "      <td>0</td>\n",
       "      <td>0</td>\n",
       "      <td>0</td>\n",
       "      <td>950+</td>\n",
       "    </tr>\n",
       "    <tr>\n",
       "      <th>109</th>\n",
       "      <td>West Village</td>\n",
       "      <td>40.735500</td>\n",
       "      <td>-73.998339</td>\n",
       "      <td>1</td>\n",
       "      <td>0</td>\n",
       "      <td>0</td>\n",
       "      <td>1000</td>\n",
       "      <td>3</td>\n",
       "      <td>1</td>\n",
       "      <td>1</td>\n",
       "      <td>...</td>\n",
       "      <td>0</td>\n",
       "      <td>0</td>\n",
       "      <td>0</td>\n",
       "      <td>0</td>\n",
       "      <td>0</td>\n",
       "      <td>0</td>\n",
       "      <td>0</td>\n",
       "      <td>0</td>\n",
       "      <td>1</td>\n",
       "      <td>950+</td>\n",
       "    </tr>\n",
       "    <tr>\n",
       "      <th>110</th>\n",
       "      <td>East Village</td>\n",
       "      <td>40.724707</td>\n",
       "      <td>-73.985224</td>\n",
       "      <td>1</td>\n",
       "      <td>0</td>\n",
       "      <td>0</td>\n",
       "      <td>1000</td>\n",
       "      <td>1</td>\n",
       "      <td>0</td>\n",
       "      <td>1</td>\n",
       "      <td>...</td>\n",
       "      <td>0</td>\n",
       "      <td>0</td>\n",
       "      <td>0</td>\n",
       "      <td>0</td>\n",
       "      <td>0</td>\n",
       "      <td>0</td>\n",
       "      <td>0</td>\n",
       "      <td>0</td>\n",
       "      <td>0</td>\n",
       "      <td>950+</td>\n",
       "    </tr>\n",
       "  </tbody>\n",
       "</table>\n",
       "<p>5 rows × 44 columns</p>\n",
       "</div>"
      ],
      "text/plain": [
       "           neighbourhood   latitude  longitude  Entire home/apt  Private room  \\\n",
       "102       Hell's Kitchen  40.759301 -73.991435                1             0   \n",
       "106             Gramercy  40.736614 -73.987059                1             0   \n",
       "107  Morningside Heights  40.812335 -73.957163                1             0   \n",
       "109         West Village  40.735500 -73.998339                1             0   \n",
       "110         East Village  40.724707 -73.985224                1             0   \n",
       "\n",
       "     Shared room  price  minimum_nights  number_of_reviews  \\\n",
       "102            0   1000               1                  0   \n",
       "106            0   1000               7                  0   \n",
       "107            0   1000               1                  0   \n",
       "109            0   1000               3                  1   \n",
       "110            0   1000               1                  0   \n",
       "\n",
       "     calculated_host_listings_count     ...       SoHo  Stuyvesant Town  \\\n",
       "102                               1     ...          0                0   \n",
       "106                               1     ...          0                0   \n",
       "107                               2     ...          0                0   \n",
       "109                               1     ...          0                0   \n",
       "110                               1     ...          0                0   \n",
       "\n",
       "     Theater District  Tribeca  Two Bridges  Upper East Side  Upper West Side  \\\n",
       "102                 0        0            0                0                0   \n",
       "106                 0        0            0                0                0   \n",
       "107                 0        0            0                0                0   \n",
       "109                 0        0            0                0                0   \n",
       "110                 0        0            0                0                0   \n",
       "\n",
       "     Washington Heights  West Village  price_range  \n",
       "102                   0             0         950+  \n",
       "106                   0             0         950+  \n",
       "107                   0             0         950+  \n",
       "109                   0             1         950+  \n",
       "110                   0             0         950+  \n",
       "\n",
       "[5 rows x 44 columns]"
      ]
     },
     "execution_count": 104,
     "metadata": {},
     "output_type": "execute_result"
    }
   ],
   "source": [
    "#create price bins for $50 incremental\n",
    "bins =  [0,50,100,150,200,250,300,350,400,450,500,550,600,650,700,750,800,850,900,950,1000]\n",
    "bin_names = ['0-49','50-99','100-149','150-199','200-249','250-299','300-349','350-399','400-449','450-499','500-549','550-599','600-649','650-699','700-749','750-799','800-849','850-899','900-949','950+']\n",
    "price_range = pd.cut(listNYC_Manhattan_geo['price'], bins, labels=bin_names)\n",
    "listNYC_Manhattan_geo['price_range'] = pd.cut(listNYC_Manhattan_geo['price'], bins, labels=bin_names)\n",
    "listNYC_Manhattan_geo.head()"
   ]
  },
  {
   "cell_type": "code",
   "execution_count": 105,
   "metadata": {},
   "outputs": [
    {
     "data": {
      "image/png": "[encoded data removed]",
      "text/plain": [
       "<matplotlib.figure.Figure at 0x124330dd0>"
      ]
     },
     "metadata": {},
     "output_type": "display_data"
    }
   ],
   "source": [
    "#create histogram for price to check normality\n",
    "price_hist_plot = listNYC_Manhattan_geo['price'].hist(by=listNYC_Manhattan_geo['price_range'], figsize=(10,10))\n",
    "#price_hist_plot.set_title('Price per night chart in Manhattan geo location')\n",
    "#price_hist_plot.set_xlabel('Price ($)')\n",
    "#price_hist_plot.set_ylabel('Number of properties')"
   ]
  },
  {
   "cell_type": "code",
   "execution_count": 106,
   "metadata": {},
   "outputs": [
    {
     "data": {
      "text/plain": [
       "<matplotlib.axes._subplots.AxesSubplot at 0x13f3bdb10>"
      ]
     },
     "execution_count": 106,
     "metadata": {},
     "output_type": "execute_result"
    },
    {
     "data": {
      "image/png": "[encoded data removed]",
      "text/plain": [
       "<matplotlib.figure.Figure at 0x13acadd10>"
      ]
     },
     "metadata": {},
     "output_type": "display_data"
    }
   ],
   "source": [
    "#create box plot for price\n",
    "listNYC_Manhattan_geo.boxplot(column='price', by='price_range', ax=None, fontsize=None, rot=0, grid=False, figsize=(10,10), layout=None, return_type=None)\n",
    "#price_box_plot = listNYC_Manhattan_geo['price'].plot(kind='box')\n",
    "#price_box_plot.set_title('Price per night chart in Manhattan geo location')"
   ]
  },
  {
   "cell_type": "code",
   "execution_count": 107,
   "metadata": {},
   "outputs": [
    {
     "name": "stdout",
     "output_type": "stream",
     "text": [
      "<class 'pandas.core.frame.DataFrame'>\n",
      "Int64Index: 16510 entries, 102 to 32545\n",
      "Data columns (total 64 columns):\n",
      "neighbourhood                     16510 non-null object\n",
      "latitude                          16510 non-null float64\n",
      "longitude                         16510 non-null float64\n",
      "Entire home/apt                   16510 non-null int64\n",
      "Private room                      16510 non-null int64\n",
      "Shared room                       16510 non-null int64\n",
      "price                             16510 non-null int64\n",
      "minimum_nights                    16510 non-null int64\n",
      "number_of_reviews                 16510 non-null int64\n",
      "calculated_host_listings_count    16510 non-null int64\n",
      "availability_365                  16510 non-null int64\n",
      "Battery Park City                 16510 non-null int64\n",
      "Chelsea                           16510 non-null int64\n",
      "Chinatown                         16510 non-null int64\n",
      "Civic Center                      16510 non-null int64\n",
      "East Harlem                       16510 non-null int64\n",
      "East Village                      16510 non-null int64\n",
      "Financial District                16510 non-null int64\n",
      "Flatiron District                 16510 non-null int64\n",
      "Gramercy                          16510 non-null int64\n",
      "Greenwich Village                 16510 non-null int64\n",
      "Harlem                            16510 non-null int64\n",
      "Hell's Kitchen                    16510 non-null int64\n",
      "Inwood                            16510 non-null int64\n",
      "Kips Bay                          16510 non-null int64\n",
      "Little Italy                      16510 non-null int64\n",
      "Lower East Side                   16510 non-null int64\n",
      "Marble Hill                       16510 non-null int64\n",
      "Midtown                           16510 non-null int64\n",
      "Morningside Heights               16510 non-null int64\n",
      "Murray Hill                       16510 non-null int64\n",
      "NoHo                              16510 non-null int64\n",
      "Nolita                            16510 non-null int64\n",
      "Roosevelt Island                  16510 non-null int64\n",
      "SoHo                              16510 non-null int64\n",
      "Stuyvesant Town                   16510 non-null int64\n",
      "Theater District                  16510 non-null int64\n",
      "Tribeca                           16510 non-null int64\n",
      "Two Bridges                       16510 non-null int64\n",
      "Upper East Side                   16510 non-null int64\n",
      "Upper West Side                   16510 non-null int64\n",
      "Washington Heights                16510 non-null int64\n",
      "West Village                      16510 non-null int64\n",
      "price_range                       16510 non-null category\n",
      "0-49                              16510 non-null int64\n",
      "50-99                             16510 non-null int64\n",
      "100-149                           16510 non-null int64\n",
      "150-199                           16510 non-null int64\n",
      "200-249                           16510 non-null int64\n",
      "250-299                           16510 non-null int64\n",
      "300-349                           16510 non-null int64\n",
      "350-399                           16510 non-null int64\n",
      "400-449                           16510 non-null int64\n",
      "450-499                           16510 non-null int64\n",
      "500-549                           16510 non-null int64\n",
      "550-599                           16510 non-null int64\n",
      "600-649                           16510 non-null int64\n",
      "650-699                           16510 non-null int64\n",
      "700-749                           16510 non-null int64\n",
      "750-799                           16510 non-null int64\n",
      "800-849                           16510 non-null int64\n",
      "850-899                           16510 non-null int64\n",
      "900-949                           16510 non-null int64\n",
      "950+                              16510 non-null int64\n",
      "dtypes: category(1), float64(2), int64(60), object(1)\n",
      "memory usage: 8.1+ MB\n"
     ]
    }
   ],
   "source": [
    "#convert neighbourhoods in Manhattan as binary variable using One-Hot encoding\n",
    "price_enc = pd.get_dummies(listNYC_Manhattan_geo['price_range'], prefix=None, prefix_sep='_', dummy_na=False, columns='price_range', sparse=False, drop_first=False)\n",
    "price_enc.head()\n",
    "\n",
    "price_bins = list(dict(price_enc.dtypes).keys())\n",
    "\n",
    "listNYC_Manhattan_geo = pd.concat([listNYC_Manhattan_geo, price_enc], axis=1)\n",
    "\n",
    "#change data type for new neighbourhood types categories to integer\n",
    "listNYC_Manhattan_geo[price_bins]=listNYC_Manhattan_geo[price_bins].astype(np.int64)\n",
    "#del listNYC_Manhattan['price_range']\n",
    "listNYC_Manhattan_geo.info()"
   ]
  },
  {
   "cell_type": "code",
   "execution_count": 108,
   "metadata": {},
   "outputs": [
    {
     "data": {
      "text/html": [
       "<div>\n",
       "<table border=\"1\" class=\"dataframe\">\n",
       "  <thead>\n",
       "    <tr style=\"text-align: right;\">\n",
       "      <th></th>\n",
       "      <th>neighbourhood</th>\n",
       "      <th>latitude</th>\n",
       "      <th>longitude</th>\n",
       "      <th>Entire home/apt</th>\n",
       "      <th>Private room</th>\n",
       "      <th>Shared room</th>\n",
       "      <th>price</th>\n",
       "      <th>minimum_nights</th>\n",
       "      <th>number_of_reviews</th>\n",
       "      <th>calculated_host_listings_count</th>\n",
       "      <th>...</th>\n",
       "      <th>500-549</th>\n",
       "      <th>550-599</th>\n",
       "      <th>600-649</th>\n",
       "      <th>650-699</th>\n",
       "      <th>700-749</th>\n",
       "      <th>750-799</th>\n",
       "      <th>800-849</th>\n",
       "      <th>850-899</th>\n",
       "      <th>900-949</th>\n",
       "      <th>950+</th>\n",
       "    </tr>\n",
       "  </thead>\n",
       "  <tbody>\n",
       "    <tr>\n",
       "      <th>102</th>\n",
       "      <td>Hell's Kitchen</td>\n",
       "      <td>40.759301</td>\n",
       "      <td>-73.991435</td>\n",
       "      <td>1</td>\n",
       "      <td>0</td>\n",
       "      <td>0</td>\n",
       "      <td>1000</td>\n",
       "      <td>1</td>\n",
       "      <td>0</td>\n",
       "      <td>1</td>\n",
       "      <td>...</td>\n",
       "      <td>0</td>\n",
       "      <td>0</td>\n",
       "      <td>0</td>\n",
       "      <td>0</td>\n",
       "      <td>0</td>\n",
       "      <td>0</td>\n",
       "      <td>0</td>\n",
       "      <td>0</td>\n",
       "      <td>0</td>\n",
       "      <td>1</td>\n",
       "    </tr>\n",
       "    <tr>\n",
       "      <th>106</th>\n",
       "      <td>Gramercy</td>\n",
       "      <td>40.736614</td>\n",
       "      <td>-73.987059</td>\n",
       "      <td>1</td>\n",
       "      <td>0</td>\n",
       "      <td>0</td>\n",
       "      <td>1000</td>\n",
       "      <td>7</td>\n",
       "      <td>0</td>\n",
       "      <td>1</td>\n",
       "      <td>...</td>\n",
       "      <td>0</td>\n",
       "      <td>0</td>\n",
       "      <td>0</td>\n",
       "      <td>0</td>\n",
       "      <td>0</td>\n",
       "      <td>0</td>\n",
       "      <td>0</td>\n",
       "      <td>0</td>\n",
       "      <td>0</td>\n",
       "      <td>1</td>\n",
       "    </tr>\n",
       "    <tr>\n",
       "      <th>107</th>\n",
       "      <td>Morningside Heights</td>\n",
       "      <td>40.812335</td>\n",
       "      <td>-73.957163</td>\n",
       "      <td>1</td>\n",
       "      <td>0</td>\n",
       "      <td>0</td>\n",
       "      <td>1000</td>\n",
       "      <td>1</td>\n",
       "      <td>0</td>\n",
       "      <td>2</td>\n",
       "      <td>...</td>\n",
       "      <td>0</td>\n",
       "      <td>0</td>\n",
       "      <td>0</td>\n",
       "      <td>0</td>\n",
       "      <td>0</td>\n",
       "      <td>0</td>\n",
       "      <td>0</td>\n",
       "      <td>0</td>\n",
       "      <td>0</td>\n",
       "      <td>1</td>\n",
       "    </tr>\n",
       "    <tr>\n",
       "      <th>109</th>\n",
       "      <td>West Village</td>\n",
       "      <td>40.735500</td>\n",
       "      <td>-73.998339</td>\n",
       "      <td>1</td>\n",
       "      <td>0</td>\n",
       "      <td>0</td>\n",
       "      <td>1000</td>\n",
       "      <td>3</td>\n",
       "      <td>1</td>\n",
       "      <td>1</td>\n",
       "      <td>...</td>\n",
       "      <td>0</td>\n",
       "      <td>0</td>\n",
       "      <td>0</td>\n",
       "      <td>0</td>\n",
       "      <td>0</td>\n",
       "      <td>0</td>\n",
       "      <td>0</td>\n",
       "      <td>0</td>\n",
       "      <td>0</td>\n",
       "      <td>1</td>\n",
       "    </tr>\n",
       "    <tr>\n",
       "      <th>110</th>\n",
       "      <td>East Village</td>\n",
       "      <td>40.724707</td>\n",
       "      <td>-73.985224</td>\n",
       "      <td>1</td>\n",
       "      <td>0</td>\n",
       "      <td>0</td>\n",
       "      <td>1000</td>\n",
       "      <td>1</td>\n",
       "      <td>0</td>\n",
       "      <td>1</td>\n",
       "      <td>...</td>\n",
       "      <td>0</td>\n",
       "      <td>0</td>\n",
       "      <td>0</td>\n",
       "      <td>0</td>\n",
       "      <td>0</td>\n",
       "      <td>0</td>\n",
       "      <td>0</td>\n",
       "      <td>0</td>\n",
       "      <td>0</td>\n",
       "      <td>1</td>\n",
       "    </tr>\n",
       "  </tbody>\n",
       "</table>\n",
       "<p>5 rows × 64 columns</p>\n",
       "</div>"
      ],
      "text/plain": [
       "           neighbourhood   latitude  longitude  Entire home/apt  Private room  \\\n",
       "102       Hell's Kitchen  40.759301 -73.991435                1             0   \n",
       "106             Gramercy  40.736614 -73.987059                1             0   \n",
       "107  Morningside Heights  40.812335 -73.957163                1             0   \n",
       "109         West Village  40.735500 -73.998339                1             0   \n",
       "110         East Village  40.724707 -73.985224                1             0   \n",
       "\n",
       "     Shared room  price  minimum_nights  number_of_reviews  \\\n",
       "102            0   1000               1                  0   \n",
       "106            0   1000               7                  0   \n",
       "107            0   1000               1                  0   \n",
       "109            0   1000               3                  1   \n",
       "110            0   1000               1                  0   \n",
       "\n",
       "     calculated_host_listings_count  ...   500-549  550-599  600-649  650-699  \\\n",
       "102                               1  ...         0        0        0        0   \n",
       "106                               1  ...         0        0        0        0   \n",
       "107                               2  ...         0        0        0        0   \n",
       "109                               1  ...         0        0        0        0   \n",
       "110                               1  ...         0        0        0        0   \n",
       "\n",
       "     700-749  750-799  800-849  850-899  900-949  950+  \n",
       "102        0        0        0        0        0     1  \n",
       "106        0        0        0        0        0     1  \n",
       "107        0        0        0        0        0     1  \n",
       "109        0        0        0        0        0     1  \n",
       "110        0        0        0        0        0     1  \n",
       "\n",
       "[5 rows x 64 columns]"
      ]
     },
     "execution_count": 108,
     "metadata": {},
     "output_type": "execute_result"
    }
   ],
   "source": [
    "#print some records to evaluate\n",
    "listNYC_Manhattan_geo.head()"
   ]
  },
  {
   "cell_type": "markdown",
   "metadata": {},
   "source": [
    "## 2. Modeling and Evaluation"
   ]
  },
  {
   "cell_type": "markdown",
   "metadata": {},
   "source": [
    "### 2a. Choose and explain the evalution metrics chosen"
   ]
  },
  {
   "cell_type": "markdown",
   "metadata": {},
   "source": [
    "For this analysis and the models selected, the primary evaluation metric we will be focusing on is Accuracy. Due to the variables we have chosen to predict (Neighborhood and Price Range), the accuracy metric provides us with the most easily interpreted metric to gauge the success (or failure) of the models used. Accuracy will be able to essentially tell us the percentage of correctly guessed classifications over the total number of possible classifications in both cases. \n",
    "\n",
    "Because of the number of classes we are trying to predict for each predictive attribute, we can easily tell at the surface level how often are model is accurately predicting either the price level or the neighbourhood. If we wish to continue to improve the results of our models, we can also include binary confusion matrices to see where the errors are occuring and to further analyze which listings were causing the errors, make detailed notes about those listings, and possibly take those inferences into consideration when attempting to modify the model.\n",
    "\n",
    "We chose to focus on accuracy and currently omit other effectiveness measures mostly because of the sensitivity of our data. Looking at metrics like precision and recall for this particular dataset would not offer much more in terms of its effectiveness than accuracy would. More specifically, building a model such as this where listings will vary by city and the way in which they are listed and engaged with will also vary, attempting to interpret metrics like precision and recall will possibly lead to either overfitting or producing too many models where their algorithms and methods are too varying for scalable or wider uses. "
   ]
  },
  {
   "cell_type": "markdown",
   "metadata": {},
   "source": [
    "### 2b. Choose the method(s) used to divide data into training and testing splits"
   ]
  },
  {
   "cell_type": "markdown",
   "metadata": {},
   "source": [
    "For this assignment, we will be using a cross-validation technique in order to train and test our data with. More specifically, we will be using the \"Stratified Shuffle Split\" function via Scikit Learn to perform this task. This process was used in our previous assignment and realized it worked relatively well for the type of dataset we are using. We intend to run a minimum of five iterations of the test (per model) using 80% of the data each time for training the model and the remaining 20% to be used to test the trained data on. \n",
    "\n",
    "#### Reasoning for Training/Testing Methodology\n",
    "The primary reason for the amount of cross-validation procedures that will be done (5 in this case) is due to the amount of neighbourhood listings that would be available per training set. There are a handful of neighbourhoods that only have around eight listings during the month that we analyzed; therefore, the 10-fold cross-validation would potentially not include a listing from certain neighbourhoods. In order to alleviate this potential problem, five-fold cross validation seemed appropriate. Furthermore, due to the amount of listings that are currently in the dataset (particularly once broken down into neighbourhoods) the need for 10-fold cross validation may have caused errors in our prediction models."
   ]
  },
  {
   "cell_type": "markdown",
   "metadata": {},
   "source": [
    "### 2c. Create three different classification models for each task"
   ]
  },
  {
   "cell_type": "markdown",
   "metadata": {},
   "source": [
    "#### Setting attributes list in order to use in models"
   ]
  },
  {
   "cell_type": "code",
   "execution_count": 109,
   "metadata": {
    "collapsed": true
   },
   "outputs": [],
   "source": [
    "#get all column names to include in model as response and explanatory attributes\n",
    "attributes_price_range = list(listNYC_Manhattan.price_range.unique())\n",
    "attributes_neighbourhoods = list(listNYC_Manhattan.neighbourhood.unique())\n",
    "attributes_room_type = room_types\n",
    "attributes_geo = ['latitude','longitude']\n",
    "#print('price range attributes:', attributes_price_range)\n",
    "#print('neighbourhood attributes:', attributes_neighbourhoods)\n",
    "#print('room type attributes:', attributes_room_type)\n",
    "actual_attributes = ['minimum_nights'\n",
    "                 ,'number_of_reviews','calculated_host_listings_count'\n",
    "                 ,'availability_365']"
   ]
  },
  {
   "cell_type": "markdown",
   "metadata": {},
   "source": [
    "### FIRST PREDICTION: Price Range of AirBnB Listing"
   ]
  },
  {
   "cell_type": "markdown",
   "metadata": {},
   "source": [
    "#### Setting up training and test data for Price prediction"
   ]
  },
  {
   "cell_type": "code",
   "execution_count": 110,
   "metadata": {},
   "outputs": [
    {
     "name": "stdout",
     "output_type": "stream",
     "text": [
      "cv: StratifiedShuffleSplit(labels=[[1 0 0 ..., 0 0 0]\n",
      " [1 0 0 ..., 0 0 0]\n",
      " [1 0 0 ..., 0 0 0]\n",
      " ..., \n",
      " [0 0 0 ..., 0 0 1]\n",
      " [0 0 0 ..., 0 0 1]\n",
      " [0 0 0 ..., 0 0 1]], n_iter=5, test_size=0.2, random_state=None)\n"
     ]
    }
   ],
   "source": [
    "# create train and test sets for listNYC_Manhattan to predict price range\n",
    "exp_attributes_pr = attributes_neighbourhoods + attributes_room_type + actual_attributes\n",
    "\n",
    "listNYC_Manhattan.target_pr = listNYC_Manhattan[attributes_price_range].values\n",
    "#listNYC_Manhattan.target_pr_50_99 = listNYC_Manhattan[['50-99']].values\n",
    "#listNYC_Manhattan.target_pr_100_149 = listNYC_Manhattan[['100-149']].values\n",
    "listNYC_Manhattan.data_pr = listNYC_Manhattan[exp_attributes_pr].values\n",
    "listNYC_Manhattan_pr_cv = StratifiedShuffleSplit(listNYC_Manhattan.target_pr\n",
    "                                              , n_iter = 5\n",
    "                                              , test_size = 0.2\n",
    "                                              , train_size=0.8)\n",
    "print('cv:',listNYC_Manhattan_pr_cv)\n",
    "\n",
    "for trainidx, testidx in listNYC_Manhattan_pr_cv:\n",
    "    # note that these are sparse matrices\n",
    "    X_pr_train = listNYC_Manhattan.data_pr[trainidx] \n",
    "    X_pr_test = listNYC_Manhattan.data_pr[testidx] \n",
    "    y_pr_train = listNYC_Manhattan.target_pr[trainidx]\n",
    "    y_pr_test = listNYC_Manhattan.target_pr[testidx]\n",
    "#    y_pr_50_99_train = listNYC_Manhattan.target_pr_50_99[testidx]\n",
    "#    y_pr_50_99_test = listNYC_Manhattan.target_pr_50_99[trainidx]\n",
    "#    y_pr_100_149_train = listNYC_Manhattan.target_100_149[testidx]\n",
    "#    y_pr_100_149_test = listNYC_Manhattan.target_100_149[trainidx]\n",
    "\n",
    "X_pr = listNYC_Manhattan.data_pr\n",
    "y_pr = listNYC_Manhattan.target_pr\n",
    "#y_pr_50_99 = listNYC_Manahattan.target_pr_50_99\n",
    "#y_pr_100_149 = listNYC_Manhattan.target_pr_100_149\n",
    "yhat_pr = np.zeros(y_pr.shape)\n",
    "#yhat_pr_50_99 = np.zeros(y_pr_50_99.shape)\n",
    "#yhat_pr_100_149 = np.zeros(y_pr_100_149.shape)"
   ]
  },
  {
   "cell_type": "markdown",
   "metadata": {},
   "source": [
    "#### Price range prediction using KNN"
   ]
  },
  {
   "cell_type": "code",
   "execution_count": 111,
   "metadata": {},
   "outputs": [
    {
     "name": "stdout",
     "output_type": "stream",
     "text": [
      "accuracy: 0.890551181102\n",
      "Accuracy of classifier to predict price range with 5 neighbors with K=5 is: 0.89\n"
     ]
    }
   ],
   "source": [
    "# calculate accuracy for price range prediction using KNN\n",
    "K = 5 \n",
    "clf_pr = KNeighborsClassifier(n_neighbors=K, weights='uniform', metric='euclidean')\n",
    "\n",
    "for train, test in listNYC_Manhattan_pr_cv:\n",
    "    clf_pr.fit(X_pr[train],y_pr[train])\n",
    "    yhat_pr[test] = clf_pr.predict(X_pr[test])\n",
    "        \n",
    "acc_clf_pr = mt.accuracy_score(y_pr, yhat_pr)\n",
    "\n",
    "print ('accuracy:',acc_clf_pr)\n",
    "print('Accuracy of classifier to predict price range with %d neighbors with K=5 is: %.2f'%(K,acc_clf_pr))"
   ]
  },
  {
   "cell_type": "markdown",
   "metadata": {},
   "source": [
    "#### Price range prediction using Random Forest"
   ]
  },
  {
   "cell_type": "code",
   "execution_count": 112,
   "metadata": {},
   "outputs": [
    {
     "name": "stdout",
     "output_type": "stream",
     "text": [
      "accuracy for price range prediction with RandomForest:  0.884373107208\n"
     ]
    }
   ],
   "source": [
    "# calculate accuracy for price range prediction using Random Forest\n",
    "forest_pr = RandomForestClassifier(n_estimators = 10)\n",
    "\n",
    "for train, test in listNYC_Manhattan_pr_cv:\n",
    "    forest_pr.fit(X_pr[train],y_pr[train])\n",
    "    yhat_pr[test] = forest_pr.predict(X_pr[test])\n",
    "    \n",
    "acc_forest_pr= mt.accuracy_score(y_pr, yhat_pr)\n",
    "print('accuracy for price range prediction with RandomForest: ', acc_forest_pr)"
   ]
  },
  {
   "cell_type": "code",
   "execution_count": 113,
   "metadata": {},
   "outputs": [
    {
     "name": "stdout",
     "output_type": "stream",
     "text": [
      "Hell's Kitchen has feature importance of 0.0069300352566\n",
      "Gramercy has feature importance of 0.0037650296042\n",
      "Morningside Heights has feature importance of 0.00387622802559\n",
      "West Village has feature importance of 0.00442585986356\n",
      "East Village has feature importance of 0.00615384842776\n",
      "Midtown has feature importance of 0.00549738595294\n",
      "SoHo has feature importance of 0.00392572137\n",
      "Chelsea has feature importance of 0.00463743763713\n",
      "Flatiron District has feature importance of 0.00237749187905\n",
      "Harlem has feature importance of 0.011206095625\n",
      "Tribeca has feature importance of 0.00269835237301\n",
      "Upper West Side has feature importance of 0.00704129851044\n",
      "Upper East Side has feature importance of 0.00446311668998\n",
      "Financial District has feature importance of 0.00390990526469\n",
      "Greenwich Village has feature importance of 0.00328817477324\n",
      "Kips Bay has feature importance of 0.00411996308257\n",
      "Theater District has feature importance of 0.00276739156446\n",
      "Nolita has feature importance of 0.00389773348846\n",
      "NoHo has feature importance of 0.00200348590503\n",
      "Lower East Side has feature importance of 0.00541267648352\n",
      "Little Italy has feature importance of 0.00173388168447\n",
      "Chinatown has feature importance of 0.00380072024681\n",
      "Murray Hill has feature importance of 0.00359352214162\n",
      "Washington Heights has feature importance of 0.00882997953451\n",
      "East Harlem has feature importance of 0.00645015216725\n",
      "Stuyvesant Town has feature importance of 0.00164205823839\n",
      "Battery Park City has feature importance of 0.0018404564271\n",
      "Inwood has feature importance of 0.00455349696265\n",
      "Civic Center has feature importance of 0.00150343831297\n",
      "Two Bridges has feature importance of 0.00096093507718\n",
      "Roosevelt Island has feature importance of 0.00124781152986\n",
      "Marble Hill has feature importance of 0.000789237608256\n",
      "Shared room has feature importance of 0.00377542284415\n",
      "Entire home/apt has feature importance of 0.0592455450163\n",
      "Private room has feature importance of 0.0539653576633\n",
      "minimum_nights has feature importance of 0.120351670822\n",
      "number_of_reviews has feature importance of 0.243127181748\n",
      "calculated_host_listings_count has feature importance of 0.0521144076491\n",
      "availability_365 has feature importance of 0.338077492549\n"
     ]
    }
   ],
   "source": [
    "#calculate feature importance for price predictions from Random Forest\n",
    "feature_imp_pr = forest_pr.feature_importances_\n",
    "attribute_names = listNYC_Manhattan[exp_attributes_pr].columns\n",
    "for feature_imp, name in zip(feature_imp_pr,attribute_names):\n",
    "    print(name, 'has feature importance of', feature_imp)"
   ]
  },
  {
   "cell_type": "code",
   "execution_count": 114,
   "metadata": {},
   "outputs": [
    {
     "data": {
      "image/png": "[encoded data removed]",
      "text/plain": [
       "<matplotlib.figure.Figure at 0x13f318e90>"
      ]
     },
     "metadata": {},
     "output_type": "display_data"
    }
   ],
   "source": [
    "#show graph for feature importance for Random Forest \n",
    "plt.barh(range(len(feature_imp_pr)), feature_imp_pr)\n",
    "plt.title(\"Feature importance for Random Forest\")\n",
    "plt.show()"
   ]
  },
  {
   "cell_type": "markdown",
   "metadata": {},
   "source": [
    "#### Price range prediction using Decision Trees"
   ]
  },
  {
   "cell_type": "code",
   "execution_count": 115,
   "metadata": {},
   "outputs": [
    {
     "name": "stdout",
     "output_type": "stream",
     "text": [
      "accuracy for price range prediction with Decision Tree:  0.257419745609\n"
     ]
    }
   ],
   "source": [
    "# calculate accuracy for price range prediction using Decision Trees:\n",
    "dt_pr = DecisionTreeClassifier(criterion='entropy', max_depth=10, \n",
    "                                min_samples_split=500, min_samples_leaf=1, \n",
    "                                max_leaf_nodes=None)\n",
    "\n",
    "for train, test in listNYC_Manhattan_pr_cv:\n",
    "    dt_pr.fit(X_pr[train],y_pr[train])\n",
    "    yhat_pr[test] = dt_pr.predict(X_pr[test])\n",
    "    \n",
    "acc_dt_pr= mt.accuracy_score(y_pr, yhat_pr)\n",
    "print('accuracy for price range prediction with Decision Tree: ', acc_dt_pr)"
   ]
  },
  {
   "cell_type": "markdown",
   "metadata": {},
   "source": [
    "##### The criterion above that was finally settled on was based on several iterations of running the model by adjusting the criterion above. Adjusting to either gini or entropy, combined with adjusting the maximum depth, the minimum number of samples to be split and the maximum number of leaf nodes garnered the accuracy metric displayed above."
   ]
  },
  {
   "cell_type": "code",
   "execution_count": 117,
   "metadata": {
    "scrolled": false
   },
   "outputs": [
    {
     "name": "stdout",
     "output_type": "stream",
     "text": [
      "Hell's Kitchen has feature importance of 0.0\n",
      "Gramercy has feature importance of 0.000493586609463\n",
      "Morningside Heights has feature importance of 0.0133727352492\n",
      "West Village has feature importance of 0.00111196517082\n",
      "East Village has feature importance of 0.00455212021411\n",
      "Midtown has feature importance of 0.00415201938608\n",
      "SoHo has feature importance of 0.0\n",
      "Chelsea has feature importance of 0.0\n",
      "Flatiron District has feature importance of 0.0\n",
      "Harlem has feature importance of 0.0497001553105\n",
      "Tribeca has feature importance of 0.00150777448319\n",
      "Upper West Side has feature importance of 0.00140550036058\n",
      "Upper East Side has feature importance of 0.0115766630113\n",
      "Financial District has feature importance of 0.000953066951932\n",
      "Greenwich Village has feature importance of 0.0\n",
      "Kips Bay has feature importance of 0.000734232096663\n",
      "Theater District has feature importance of 0.0\n",
      "Nolita has feature importance of 0.0\n",
      "NoHo has feature importance of 0.0\n",
      "Lower East Side has feature importance of 0.0\n",
      "Little Italy has feature importance of 0.0\n",
      "Chinatown has feature importance of 0.0\n",
      "Murray Hill has feature importance of 0.00093495172771\n",
      "Washington Heights has feature importance of 0.0421592869891\n",
      "East Harlem has feature importance of 0.0330736169945\n",
      "Stuyvesant Town has feature importance of 0.0\n",
      "Battery Park City has feature importance of 0.0\n",
      "Inwood has feature importance of 0.021412145752\n",
      "Civic Center has feature importance of 0.0\n",
      "Two Bridges has feature importance of 0.0\n",
      "Roosevelt Island has feature importance of 0.0\n",
      "Marble Hill has feature importance of 0.0\n",
      "Shared room has feature importance of 0.0208027827197\n",
      "Entire home/apt has feature importance of 0.520168763098\n",
      "Private room has feature importance of 0.0\n",
      "minimum_nights has feature importance of 0.0439052998542\n",
      "number_of_reviews has feature importance of 0.0622898662875\n",
      "calculated_host_listings_count has feature importance of 0.0534830278237\n",
      "availability_365 has feature importance of 0.112210439909\n"
     ]
    }
   ],
   "source": [
    "#calculate feature importance for price predictions from Decision Trees\n",
    "feature_imp_pr_dt = dt_pr.feature_importances_\n",
    "attribute_names = listNYC_Manhattan[exp_attributes_pr].columns\n",
    "for feature_imp, name in zip(feature_imp_pr_dt,attribute_names):\n",
    "    print(name, 'has feature importance of', feature_imp)"
   ]
  },
  {
   "cell_type": "code",
   "execution_count": 118,
   "metadata": {},
   "outputs": [
    {
     "data": {
      "image/png": "[encoded data removed]",
      "text/plain": [
       "<matplotlib.figure.Figure at 0x11f4af290>"
      ]
     },
     "metadata": {},
     "output_type": "display_data"
    }
   ],
   "source": [
    "#show graph for feature importance for Decision Tree Classifier \n",
    "plt.barh(range(len(feature_imp_pr_dt)), feature_imp_pr_dt)\n",
    "plt.title(\"Feature importance for Decision Tree Classifier\")\n",
    "plt.show()"
   ]
  },
  {
   "cell_type": "markdown",
   "metadata": {},
   "source": [
    "### SECOND PREDICTION: Manhattan \"Neighbourhood\" of AirBnB Listing"
   ]
  },
  {
   "cell_type": "markdown",
   "metadata": {},
   "source": [
    "#### Setting up training and test data for neighbourhood prediction"
   ]
  },
  {
   "cell_type": "code",
   "execution_count": 119,
   "metadata": {},
   "outputs": [
    {
     "name": "stdout",
     "output_type": "stream",
     "text": [
      "cv: StratifiedShuffleSplit(labels=[[1 0 0 ..., 0 0 0]\n",
      " [0 1 0 ..., 0 0 0]\n",
      " [0 0 1 ..., 0 0 0]\n",
      " ..., \n",
      " [0 0 0 ..., 0 0 0]\n",
      " [0 0 0 ..., 0 0 0]\n",
      " [0 0 0 ..., 0 0 0]], n_iter=5, test_size=0.2, random_state=None)\n"
     ]
    }
   ],
   "source": [
    "# create train and test sets for listNYC_Manhattan to predict neighbourhood\n",
    "exp_attributes_ng = attributes_price_range + attributes_room_type + actual_attributes\n",
    "\n",
    "listNYC_Manhattan.target_ng = listNYC_Manhattan[attributes_neighbourhoods].values\n",
    "listNYC_Manhattan.data_ng = listNYC_Manhattan[exp_attributes_ng].values\n",
    "listNYC_Manhattan_ng_cv = StratifiedShuffleSplit(listNYC_Manhattan.target_ng\n",
    "                                              , n_iter = 5\n",
    "                                              , test_size = 0.2\n",
    "                                              , train_size=0.8)\n",
    "\n",
    "print('cv:',listNYC_Manhattan_ng_cv)\n",
    "\n",
    "for trainidx, testidx in listNYC_Manhattan_ng_cv:\n",
    "    X_ng_train = listNYC_Manhattan.data_ng[trainidx] \n",
    "    X_ng_test = listNYC_Manhattan.data_ng[testidx] \n",
    "    y_ng_train = listNYC_Manhattan.target_ng[trainidx]\n",
    "    y_ng_test = listNYC_Manhattan.target_ng[testidx]\n",
    "\n",
    "X_ng = listNYC_Manhattan.data_ng\n",
    "y_ng = listNYC_Manhattan.target_ng\n",
    "yhat_ng = np.zeros(y_ng.shape)"
   ]
  },
  {
   "cell_type": "markdown",
   "metadata": {},
   "source": [
    "#### Neighbourhood prediction using KNN"
   ]
  },
  {
   "cell_type": "code",
   "execution_count": 120,
   "metadata": {},
   "outputs": [
    {
     "name": "stdout",
     "output_type": "stream",
     "text": [
      "accuracy: 0.785947910357\n",
      "Accuracy of classifier to predict neighbourhood with 5 neighbors with K=5 is: 0.79\n"
     ]
    }
   ],
   "source": [
    "# calculate accuracy for neighbourhood prediction using KNN\n",
    "K = 5 \n",
    "clf_ng = KNeighborsClassifier(n_neighbors=K, weights='uniform', metric='euclidean')\n",
    "\n",
    "for train, test in listNYC_Manhattan_ng_cv:\n",
    "    clf_ng.fit(X_ng[train],y_ng[train])\n",
    "    yhat_ng[test] = clf_ng.predict(X_ng[test])\n",
    "    \n",
    "acc_clf_ng = mt.accuracy_score(y_ng, yhat_ng)\n",
    "\n",
    "print ('accuracy:',acc_clf_ng)\n",
    "print('Accuracy of classifier to predict neighbourhood with %d neighbors with K=5 is: %.2f'%(K,acc_clf_ng))"
   ]
  },
  {
   "cell_type": "markdown",
   "metadata": {},
   "source": [
    "#### Neighbourhood prediction using Random Forest"
   ]
  },
  {
   "cell_type": "code",
   "execution_count": 121,
   "metadata": {},
   "outputs": [
    {
     "name": "stdout",
     "output_type": "stream",
     "text": [
      "accuracy for neighbourhood prediction with RandomForest:  0.775832828589\n"
     ]
    }
   ],
   "source": [
    "# calculate accuracy for neighbourhood prediction using Random Forest\n",
    "forest_ng = RandomForestClassifier(n_estimators = 10)\n",
    "\n",
    "for train, test in listNYC_Manhattan_ng_cv:\n",
    "    forest_ng.fit(X_ng[train],y_ng[train])\n",
    "    yhat_ng[test] = forest_ng.predict(X_ng[test])\n",
    "    \n",
    "acc_ng= mt.accuracy_score(y_ng, yhat_ng)\n",
    "print('accuracy for neighbourhood prediction with RandomForest: ', acc_ng)"
   ]
  },
  {
   "cell_type": "code",
   "execution_count": 122,
   "metadata": {},
   "outputs": [
    {
     "name": "stdout",
     "output_type": "stream",
     "text": [
      "950+ has feature importance of 0.000863967841373\n",
      "900-949 has feature importance of 0.000381415196682\n",
      "850-899 has feature importance of 0.000678546414514\n",
      "800-849 has feature importance of 0.000531184062131\n",
      "750-799 has feature importance of 0.00107473522913\n",
      "700-749 has feature importance of 0.000874177359002\n",
      "650-699 has feature importance of 0.00124312024017\n",
      "600-649 has feature importance of 0.00130441868709\n",
      "550-599 has feature importance of 0.00179665207753\n",
      "500-549 has feature importance of 0.00168304324938\n",
      "450-499 has feature importance of 0.00266213693154\n",
      "400-449 has feature importance of 0.00236872093163\n",
      "350-399 has feature importance of 0.00237058194815\n",
      "300-349 has feature importance of 0.00321803438368\n",
      "250-299 has feature importance of 0.00391933745332\n",
      "200-249 has feature importance of 0.00382651874648\n",
      "150-199 has feature importance of 0.00390993492249\n",
      "100-149 has feature importance of 0.00396900798066\n",
      "50-99 has feature importance of 0.00733711334428\n",
      "0-49 has feature importance of 0.00471757738158\n",
      "Shared room has feature importance of 0.00204387801236\n",
      "Entire home/apt has feature importance of 0.00464006998963\n",
      "Private room has feature importance of 0.00399981294186\n",
      "minimum_nights has feature importance of 0.117627733992\n",
      "number_of_reviews has feature importance of 0.293951500267\n",
      "calculated_host_listings_count has feature importance of 0.0609488382759\n",
      "availability_365 has feature importance of 0.468057942141\n"
     ]
    }
   ],
   "source": [
    "#calculate feature importance for neighbourhood group predictions from Random Forest\n",
    "feature_imp_ng = forest_ng.feature_importances_ \n",
    "attribute_names = listNYC_Manhattan[exp_attributes_ng].columns\n",
    "for feature_imp, name in zip(feature_imp_ng, attribute_names):\n",
    "    print(name, 'has feature importance of', feature_imp)"
   ]
  },
  {
   "cell_type": "code",
   "execution_count": 123,
   "metadata": {},
   "outputs": [
    {
     "data": {
      "image/png": "[encoded data removed]",
      "text/plain": [
       "<matplotlib.figure.Figure at 0x124a8cd50>"
      ]
     },
     "metadata": {},
     "output_type": "display_data"
    }
   ],
   "source": [
    "#show graph for feature importance for Random Forest \n",
    "plt.barh(range(len(feature_imp_ng)), feature_imp_ng)\n",
    "plt.title(\"Feature importance for Random Forest\")\n",
    "plt.show()"
   ]
  },
  {
   "cell_type": "markdown",
   "metadata": {},
   "source": [
    "#### Neighbourhood prediction using Decision Tree"
   ]
  },
  {
   "cell_type": "code",
   "execution_count": 125,
   "metadata": {},
   "outputs": [
    {
     "name": "stdout",
     "output_type": "stream",
     "text": [
      "accuracy for price range prediction with Decision Tree:  0.772562083586\n"
     ]
    }
   ],
   "source": [
    "# calculate accuracy for neighbourhood prediction using Decision Trees:\n",
    "dt_ng = DecisionTreeClassifier(criterion='gini', max_depth=None, \n",
    "                                min_samples_split=2, min_samples_leaf=1, \n",
    "                                max_features=None, \n",
    "                                max_leaf_nodes=None)\n",
    "\n",
    "for train, test in listNYC_Manhattan_ng_cv:\n",
    "    dt_ng.fit(X_ng[train],y_ng[train])\n",
    "    yhat_ng[test] = dt_ng.predict(X_ng[test])\n",
    "    \n",
    "acc_dt_ng= mt.accuracy_score(y_ng, yhat_ng)\n",
    "print('accuracy for price range prediction with Decision Tree: ', acc_dt_ng)"
   ]
  },
  {
   "cell_type": "code",
   "execution_count": 126,
   "metadata": {},
   "outputs": [
    {
     "name": "stdout",
     "output_type": "stream",
     "text": [
      "950+ has feature importance of 0.000866420868032\n",
      "900-949 has feature importance of 0.000277150633717\n",
      "850-899 has feature importance of 0.000438658139692\n",
      "800-849 has feature importance of 0.000929726681913\n",
      "750-799 has feature importance of 0.000943659071437\n",
      "700-749 has feature importance of 0.00077781068593\n",
      "650-699 has feature importance of 0.00154094588645\n",
      "600-649 has feature importance of 0.000868316926516\n",
      "550-599 has feature importance of 0.00198460833875\n",
      "500-549 has feature importance of 0.00170507481655\n",
      "450-499 has feature importance of 0.00397670046529\n",
      "400-449 has feature importance of 0.00362592339979\n",
      "350-399 has feature importance of 0.00557425535074\n",
      "300-349 has feature importance of 0.00750814127187\n",
      "250-299 has feature importance of 0.00815414392383\n",
      "200-249 has feature importance of 0.00976729790072\n",
      "150-199 has feature importance of 0.000700531038601\n",
      "100-149 has feature importance of 0.00247628345702\n",
      "50-99 has feature importance of 0.00770755854534\n",
      "0-49 has feature importance of 0.00694688847348\n",
      "Shared room has feature importance of 0.00569568783942\n",
      "Entire home/apt has feature importance of 0.00890322897617\n",
      "Private room has feature importance of 0.0106865253588\n",
      "minimum_nights has feature importance of 0.165583101428\n",
      "number_of_reviews has feature importance of 0.280673746254\n",
      "calculated_host_listings_count has feature importance of 0.0614455245656\n",
      "availability_365 has feature importance of 0.400242089703\n"
     ]
    }
   ],
   "source": [
    "#calculate feature importance for neighbourhood group from Decision Tree\n",
    "feature_imp_ng_dt = dt_ng.feature_importances_\n",
    "attribute_names = listNYC_Manhattan[exp_attributes_ng].columns\n",
    "for feature_imp, name in zip(feature_imp_ng_dt,attribute_names):\n",
    "    print(name, 'has feature importance of', feature_imp)"
   ]
  },
  {
   "cell_type": "code",
   "execution_count": 127,
   "metadata": {},
   "outputs": [
    {
     "data": {
      "image/png": "[encoded data removed]",
      "text/plain": [
       "<matplotlib.figure.Figure at 0x121a1b6d0>"
      ]
     },
     "metadata": {},
     "output_type": "display_data"
    }
   ],
   "source": [
    "#show graph for feature importance for Decision Tree Classifier \n",
    "plt.barh(range(len(feature_imp_ng_dt)), feature_imp_ng_dt)\n",
    "plt.title(\"Feature importance for Decision Tree Classifier\")\n",
    "plt.show()"
   ]
  },
  {
   "cell_type": "markdown",
   "metadata": {},
   "source": [
    "### 2d. Analyze the Results using your chosen method of evaluation"
   ]
  },
  {
   "cell_type": "markdown",
   "metadata": {},
   "source": [
    "When attempting to predict price level via k-Nearest Neighbors, Random Forest, and Decision Trees, the accuracies were 0.885, 0.884, and 0.976, respectively. When attempting to predict the neighbourhood for the same models, the accuracy levels were 0.785, 0.776, and 0.772, respectively.\n",
    "\n",
    "The reason why Decision Trees tended to score much higher in terms of accuracy for price level is mostly due to the \"pruning\" techniques administered as well as other criteria. Basically, with \"entropy\" as our main criteria and setting out maximum depth to 10, we were able to achieve this level of accuracy. But when using Decision Trees to determine the neighbourhood, the \"pruning\" needed to not happen nearly as much, with no Maximum Depth required and the criteria to be \"gini\" instead of entropy. Even with no limit on the maximum number of levels, the Decision Tree was still not as useful as both the KNN or the Random Forest models were.\n",
    "\n",
    "#### Testing the Significance Between Models' Results\n",
    "###### By running a simple t-test between each of the model's results, we observe that the differences between the KNN model and the Random Forest model have a p-value of approximately 0.31, meaning that the results of those two models are not considered to be statisitically significant and the results could potentially waver just enough where Random Forest could become equal with or even become higher in terms of accuracy than the KNN model. Furthermore, the results of the test for the neighborhood prediction received similar results, with a nearly identical p-value and no significant difference between all three of the models used above. \n",
    "\n",
    "However, even with the accuracy seen in the first Decision Tree for price, it may make more sense to go with the success of the KNN model for this particular exercise. With only looking at 5 of its nearest records, this model is able to accurately predict the price level 89% of the time with price and 79% of the time for the neighborhood. The way in which this model functions aligns greatly with some of the suggestions that are discussed in the Deployment section of the notebook in regards to how useful this predictive model would be and why.\n",
    "\n",
    "As with the Random Forest Classifier, even though it also predicted very well, it was slightly less accurate than KNN by 0.05 percentage points for price and nearly 0.1 percentage points for neighbourhood. Since KNN fits better with how we believe this model would work, Random Forest would not be as desirable overall."
   ]
  },
  {
   "cell_type": "markdown",
   "metadata": {},
   "source": [
    "### 2e. Discuss the advantages of each model for each task and why?"
   ]
  },
  {
   "cell_type": "markdown",
   "metadata": {},
   "source": [
    "##### k-Nearest Neighbors\n",
    "Overall, it makes sense that k-Nearest Neighbors is the model that seems to work the best from an accuracy perspective. The city of New York, specifically the island of Manhattan, is made up of several smaller neighborhoods (31 in Manhattan) with each of these neighborhoods offering their own unique \"New York City\" quality and feel, from Hell's Kitchen to the Theater District to Harlem to SoHo, just to name a few. With hosts highlighting those qualities within a listing on AirBnB, it's no real surprise that KNN provided the most accurate model, even if just by a couple of percentage points.\n",
    "\n",
    "For the \"price range\" prediction, the advantages of using the KNN method to predict price range as well as the number of \"neighbors\" we chose heavily favors the way in which a site like AirBnB truly operates. Because when determining price range is not purely focused on attributes such as \"number of reviews\" or \"minimum nights\", this method is largely looking at attributes such as \"room type\" and even more importantly the one-hot encoded neighborhood where the listing is located. For example, if we are predicting the price range of a private room in the West Village that is available year-round, our KNN model will look to the 5-nearest neighbors to predict that price range, and because Manhattan is so neighborhood-centric, our model is essentially correct 89% of the time.\n",
    "\n",
    "When looking at predicting the \"neighborhood\" of the listing in Manhattan, the accuracy (although not as high as 89%) was still favorable at 78% for the KNN model. Similar to how the model worked when determining the price range, the one-hot encoded attributes of price range were used for this model and essentially worked in the same way, locating the nearest neihgbors sharing those listing's qualities and accurately predicting the correct neighborhood 4 out of 5 times. The accuracy is less for neighborhood most likely because there will always be a listing that for whatever reason is priced unreasonably low or unreasonably high and without the model knowing the context of those listings initially, the accuracy may decrease. In order to increase the accuracy, looking in more detail at the listings that were inaccurately predicted will provide us with more insight and we can go back and tweak future models to take those insights into consideration.\n",
    "\n",
    "##### Random Forest\n",
    "It is no surprise that the Random Forest model performed at basically the same level as the KNN model did due to how this model is set up. Not only does the randomness of the samples help with this particular dataset, but it aids in removing any of the bias the data may have underneath. The bias in this case would be how weighted some categories may be compared to others, such as certain neighbourhoods or price ranges as well as the other attributes such as availability and minimum nights. However, even though Random Forest proved to be a good model, it is not necessarily the ideal model in the case of this dataset as discussed above.\n",
    "\n",
    "##### Decision Tree\n",
    "Because there is so much customization that goes into running a Decision Tree model, this type of classification is not necessarily ideal with this particular dataset. A Decision Tree, unless otherwise told not to, can continue splitting its classes until there is only one record in a certain node. Even though this is accurate nearly 100% of the time, it doesn't do our any better in the case of predicting neighbourhood."
   ]
  },
  {
   "cell_type": "markdown",
   "metadata": {},
   "source": [
    "### 2f. Which attributes from your analysis are most important?"
   ]
  },
  {
   "cell_type": "markdown",
   "metadata": {},
   "source": [
    "#### The insights below refer specifically to the feature importance list from the Random Forest model\n",
    "\n",
    "##### Attributes of Predicting Price Range\n",
    "Because when we one-hot encode all of the neighbourhoods as well as placing each of the prices into one of 50 price bins, the relative importance of these attributes are much less significant in terms of the weight; however, when viewed in aggregate, they are nearly in-line with all of the other attributes used in the model. \n",
    "\n",
    "Interestingly enough, the availability (0.338), number of reviews (0.249) and minimum nights (0.115) seemed to be the most weighted attributes, specifically in the Random Forest model, with Room Type (the aggregate of Private/Shared/Entire Apt Rooms) at the aggregate level having a similar impact  as minimum nights at approximately 0.117.\n",
    "\n",
    "##### Attributes of Predicting Neighbourhood\n",
    "The primary attributes that seemed to have a higher relative importance were somewhat surprisingly the availability of a listing (i.e. how many days a year is this listing available?) at a weight of 0.475 and the number of reviews a listing received at 0.289. The number of reviews makes more sense than availability does overall because neighbourhoods that may have more listings may also have more reviews in aggregate. Similar to the availability attribute, a majority of listings are available year-round, so this would tend to weigh heavily for those listings which may not be available 365 days a year. \n",
    "\n",
    "Additionally, similar to what we observed in predicting price range, the price range at the individual level was extremely small when predicting neighbourhood; however, when added up in aggregate, knowing the price range definitely played a role in helping to determine the neighbourhood."
   ]
  },
  {
   "cell_type": "markdown",
   "metadata": {},
   "source": [
    "## 3. Deployment"
   ]
  },
  {
   "cell_type": "markdown",
   "metadata": {},
   "source": [
    "##### How useful is your model for interested parties?\n",
    "Just like any hotel or accommodation website that aggregates listings of various places to stay within a city, the competitive landscape is going to be fierce. Because the model(s) are attempting to predict either the price bin/range or the neighbourhood, there are essentially two primary ways to effectively use the models presented. \n",
    "\n",
    "First, for consumers of the website, it could be a more accurate representation of \"similar listings\" that are currenty available per the user's criteria. For example, a listing near Central Park is priced at 166 USD; however, their \"similar\" listings are not only an average of 1.5 miles away (which is quite the distance in Manhattan), but their respective prices range from 97 USD to 197 USD. Our proposed model would be able to offer listings that are not only closer in proximity but are also closer within the price range of the listing being viewed. The elimination of these variables from a decision-making process allows the consumer to focus on more qualitative attributes, such as the types of restaurants or attractions nearby or even the characteristics of the apartment itself.\n",
    "\n",
    "Second, the model could lend itself to providing more insights to the hosts who provide listings on AirBnB, thereby ensuring the host that the prices they are setting can be considered competitive based on other listings that have been classified similarly. For example, if a host is creating a listing for a whole apartment in the Tribeca neighborhood of Manhattan and this particular is one of five total listings, the classification model can accurately provide the host with an appropriate price range that listing should fall into. At this point, they can choose to go high or low or stay within the given range for the listing and take their chances on a booking based on that decision.\n",
    "\n",
    "##### How would you measure the model's value if it was used by these parties?\n",
    "There are potentially several key performance indicators or KPIs that AirBnB could observe to measure the value of implementing this model based on the two scenarios provided above. \n",
    "\n",
    "For the consumer/similar listings usage, AirBnB can perform several A/B Tests on various listings, where the model is used to showcase similar listings vs. a control group that uses the current model to display similar listings. The measure of success in this case would be the \"click-through rate\" of a user engaging with this particular piece of content, which is simpaly calculated as the total number of pageviews to a certain listing divided by the total number of clicks on a similar listing. This measure can be looked at both from an aggregated as well as a very granular level of detail to better understand how the models affect this KPI for various neighborhoods, room types, etc.\n",
    "\n",
    "FOr the host/listing price usage, a similar type of KPI can be observed as well. A \"booking rate\" can be calculated by the number of times a listing was viewed vs. the total number of bookings within a certain time period. The model's effectiveness can be tested by grouping listings that stay within the price range suggested (i.e. \"following the model\") for a listing vs. those listings that do not follow the guidance of the suggested price range. If the booking rate showed to be successful for ones that followed the model's recommendations, it could be assumed that the reason higher-priced listings did not book as well is because users found similar listings for less and booked them instead, whereas listings that were lower than the suggested price range could have been seen as a listing with possible issues that were not directly addressed in the listing itself, therefore causing users to pay a little more for what is only assumed to be a better apartment in the area because it is only slightly more in overall price.\n",
    "\n",
    "##### How would your deploy your model for interested parties?\n",
    "For the consumers of the website, the model could be deployed like any typical algorithm or model is for similar websites. In order to retrieve similar listings, AirBnB would have to analyze a \"live dataset\" of listings that have the model's predictability applied to it and based on either an accuracy score or precision score, the top 3 listings are sent back to the website to be served up as \"similar listings\" that share attributes with the listing being viewed.\n",
    "\n",
    "For the hosts that use AirBnB, a user interface could be created (which is likely already in place) where a host inputs all of the necessary information for a listing to be approved. Within that interface would be a newly-added section that provides a \"suggested price range\" to the host. At this point, it is up to the host to place their price on the listing, but the model at the least provides the host with useful information and giving insight into what other listings are currently priced at for similar attributes.\n",
    "\n",
    "##### What other data should be collected?\n",
    "There wouldn't be too much more that would likely improve the model overall; however, other attributes over time may be looked at as valuable if/when price range and neighborhood is no longer an accurate-enough model. Other attributes that have more to do with room characteristics that can be quantified as well as being able to provide a quantitative value to \"nearby\" qualities may be useful. For example, being able to state how many restaurants are within 0.5 miles of the listing or the actual distance to the nearest subway station may be useful attributes for a city such as Manhattan. However, if this model were to be more widely used, the model may have to be modified to align with a city's unique traits. For example, in Atlanta, the distance to the nearest MARTA station is basically irrelevant (Atlanta's Mass Transit is horrible); but the distance to specific neighborhoods such as Midtown or Buckhead or the distance to Peachtree Street (the main \"street\" that runs the length of Atlanta) could be considered more useful to people viewing listings in that city.\n",
    "\n",
    "##### How often would the model need to be updated, etc.?\n",
    "According to AirBnB's website where they publish their listing data, the frequency of New York City's listings being udpated is monthly; therefore, it would be recommended to re-train and test the model on a monthly basis. Performing this task at this frequency level may also assist with changes in price ranges due to seasonality and other time-series-based shifts in the data being observed."
   ]
  }
 ],
 "metadata": {
  "kernelspec": {
   "display_name": "Python 3",
   "language": "python",
   "name": "python3"
  },
  "language_info": {
   "codemirror_mode": {
    "name": "ipython",
    "version": 3
   },
   "file_extension": ".py",
   "mimetype": "text/x-python",
   "name": "python",
   "nbconvert_exporter": "python",
   "pygments_lexer": "ipython3",
   "version": "3.6.3"
  }
 },
 "nbformat": 4,
 "nbformat_minor": 1
}
